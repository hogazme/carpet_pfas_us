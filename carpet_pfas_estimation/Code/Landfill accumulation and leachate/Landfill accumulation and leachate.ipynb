{
 "cells": [
  {
   "cell_type": "code",
   "execution_count": 1,
   "id": "9a9b834e-c498-45a8-a29d-2c6533fa6273",
   "metadata": {},
   "outputs": [],
   "source": [
    "import pandas as pd\n",
    "import numpy as np"
   ]
  },
  {
   "cell_type": "code",
   "execution_count": 2,
   "id": "a73ca3bb-575c-4885-9a9c-6731213dd5b5",
   "metadata": {},
   "outputs": [],
   "source": [
    "df_landfill_template = pd.read_csv('C:/Users/mchen48/Box/01 Research/PFASs/PFASs_in_Carpet/landfille/Landfill_Final_W_CountyInform.csv',encoding='latin-1')"
   ]
  },
  {
   "cell_type": "code",
   "execution_count": 3,
   "id": "c5f3c0a4-0e84-479c-a35f-e77066d283dc",
   "metadata": {},
   "outputs": [
    {
     "data": {
      "text/html": [
       "<div>\n",
       "<style scoped>\n",
       "    .dataframe tbody tr th:only-of-type {\n",
       "        vertical-align: middle;\n",
       "    }\n",
       "\n",
       "    .dataframe tbody tr th {\n",
       "        vertical-align: top;\n",
       "    }\n",
       "\n",
       "    .dataframe thead th {\n",
       "        text-align: right;\n",
       "    }\n",
       "</style>\n",
       "<table border=\"1\" class=\"dataframe\">\n",
       "  <thead>\n",
       "    <tr style=\"text-align: right;\">\n",
       "      <th></th>\n",
       "      <th>facility_id</th>\n",
       "      <th>Landfill Name</th>\n",
       "      <th>Address</th>\n",
       "      <th>facility_y</th>\n",
       "      <th>facility_x</th>\n",
       "      <th>Year Landfill Opened</th>\n",
       "      <th>Landfill Closure Year</th>\n",
       "      <th>STATEFP</th>\n",
       "      <th>COUNTYFP</th>\n",
       "      <th>GEOID</th>\n",
       "      <th>NAMELSAD</th>\n",
       "    </tr>\n",
       "  </thead>\n",
       "  <tbody>\n",
       "    <tr>\n",
       "      <th>0</th>\n",
       "      <td>2</td>\n",
       "      <td>City of Decatur-Morgan County Regional MSW Lan...</td>\n",
       "      <td>500 Landfill Drive</td>\n",
       "      <td>34.617500</td>\n",
       "      <td>-87.101630</td>\n",
       "      <td>1980</td>\n",
       "      <td>2051</td>\n",
       "      <td>1</td>\n",
       "      <td>103</td>\n",
       "      <td>1103</td>\n",
       "      <td>Morgan County</td>\n",
       "    </tr>\n",
       "    <tr>\n",
       "      <th>1</th>\n",
       "      <td>4</td>\n",
       "      <td>Cullman Environmental Waste Management Center</td>\n",
       "      <td>2805 AL Highway 69 South</td>\n",
       "      <td>34.028780</td>\n",
       "      <td>-86.900690</td>\n",
       "      <td>1993</td>\n",
       "      <td>2040</td>\n",
       "      <td>1</td>\n",
       "      <td>43</td>\n",
       "      <td>1043</td>\n",
       "      <td>Cullman County</td>\n",
       "    </tr>\n",
       "    <tr>\n",
       "      <th>2</th>\n",
       "      <td>5</td>\n",
       "      <td>Shelby County Highway 70 Landfill</td>\n",
       "      <td>4154 Highway 70\\n401 Landfill Road</td>\n",
       "      <td>33.171785</td>\n",
       "      <td>-86.687566</td>\n",
       "      <td>1997</td>\n",
       "      <td>2055</td>\n",
       "      <td>1</td>\n",
       "      <td>117</td>\n",
       "      <td>1117</td>\n",
       "      <td>Shelby County</td>\n",
       "    </tr>\n",
       "    <tr>\n",
       "      <th>3</th>\n",
       "      <td>6</td>\n",
       "      <td>Calhoun County SLF</td>\n",
       "      <td>3625 Morrisville Road</td>\n",
       "      <td>33.675000</td>\n",
       "      <td>-85.920000</td>\n",
       "      <td>1969</td>\n",
       "      <td>1993</td>\n",
       "      <td>1</td>\n",
       "      <td>15</td>\n",
       "      <td>1015</td>\n",
       "      <td>Calhoun County</td>\n",
       "    </tr>\n",
       "    <tr>\n",
       "      <th>4</th>\n",
       "      <td>7</td>\n",
       "      <td>Star Ridge Landfill</td>\n",
       "      <td>3301 Acmar Road</td>\n",
       "      <td>33.605270</td>\n",
       "      <td>-86.516580</td>\n",
       "      <td>1983</td>\n",
       "      <td>2128</td>\n",
       "      <td>1</td>\n",
       "      <td>115</td>\n",
       "      <td>1115</td>\n",
       "      <td>St. Clair County</td>\n",
       "    </tr>\n",
       "    <tr>\n",
       "      <th>...</th>\n",
       "      <td>...</td>\n",
       "      <td>...</td>\n",
       "      <td>...</td>\n",
       "      <td>...</td>\n",
       "      <td>...</td>\n",
       "      <td>...</td>\n",
       "      <td>...</td>\n",
       "      <td>...</td>\n",
       "      <td>...</td>\n",
       "      <td>...</td>\n",
       "      <td>...</td>\n",
       "    </tr>\n",
       "    <tr>\n",
       "      <th>2274</th>\n",
       "      <td>4ae213e0-691d-439f-b348-b86bff68e73f</td>\n",
       "      <td>&lt;Null&gt;</td>\n",
       "      <td>12000 Blucher Ave</td>\n",
       "      <td>34.291152</td>\n",
       "      <td>-118.469876</td>\n",
       "      <td>&lt;Null&gt;</td>\n",
       "      <td>&lt;Null&gt;</td>\n",
       "      <td>6</td>\n",
       "      <td>37</td>\n",
       "      <td>6037</td>\n",
       "      <td>Los Angeles County</td>\n",
       "    </tr>\n",
       "    <tr>\n",
       "      <th>2275</th>\n",
       "      <td>a553472e-e5be-4d73-b429-f41d543e4c80</td>\n",
       "      <td>&lt;Null&gt;</td>\n",
       "      <td>2801 N Madera Rd</td>\n",
       "      <td>34.285221</td>\n",
       "      <td>-118.792269</td>\n",
       "      <td>&lt;Null&gt;</td>\n",
       "      <td>&lt;Null&gt;</td>\n",
       "      <td>6</td>\n",
       "      <td>111</td>\n",
       "      <td>6111</td>\n",
       "      <td>Ventura County</td>\n",
       "    </tr>\n",
       "    <tr>\n",
       "      <th>2276</th>\n",
       "      <td>e09a49ba-ee2c-4e95-9cd3-53cdc8d026ba</td>\n",
       "      <td>&lt;Null&gt;</td>\n",
       "      <td>7010 Auto Mall Pkwy</td>\n",
       "      <td>37.493631</td>\n",
       "      <td>-121.990815</td>\n",
       "      <td>&lt;Null&gt;</td>\n",
       "      <td>&lt;Null&gt;</td>\n",
       "      <td>6</td>\n",
       "      <td>1</td>\n",
       "      <td>6001</td>\n",
       "      <td>Alameda County</td>\n",
       "    </tr>\n",
       "    <tr>\n",
       "      <th>2277</th>\n",
       "      <td>fb92863e-8d6e-449d-bb3b-d08228675eaf</td>\n",
       "      <td>&lt;Null&gt;</td>\n",
       "      <td>280 Offal Rd</td>\n",
       "      <td>38.555199</td>\n",
       "      <td>-119.454642</td>\n",
       "      <td>&lt;Null&gt;</td>\n",
       "      <td>&lt;Null&gt;</td>\n",
       "      <td>6</td>\n",
       "      <td>51</td>\n",
       "      <td>6051</td>\n",
       "      <td>Mono County</td>\n",
       "    </tr>\n",
       "    <tr>\n",
       "      <th>2278</th>\n",
       "      <td>8f3fa5b7-801e-41e7-bfe4-567a711a08ba</td>\n",
       "      <td>&lt;Null&gt;</td>\n",
       "      <td>104 E Robinson Rd</td>\n",
       "      <td>32.854700</td>\n",
       "      <td>-115.525050</td>\n",
       "      <td>&lt;Null&gt;</td>\n",
       "      <td>&lt;Null&gt;</td>\n",
       "      <td>6</td>\n",
       "      <td>25</td>\n",
       "      <td>6025</td>\n",
       "      <td>Imperial County</td>\n",
       "    </tr>\n",
       "  </tbody>\n",
       "</table>\n",
       "<p>2279 rows × 11 columns</p>\n",
       "</div>"
      ],
      "text/plain": [
       "                               facility_id  \\\n",
       "0                                        2   \n",
       "1                                        4   \n",
       "2                                        5   \n",
       "3                                        6   \n",
       "4                                        7   \n",
       "...                                    ...   \n",
       "2274  4ae213e0-691d-439f-b348-b86bff68e73f   \n",
       "2275  a553472e-e5be-4d73-b429-f41d543e4c80   \n",
       "2276  e09a49ba-ee2c-4e95-9cd3-53cdc8d026ba   \n",
       "2277  fb92863e-8d6e-449d-bb3b-d08228675eaf   \n",
       "2278  8f3fa5b7-801e-41e7-bfe4-567a711a08ba   \n",
       "\n",
       "                                          Landfill Name  \\\n",
       "0     City of Decatur-Morgan County Regional MSW Lan...   \n",
       "1         Cullman Environmental Waste Management Center   \n",
       "2                     Shelby County Highway 70 Landfill   \n",
       "3                                    Calhoun County SLF   \n",
       "4                                   Star Ridge Landfill   \n",
       "...                                                 ...   \n",
       "2274                                             <Null>   \n",
       "2275                                             <Null>   \n",
       "2276                                             <Null>   \n",
       "2277                                             <Null>   \n",
       "2278                                             <Null>   \n",
       "\n",
       "                                 Address  facility_y  facility_x  \\\n",
       "0                     500 Landfill Drive   34.617500  -87.101630   \n",
       "1               2805 AL Highway 69 South   34.028780  -86.900690   \n",
       "2     4154 Highway 70\\n401 Landfill Road   33.171785  -86.687566   \n",
       "3                  3625 Morrisville Road   33.675000  -85.920000   \n",
       "4                        3301 Acmar Road   33.605270  -86.516580   \n",
       "...                                  ...         ...         ...   \n",
       "2274                   12000 Blucher Ave   34.291152 -118.469876   \n",
       "2275                    2801 N Madera Rd   34.285221 -118.792269   \n",
       "2276                 7010 Auto Mall Pkwy   37.493631 -121.990815   \n",
       "2277                        280 Offal Rd   38.555199 -119.454642   \n",
       "2278                   104 E Robinson Rd   32.854700 -115.525050   \n",
       "\n",
       "     Year Landfill Opened Landfill Closure Year  STATEFP  COUNTYFP  GEOID  \\\n",
       "0                    1980                  2051        1       103   1103   \n",
       "1                    1993                  2040        1        43   1043   \n",
       "2                    1997                  2055        1       117   1117   \n",
       "3                    1969                  1993        1        15   1015   \n",
       "4                    1983                  2128        1       115   1115   \n",
       "...                   ...                   ...      ...       ...    ...   \n",
       "2274               <Null>                <Null>        6        37   6037   \n",
       "2275               <Null>                <Null>        6       111   6111   \n",
       "2276               <Null>                <Null>        6         1   6001   \n",
       "2277               <Null>                <Null>        6        51   6051   \n",
       "2278               <Null>                <Null>        6        25   6025   \n",
       "\n",
       "                NAMELSAD  \n",
       "0          Morgan County  \n",
       "1         Cullman County  \n",
       "2          Shelby County  \n",
       "3         Calhoun County  \n",
       "4       St. Clair County  \n",
       "...                  ...  \n",
       "2274  Los Angeles County  \n",
       "2275      Ventura County  \n",
       "2276      Alameda County  \n",
       "2277         Mono County  \n",
       "2278     Imperial County  \n",
       "\n",
       "[2279 rows x 11 columns]"
      ]
     },
     "execution_count": 3,
     "metadata": {},
     "output_type": "execute_result"
    }
   ],
   "source": [
    "df_landfill_template"
   ]
  },
  {
   "cell_type": "markdown",
   "id": "aea62586-a063-4c5d-a6a2-2a385dd815aa",
   "metadata": {},
   "source": [
    "### Landfill PFAS accumulation_High_StatusQuo (with leachate)"
   ]
  },
  {
   "cell_type": "code",
   "execution_count": 4,
   "id": "09b3ff93-743a-41a3-bd65-204dfa221a2e",
   "metadata": {},
   "outputs": [],
   "source": [
    "df_landfill_yearly_High_StatusQuo_Merged = df_landfill_template.copy()\n",
    "for year in range(1990,2061):\n",
    "    df_landfill_yearly = pd.read_csv(f'C:/Users/mchen48/Box/01 Research/PFASs/PFASs_in_Carpet/01 Paper writing/processed_data/CTAccuYear_High_StatusQuo_results/CTAccuYear_High_StatusQuo_{year}_MLF_pfas_assigned.csv')\n",
    "    df_landfill_yearly_High_StatusQuo_Merged = pd.merge(df_landfill_yearly_High_StatusQuo_Merged, df_landfill_yearly[['facility_id',f'{year}']], how = 'left', left_on = ['facility_id'], right_on = ['facility_id'])"
   ]
  },
  {
   "cell_type": "code",
   "execution_count": 5,
   "id": "6fdb3e29-177e-4185-b39a-4ee4aa7b8bdb",
   "metadata": {},
   "outputs": [],
   "source": [
    "df_landfill_Accum_High_StatusQuo = df_landfill_yearly_High_StatusQuo_Merged.copy()\n",
    "df_landfill_Accum_High_StatusQuo.loc[:,'1990':'2060'] = df_landfill_Accum_High_StatusQuo.loc[:,'1990':'2060'].fillna(0)\n",
    "df_landfill_Accum_High_StatusQuo.loc[:,'1990':'2060'] = df_landfill_Accum_High_StatusQuo.loc[:,'1990':'2060'].cumsum(axis=1)"
   ]
  },
  {
   "cell_type": "code",
   "execution_count": 6,
   "id": "7e3280ed-1196-4a12-b6ae-d2e59334a9f0",
   "metadata": {},
   "outputs": [],
   "source": [
    "df_landfill_Accum_High_StatusQuo.to_csv('landfill_Accum_High_StatusQuo.csv',index = False)"
   ]
  },
  {
   "cell_type": "markdown",
   "id": "5f838723-985e-47b1-a2e7-0a5391dab427",
   "metadata": {},
   "source": [
    "### Landfill PFAS accumulation_High_Recycling (with leachate)"
   ]
  },
  {
   "cell_type": "code",
   "execution_count": 7,
   "id": "12ec5be6-c3f5-4a44-a15c-66982cb95b3e",
   "metadata": {},
   "outputs": [],
   "source": [
    "df_landfill_yearly_High_Recycling_Merged = df_landfill_template.copy()\n",
    "for year in range(1990,2061):\n",
    "    df_landfill_yearly = pd.read_csv(f'C:/Users/mchen48/Box/01 Research/PFASs/PFASs_in_Carpet/01 Paper writing/processed_data/CTAccuYear_High_Recycling_results/CTAccuYear_High_Recycling_{year}_MLF_pfas_assigned.csv')\n",
    "    df_landfill_yearly_High_Recycling_Merged = pd.merge(df_landfill_yearly_High_Recycling_Merged, df_landfill_yearly[['facility_id',f'{year}']], how = 'left', left_on = ['facility_id'], right_on = ['facility_id'])"
   ]
  },
  {
   "cell_type": "code",
   "execution_count": 8,
   "id": "36ac4b1a-89c8-4c4f-97ff-9c8f06fbdc2d",
   "metadata": {},
   "outputs": [],
   "source": [
    "df_landfill_Accum_High_Recycling = df_landfill_yearly_High_Recycling_Merged.copy()\n",
    "df_landfill_Accum_High_Recycling.loc[:,'1990':'2060'] = df_landfill_Accum_High_Recycling.loc[:,'1990':'2060'].fillna(0)\n",
    "df_landfill_Accum_High_Recycling.loc[:,'1990':'2060'] = df_landfill_Accum_High_Recycling.loc[:,'1990':'2060'].cumsum(axis=1)"
   ]
  },
  {
   "cell_type": "code",
   "execution_count": 9,
   "id": "e2549686-eab4-41d6-98de-82ab21415a73",
   "metadata": {},
   "outputs": [],
   "source": [
    "df_landfill_Accum_High_Recycling.to_csv('landfill_Accum_High_Recycling.csv',index = False)"
   ]
  },
  {
   "cell_type": "markdown",
   "id": "addaf091-91d0-4512-91ee-97b173bab839",
   "metadata": {},
   "source": [
    "### Landfill PFAS accumulation_High_PhaseOut (with leachate)"
   ]
  },
  {
   "cell_type": "code",
   "execution_count": 10,
   "id": "bfb5bc9b-3340-4dd1-9a71-5ed96f58c2a4",
   "metadata": {},
   "outputs": [],
   "source": [
    "df_landfill_yearly_High_PhaseOut_Merged = df_landfill_template.copy()\n",
    "for year in range(1990,2061):\n",
    "    df_landfill_yearly = pd.read_csv(f'C:/Users/mchen48/Box/01 Research/PFASs/PFASs_in_Carpet/01 Paper writing/processed_data/CTAccuYear_High_PhaseOut_results/CTAccuYear_High_PhaseOut_{year}_MLF_pfas_assigned.csv')\n",
    "    df_landfill_yearly_High_PhaseOut_Merged = pd.merge(df_landfill_yearly_High_PhaseOut_Merged, df_landfill_yearly[['facility_id',f'{year}']], how = 'left', left_on = ['facility_id'], right_on = ['facility_id'])"
   ]
  },
  {
   "cell_type": "code",
   "execution_count": 11,
   "id": "40e69dcd-84b5-4afb-abe8-30428b2a7436",
   "metadata": {},
   "outputs": [],
   "source": [
    "df_landfill_Accum_High_PhaseOut = df_landfill_yearly_High_PhaseOut_Merged.copy()\n",
    "df_landfill_Accum_High_PhaseOut.loc[:,'1990':'2060'] = df_landfill_Accum_High_PhaseOut.loc[:,'1990':'2060'].fillna(0)\n",
    "df_landfill_Accum_High_PhaseOut.loc[:,'1990':'2060'] = df_landfill_Accum_High_PhaseOut.loc[:,'1990':'2060'].cumsum(axis=1)"
   ]
  },
  {
   "cell_type": "code",
   "execution_count": 12,
   "id": "e674cb09-4a94-4630-adaa-05cda28834b0",
   "metadata": {},
   "outputs": [],
   "source": [
    "df_landfill_Accum_High_PhaseOut.to_csv('landfill_Accum_High_PhaseOut.csv',index = False)"
   ]
  },
  {
   "cell_type": "markdown",
   "id": "186c06be-697a-4dd1-be8c-89a291c53cdd",
   "metadata": {},
   "source": [
    "### Landfill PFAS accumulation_Low_StatusQuo  (with leachate)"
   ]
  },
  {
   "cell_type": "code",
   "execution_count": 13,
   "id": "9eb8f6a7-ca07-4c82-b5f9-b626a558752e",
   "metadata": {},
   "outputs": [],
   "source": [
    "df_landfill_yearly_Low_StatusQuo_Merged = df_landfill_template.copy()\n",
    "for year in range(1990,2061):\n",
    "    df_landfill_yearly = pd.read_csv(f'C:/Users/mchen48/Box/01 Research/PFASs/PFASs_in_Carpet/01 Paper writing/processed_data/CTAccuYear_Low_StatusQuo_results/CTAccuYear_Low_StatusQuo_{year}_MLF_pfas_assigned.csv')\n",
    "    df_landfill_yearly_Low_StatusQuo_Merged = pd.merge(df_landfill_yearly_Low_StatusQuo_Merged, df_landfill_yearly[['facility_id',f'{year}']], how = 'left', left_on = ['facility_id'], right_on = ['facility_id'])"
   ]
  },
  {
   "cell_type": "code",
   "execution_count": 14,
   "id": "0427283d-eb5d-4e6f-bed6-cb5ec24d7bc8",
   "metadata": {},
   "outputs": [],
   "source": [
    "df_landfill_Accum_Low_StatusQuo = df_landfill_yearly_Low_StatusQuo_Merged.copy()\n",
    "df_landfill_Accum_Low_StatusQuo.loc[:,'1990':'2060'] = df_landfill_Accum_Low_StatusQuo.loc[:,'1990':'2060'].fillna(0)\n",
    "df_landfill_Accum_Low_StatusQuo.loc[:,'1990':'2060'] = df_landfill_Accum_Low_StatusQuo.loc[:,'1990':'2060'].cumsum(axis=1)"
   ]
  },
  {
   "cell_type": "code",
   "execution_count": 15,
   "id": "0cc2ee1f-5d6c-4bc9-b392-4c17174cc36d",
   "metadata": {},
   "outputs": [],
   "source": [
    "df_landfill_Accum_Low_StatusQuo.to_csv('landfill_Accum_Low_StatusQuo.csv',index = False)"
   ]
  },
  {
   "cell_type": "markdown",
   "id": "702a0894-c0d0-4190-8af5-b9322ed36800",
   "metadata": {},
   "source": [
    "### Landfill PFAS accumulation_Low_Recycling  (with leachate)"
   ]
  },
  {
   "cell_type": "code",
   "execution_count": 16,
   "id": "473aaf7b-7a98-435b-9f3a-4a7dee2e14e7",
   "metadata": {},
   "outputs": [],
   "source": [
    "df_landfill_yearly_Low_Recycling_Merged = df_landfill_template.copy()\n",
    "for year in range(1990,2061):\n",
    "    df_landfill_yearly = pd.read_csv(f'C:/Users/mchen48/Box/01 Research/PFASs/PFASs_in_Carpet/01 Paper writing/processed_data/CTAccuYear_Low_Recycling_results/CTAccuYear_Low_Recycling_{year}_MLF_pfas_assigned.csv')\n",
    "    df_landfill_yearly_Low_Recycling_Merged = pd.merge(df_landfill_yearly_Low_Recycling_Merged, df_landfill_yearly[['facility_id',f'{year}']], how = 'left', left_on = ['facility_id'], right_on = ['facility_id'])"
   ]
  },
  {
   "cell_type": "code",
   "execution_count": 17,
   "id": "8959ca3e-9f8c-44a6-a383-680f9f33c16e",
   "metadata": {},
   "outputs": [],
   "source": [
    "df_landfill_Accum_Low_Recycling = df_landfill_yearly_Low_Recycling_Merged.copy()\n",
    "df_landfill_Accum_Low_Recycling.loc[:,'1990':'2060'] = df_landfill_Accum_Low_Recycling.loc[:,'1990':'2060'].fillna(0)\n",
    "df_landfill_Accum_Low_Recycling.loc[:,'1990':'2060'] = df_landfill_Accum_Low_Recycling.loc[:,'1990':'2060'].cumsum(axis=1)"
   ]
  },
  {
   "cell_type": "code",
   "execution_count": 18,
   "id": "3cda328d-9833-4580-a7c8-4d4fda1a5f40",
   "metadata": {},
   "outputs": [],
   "source": [
    "df_landfill_Accum_Low_Recycling.to_csv('landfill_Accum_Low_Recycling.csv',index = False)"
   ]
  },
  {
   "cell_type": "markdown",
   "id": "17da14c8-3b72-4439-8912-7cbbe1abde0b",
   "metadata": {},
   "source": [
    "### Landfill PFAS accumulation_Low_PhaseOut (with leachate)"
   ]
  },
  {
   "cell_type": "code",
   "execution_count": 19,
   "id": "e46cdc56-b0a2-4987-a1f1-e0cd184b3c74",
   "metadata": {},
   "outputs": [],
   "source": [
    "df_landfill_yearly_Low_PhaseOut_Merged = df_landfill_template.copy()\n",
    "for year in range(1990,2061):\n",
    "    df_landfill_yearly = pd.read_csv(f'C:/Users/mchen48/Box/01 Research/PFASs/PFASs_in_Carpet/01 Paper writing/processed_data/CTAccuYear_Low_PhaseOut_results/CTAccuYear_Low_PhaseOut_{year}_MLF_pfas_assigned.csv')\n",
    "    df_landfill_yearly_Low_PhaseOut_Merged = pd.merge(df_landfill_yearly_Low_PhaseOut_Merged, df_landfill_yearly[['facility_id',f'{year}']], how = 'left', left_on = ['facility_id'], right_on = ['facility_id'])"
   ]
  },
  {
   "cell_type": "code",
   "execution_count": 20,
   "id": "d71ed2e1-5d0a-4ad5-9c4c-3956e5ca03b5",
   "metadata": {},
   "outputs": [],
   "source": [
    "df_landfill_Accum_Low_PhaseOut = df_landfill_yearly_Low_PhaseOut_Merged.copy()\n",
    "df_landfill_Accum_Low_PhaseOut.loc[:,'1990':'2060'] = df_landfill_Accum_Low_PhaseOut.loc[:,'1990':'2060'].fillna(0)\n",
    "df_landfill_Accum_Low_PhaseOut.loc[:,'1990':'2060'] = df_landfill_Accum_Low_PhaseOut.loc[:,'1990':'2060'].cumsum(axis=1)"
   ]
  },
  {
   "cell_type": "code",
   "execution_count": 21,
   "id": "10b32039-0a3f-4eff-aca8-85bf37776a0d",
   "metadata": {},
   "outputs": [],
   "source": [
    "df_landfill_Accum_Low_PhaseOut.to_csv('landfill_Accum_Low_PhaseOut.csv',index = False)"
   ]
  },
  {
   "cell_type": "markdown",
   "id": "0ea082b1-f6ad-4f72-9a30-61ab363cf0a3",
   "metadata": {},
   "source": [
    "### Landfill carpet volume accumulation_StatusQuo"
   ]
  },
  {
   "cell_type": "code",
   "execution_count": 22,
   "id": "388fa1b7-2b77-4da1-9a5b-f0c3fb167992",
   "metadata": {},
   "outputs": [],
   "source": [
    "df_LFVolume_yearly_StatusQuo_Merged = df_landfill_template.copy()\n",
    "for year in range(1990,2061):\n",
    "    df_LFVolume_yearly = pd.read_csv(f'C:/Users/mchen48/Box/01 Research/PFASs/PFASs_in_Carpet/01 Paper writing/processed_data/CTVolumeYear_StatusQuo_results/CTVolumeYear_StatusQuo_{year}_MLF_pfas_assigned.csv')\n",
    "    df_LFVolume_yearly_StatusQuo_Merged = pd.merge(df_LFVolume_yearly_StatusQuo_Merged, df_LFVolume_yearly[['facility_id',f'{year}']], how = 'left', left_on = ['facility_id'], right_on = ['facility_id'])"
   ]
  },
  {
   "cell_type": "code",
   "execution_count": 23,
   "id": "00d99183-e01a-4b35-a6d2-0661420e7b4f",
   "metadata": {},
   "outputs": [],
   "source": [
    "df_LFVolume_Accum_StatusQuo = df_LFVolume_yearly_StatusQuo_Merged.copy()\n",
    "df_LFVolume_Accum_StatusQuo.loc[:,'1990':'2060'] = df_LFVolume_Accum_StatusQuo.loc[:,'1990':'2060'].fillna(0)\n",
    "df_LFVolume_Accum_StatusQuo.loc[:,'1990':'2060'] = df_LFVolume_Accum_StatusQuo.loc[:,'1990':'2060'].cumsum(axis=1)"
   ]
  },
  {
   "cell_type": "code",
   "execution_count": 24,
   "id": "dc671e82-2126-45bf-ab29-9f0d4c3d27c0",
   "metadata": {},
   "outputs": [],
   "source": [
    "df_LFMass_Accum_StatusQuo = df_LFVolume_Accum_StatusQuo.copy()"
   ]
  },
  {
   "cell_type": "code",
   "execution_count": 25,
   "id": "8315c229-0739-4370-a21e-47ab37e80ca2",
   "metadata": {},
   "outputs": [],
   "source": [
    "df_LFMass_Accum_StatusQuo.loc[:,'1990':'2060'] = df_LFMass_Accum_StatusQuo.loc[:,'1990':'2060'] * 23.9 * 1000  ## the unit is metric tons"
   ]
  },
  {
   "cell_type": "code",
   "execution_count": 26,
   "id": "3bea062f-7063-458e-a6bd-fe0ff438db2a",
   "metadata": {},
   "outputs": [],
   "source": [
    "df_LFMass_Accum_StatusQuo.to_csv('LFMass_Accum_StatusQuo.csv',index = False)"
   ]
  },
  {
   "cell_type": "markdown",
   "id": "d315ae57-87b1-48f1-bc1b-a08734f50495",
   "metadata": {},
   "source": [
    "### Landfill carpet volume accumulation_Recycling"
   ]
  },
  {
   "cell_type": "code",
   "execution_count": 27,
   "id": "bff6d82a-135a-4452-8489-e1fb2d06a139",
   "metadata": {},
   "outputs": [],
   "source": [
    "df_LFVolume_yearly_Recycling_Merged = df_landfill_template.copy()\n",
    "for year in range(1990,2061):\n",
    "    df_LFVolume_yearly = pd.read_csv(f'C:/Users/mchen48/Box/01 Research/PFASs/PFASs_in_Carpet/01 Paper writing/processed_data/CTVolumeYear_Recycling_results/CTVolumeYear_Recycling_{year}_MLF_pfas_assigned.csv')\n",
    "    df_LFVolume_yearly_Recycling_Merged = pd.merge(df_LFVolume_yearly_Recycling_Merged, df_LFVolume_yearly[['facility_id',f'{year}']], how = 'left', left_on = ['facility_id'], right_on = ['facility_id'])"
   ]
  },
  {
   "cell_type": "code",
   "execution_count": 28,
   "id": "44c36ae8-dd9a-48be-9bb5-7a4e66e54666",
   "metadata": {},
   "outputs": [],
   "source": [
    "df_LFVolume_Accum_Recycling = df_LFVolume_yearly_Recycling_Merged.copy()\n",
    "df_LFVolume_Accum_Recycling.loc[:,'1990':'2060'] = df_LFVolume_Accum_Recycling.loc[:,'1990':'2060'].fillna(0)\n",
    "df_LFVolume_Accum_Recycling.loc[:,'1990':'2060'] = df_LFVolume_Accum_Recycling.loc[:,'1990':'2060'].cumsum(axis=1)"
   ]
  },
  {
   "cell_type": "code",
   "execution_count": 29,
   "id": "c77a2ec0-3f50-4410-8851-2f9dafd525e2",
   "metadata": {},
   "outputs": [],
   "source": [
    "df_LFMass_Accum_Recycling = df_LFVolume_Accum_Recycling.copy()"
   ]
  },
  {
   "cell_type": "code",
   "execution_count": 30,
   "id": "c7bac85d-55e5-45bc-9b58-18732abb9f95",
   "metadata": {},
   "outputs": [],
   "source": [
    "df_LFMass_Accum_Recycling.loc[:,'1990':'2060'] = df_LFMass_Accum_Recycling.loc[:,'1990':'2060'] * 23.9 * 1000  ## the unit is metric tons"
   ]
  },
  {
   "cell_type": "code",
   "execution_count": 31,
   "id": "94598df4-a86b-4809-9d68-e2cacc162966",
   "metadata": {},
   "outputs": [],
   "source": [
    "df_LFMass_Accum_Recycling.to_csv('LFMass_Accum_Recycling.csv',index = False)"
   ]
  },
  {
   "cell_type": "markdown",
   "id": "5cdc6d4c-3b53-407a-9cec-647e5870c5bf",
   "metadata": {},
   "source": [
    "### Landfill carpet volume accumulation_PhaseOut"
   ]
  },
  {
   "cell_type": "code",
   "execution_count": 32,
   "id": "6d4d1a87-5273-405a-bbbe-31552fc42bfd",
   "metadata": {},
   "outputs": [],
   "source": [
    "df_LFVolume_yearly_PhaseOut_Merged = df_landfill_template.copy()\n",
    "for year in range(1990,2061):\n",
    "    df_LFVolume_yearly = pd.read_csv(f'C:/Users/mchen48/Box/01 Research/PFASs/PFASs_in_Carpet/01 Paper writing/processed_data/CTVolumeYear_PhaseOut_results/CTVolumeYear_PhaseOut_{year}_MLF_pfas_assigned.csv')\n",
    "    df_LFVolume_yearly_PhaseOut_Merged = pd.merge(df_LFVolume_yearly_PhaseOut_Merged, df_LFVolume_yearly[['facility_id',f'{year}']], how = 'left', left_on = ['facility_id'], right_on = ['facility_id'])"
   ]
  },
  {
   "cell_type": "code",
   "execution_count": 33,
   "id": "bb288b2e-2b15-4c50-a52f-f0eb182482f2",
   "metadata": {},
   "outputs": [],
   "source": [
    "df_LFVolume_Accum_PhaseOut = df_LFVolume_yearly_PhaseOut_Merged.copy()\n",
    "df_LFVolume_Accum_PhaseOut.loc[:,'1990':'2060'] = df_LFVolume_Accum_PhaseOut.loc[:,'1990':'2060'].fillna(0)\n",
    "df_LFVolume_Accum_PhaseOut.loc[:,'1990':'2060'] = df_LFVolume_Accum_PhaseOut.loc[:,'1990':'2060'].cumsum(axis=1)"
   ]
  },
  {
   "cell_type": "code",
   "execution_count": 34,
   "id": "0f6e6fe5-c5eb-4c4c-84bc-9784e05c886f",
   "metadata": {},
   "outputs": [],
   "source": [
    "df_LFMass_Accum_PhaseOut = df_LFVolume_Accum_PhaseOut.copy()"
   ]
  },
  {
   "cell_type": "code",
   "execution_count": 35,
   "id": "39397c72-255e-46e2-8141-4150735d1848",
   "metadata": {},
   "outputs": [],
   "source": [
    "df_LFMass_Accum_PhaseOut.loc[:,'1990':'2060'] = df_LFMass_Accum_PhaseOut.loc[:,'1990':'2060'] * 23.9 * 1000  ## the unit is metric tons"
   ]
  },
  {
   "cell_type": "code",
   "execution_count": 36,
   "id": "06352477-cd84-48de-9265-4cd3c7cdb57a",
   "metadata": {},
   "outputs": [],
   "source": [
    "df_LFMass_Accum_PhaseOut.to_csv('LFMass_Accum_PhaseOut.csv',index = False)"
   ]
  },
  {
   "cell_type": "markdown",
   "id": "85fe6022-70a9-4a98-8a1d-958fa4f26ee2",
   "metadata": {},
   "source": [
    "### Landfill leachate calculation_High_StatusQuo scenario"
   ]
  },
  {
   "cell_type": "code",
   "execution_count": 37,
   "id": "c8f28645-d8a9-4e2a-8be1-aab47fa01833",
   "metadata": {},
   "outputs": [],
   "source": [
    "df_Landfill_LG = pd.read_csv('C:/Users/mchen48/Box/01 Research/PFASs/PFASs_in_Carpet/landfille/landfill_precipitation/Landfill_LG.csv')"
   ]
  },
  {
   "cell_type": "code",
   "execution_count": 38,
   "id": "3850c0a4-4a16-4be9-aaf9-54660445a81a",
   "metadata": {},
   "outputs": [],
   "source": [
    "### PFAS in landfill leachate from NP\n",
    "xt = 20.6\n",
    "df_LFLeachate_High_StatusQuo_NP = pd.read_csv('C:/Users/mchen48/Box/01 Research/PFASs/PFASs_in_Carpet/00 PFAS_US_carpet/PFAS_Accum_landfill/landfill data processing_12062023/LFMass_Accum_StatusQuo.csv')\n",
    "df_LFLeachate_High_StatusQuo_NP.loc[:,'1990':'2060'] = df_LFLeachate_High_StatusQuo_NP.loc[:,'1990':'2060']*df_Landfill_LG.loc[:,'1990':'2060']* xt /140 * 365/1000000 * 0.035"
   ]
  },
  {
   "cell_type": "code",
   "execution_count": 39,
   "id": "7c0dfad9-facd-47ff-b8e0-cf6f5e5c8ba7",
   "metadata": {},
   "outputs": [],
   "source": [
    "df_LFLeachate_High_StatusQuo_NP.to_csv('LFLeachate_High_StatusQuo_NP.csv',index = False)"
   ]
  },
  {
   "cell_type": "code",
   "execution_count": 40,
   "id": "44d9e781-87f9-4a66-b950-39f2a63450f3",
   "metadata": {},
   "outputs": [],
   "source": [
    "### PFAS in landfill leachate from PFAA\n",
    "xt = 8\n",
    "df_LFLeachate_High_StatusQuo_PFAA = pd.read_csv('C:/Users/mchen48/Box/01 Research/PFASs/PFASs_in_Carpet/00 PFAS_US_carpet/PFAS_Accum_landfill/landfill data processing_12062023/LFMass_Accum_StatusQuo.csv')\n",
    "df_LFLeachate_High_StatusQuo_PFAA.loc[:,'1990':'2060'] = df_LFLeachate_High_StatusQuo_PFAA.loc[:,'1990':'2060']*df_Landfill_LG.loc[:,'1990':'2060']* xt /140 * 365/1000000 * 0.035"
   ]
  },
  {
   "cell_type": "code",
   "execution_count": 41,
   "id": "38e711c5-f46a-4774-aeca-27ecac44ae40",
   "metadata": {},
   "outputs": [],
   "source": [
    "df_LFLeachate_High_StatusQuo_PFAA.to_csv('LFLeachate_High_StatusQuo_PFAA.csv',index = False)"
   ]
  },
  {
   "cell_type": "code",
   "execution_count": 42,
   "id": "4d924c19-707c-4087-b373-16854460f414",
   "metadata": {},
   "outputs": [],
   "source": [
    "df_LFLeachate_High_StatusQuo = pd.read_csv('C:/Users/mchen48/Box/01 Research/PFASs/PFASs_in_Carpet/00 PFAS_US_carpet/PFAS_Accum_landfill/landfill data processing_12062023/LFMass_Accum_StatusQuo.csv')\n",
    "df_LFLeachate_High_StatusQuo_NP = pd.read_csv('C:/Users/mchen48/Box/01 Research/PFASs/PFASs_in_Carpet/00 PFAS_US_carpet/PFAS_Accum_landfill/landfill data processing_12062023/LFLeachate_High_StatusQuo_NP.csv')\n",
    "df_LFLeachate_High_StatusQuo_PFAA = pd.read_csv('C:/Users/mchen48/Box/01 Research/PFASs/PFASs_in_Carpet/00 PFAS_US_carpet/PFAS_Accum_landfill/landfill data processing_12062023/LFLeachate_High_StatusQuo_PFAA.csv')"
   ]
  },
  {
   "cell_type": "code",
   "execution_count": 43,
   "id": "7726f9eb-420d-4b86-b78a-1dc1af100e3b",
   "metadata": {},
   "outputs": [],
   "source": [
    "df_LFLeachate_High_StatusQuo.loc[:,'1990':'2060'] = df_LFLeachate_High_StatusQuo_NP.loc[:,'1990':'2060'] + df_LFLeachate_High_StatusQuo_PFAA.loc[:,'1990':'2060']"
   ]
  },
  {
   "cell_type": "code",
   "execution_count": 44,
   "id": "4b06dd8f-2256-4d31-85dc-b363e49a51d9",
   "metadata": {},
   "outputs": [],
   "source": [
    "df_LFLeachate_High_StatusQuo.to_csv('LFLeachate_High_StatusQuo.csv',index = False)"
   ]
  },
  {
   "cell_type": "code",
   "execution_count": 45,
   "id": "917d6c54-f570-4b06-b904-cd9b088362e4",
   "metadata": {},
   "outputs": [],
   "source": [
    "### calculate the annual leachate accumulation of PFAS, in order to calculate the landfills' accumulation without leachate\n",
    "df_LFLeachateAccum_High_StatusQuo = df_LFLeachate_High_StatusQuo.copy()\n",
    "df_LFLeachateAccum_High_StatusQuo.loc[:,'1990':'2060'] = df_LFLeachateAccum_High_StatusQuo.loc[:,'1990':'2060'].fillna(0)\n",
    "df_LFLeachateAccum_High_StatusQuo.loc[:,'1990':'2060'] = df_LFLeachateAccum_High_StatusQuo.loc[:,'1990':'2060'].cumsum(axis=1)"
   ]
  },
  {
   "cell_type": "code",
   "execution_count": 46,
   "id": "81bf37db-3ea5-4589-9bb7-ad130f4e9d71",
   "metadata": {},
   "outputs": [],
   "source": [
    "df_LFLeachateAccum_High_StatusQuo.to_csv('LFLeachateAccum_High_StatusQuo.csv',index = False)"
   ]
  },
  {
   "cell_type": "markdown",
   "id": "29c4bfe0-745a-443c-825b-2dc82b60b69a",
   "metadata": {},
   "source": [
    "### Landfill leachate calculation_High_Recycling scenario"
   ]
  },
  {
   "cell_type": "code",
   "execution_count": 47,
   "id": "bb2da218-7742-44b7-8067-f18301b42a39",
   "metadata": {},
   "outputs": [],
   "source": [
    "### PFAS in landfill leachate from NP\n",
    "xt = 20.6\n",
    "df_LFLeachate_High_Recycling_NP = pd.read_csv('C:/Users/mchen48/Box/01 Research/PFASs/PFASs_in_Carpet/00 PFAS_US_carpet/PFAS_Accum_landfill/landfill data processing_12062023/LFMass_Accum_Recycling.csv')\n",
    "df_LFLeachate_High_Recycling_NP.loc[:,'1990':'2060'] = df_LFLeachate_High_Recycling_NP.loc[:,'1990':'2060']*df_Landfill_LG.loc[:,'1990':'2060']* xt /140 * 365/1000000 * 0.035"
   ]
  },
  {
   "cell_type": "code",
   "execution_count": 48,
   "id": "80849a8d-269e-4268-ab7b-a857e7849a1c",
   "metadata": {},
   "outputs": [],
   "source": [
    "df_LFLeachate_High_Recycling_NP.to_csv('LFLeachate_High_Recycling_NP.csv',index = False)"
   ]
  },
  {
   "cell_type": "code",
   "execution_count": 49,
   "id": "6ea37ce8-67aa-4ce8-8721-db80c1b1d0e8",
   "metadata": {},
   "outputs": [],
   "source": [
    "### PFAS in landfill leachate from PFAA\n",
    "xt = 8\n",
    "df_LFLeachate_High_Recycling_PFAA = pd.read_csv('C:/Users/mchen48/Box/01 Research/PFASs/PFASs_in_Carpet/00 PFAS_US_carpet/PFAS_Accum_landfill/landfill data processing_12062023/LFMass_Accum_Recycling.csv')\n",
    "df_LFLeachate_High_Recycling_PFAA.loc[:,'1990':'2060'] = df_LFLeachate_High_Recycling_PFAA.loc[:,'1990':'2060']*df_Landfill_LG.loc[:,'1990':'2060']* xt /140 * 365/1000000 * 0.035"
   ]
  },
  {
   "cell_type": "code",
   "execution_count": 50,
   "id": "1fd8d8b0-48b4-40f0-b179-13e7c32f5996",
   "metadata": {},
   "outputs": [],
   "source": [
    "df_LFLeachate_High_Recycling_PFAA.to_csv('LFLeachate_High_Recycling_PFAA.csv',index = False)"
   ]
  },
  {
   "cell_type": "code",
   "execution_count": 51,
   "id": "569bbafc-5398-444c-b003-33179f35e02e",
   "metadata": {},
   "outputs": [],
   "source": [
    "df_LFLeachate_High_Recycling = pd.read_csv('C:/Users/mchen48/Box/01 Research/PFASs/PFASs_in_Carpet/00 PFAS_US_carpet/PFAS_Accum_landfill/landfill data processing_12062023/LFMass_Accum_Recycling.csv')\n",
    "df_LFLeachate_High_Recycling_NP = pd.read_csv('C:/Users/mchen48/Box/01 Research/PFASs/PFASs_in_Carpet/00 PFAS_US_carpet/PFAS_Accum_landfill/landfill data processing_12062023/LFLeachate_High_Recycling_NP.csv')\n",
    "df_LFLeachate_High_Recycling_PFAA = pd.read_csv('C:/Users/mchen48/Box/01 Research/PFASs/PFASs_in_Carpet/00 PFAS_US_carpet/PFAS_Accum_landfill/landfill data processing_12062023/LFLeachate_High_Recycling_PFAA.csv')"
   ]
  },
  {
   "cell_type": "code",
   "execution_count": 52,
   "id": "a6a40e6d-95fa-4dcc-9b0c-685e30162dfd",
   "metadata": {},
   "outputs": [],
   "source": [
    "df_LFLeachate_High_Recycling.loc[:,'1990':'2060'] = df_LFLeachate_High_Recycling_NP.loc[:,'1990':'2060'] + df_LFLeachate_High_Recycling_PFAA.loc[:,'1990':'2060']"
   ]
  },
  {
   "cell_type": "code",
   "execution_count": 53,
   "id": "1565b9b0-2cd2-4d41-a120-03b8d4013a74",
   "metadata": {},
   "outputs": [],
   "source": [
    "df_LFLeachate_High_Recycling.to_csv('LFLeachate_High_Recycling.csv',index = False)"
   ]
  },
  {
   "cell_type": "code",
   "execution_count": 54,
   "id": "32a0d103-c4b3-4af7-821f-ba82aaafe296",
   "metadata": {},
   "outputs": [],
   "source": [
    "### calculate the annual leachate accumulation of PFAS, in order to calculate the landfills' accumulation without leachate\n",
    "df_LFLeachateAccum_High_Recycling = df_LFLeachate_High_Recycling.copy()\n",
    "df_LFLeachateAccum_High_Recycling.loc[:,'1990':'2060'] = df_LFLeachateAccum_High_Recycling.loc[:,'1990':'2060'].fillna(0)\n",
    "df_LFLeachateAccum_High_Recycling.loc[:,'1990':'2060'] = df_LFLeachateAccum_High_Recycling.loc[:,'1990':'2060'].cumsum(axis=1)"
   ]
  },
  {
   "cell_type": "code",
   "execution_count": 55,
   "id": "2c4b1b4d-298e-48a7-80a4-d6565a6d4ae7",
   "metadata": {},
   "outputs": [],
   "source": [
    "df_LFLeachateAccum_High_Recycling.to_csv('LFLeachateAccum_High_Recycling.csv',index = False)"
   ]
  },
  {
   "cell_type": "markdown",
   "id": "ea8d2fa2-a112-419f-a8ee-778cfbbaab0d",
   "metadata": {},
   "source": [
    "### Landfill leachate calculation_High_PhaseOut scenario"
   ]
  },
  {
   "cell_type": "code",
   "execution_count": 56,
   "id": "cb493ccd-985b-4a60-9b05-57de4c438cec",
   "metadata": {},
   "outputs": [],
   "source": [
    "### PFAS in landfill leachate from NP\n",
    "xt = 20.6\n",
    "df_LFLeachate_High_PhaseOut_NP = pd.read_csv('C:/Users/mchen48/Box/01 Research/PFASs/PFASs_in_Carpet/00 PFAS_US_carpet/PFAS_Accum_landfill/landfill data processing_12062023/LFMass_Accum_PhaseOut.csv')\n",
    "df_LFLeachate_High_PhaseOut_NP.loc[:,'1990':'2060'] = df_LFLeachate_High_PhaseOut_NP.loc[:,'1990':'2060']*df_Landfill_LG.loc[:,'1990':'2060']* xt /140 * 365/1000000 * 0.035"
   ]
  },
  {
   "cell_type": "code",
   "execution_count": 57,
   "id": "b898547a-7eb2-42a6-a905-ca01b8dbb082",
   "metadata": {},
   "outputs": [],
   "source": [
    "df_LFLeachate_High_PhaseOut_NP.to_csv('LFLeachate_High_PhaseOut_NP.csv',index = False)"
   ]
  },
  {
   "cell_type": "code",
   "execution_count": 58,
   "id": "39895c50-d7ed-4ccd-ac2c-c02d7fec79fa",
   "metadata": {},
   "outputs": [],
   "source": [
    "### PFAS in landfill leachate from PFAA\n",
    "xt = 8\n",
    "df_LFLeachate_High_PhaseOut_PFAA = pd.read_csv('C:/Users/mchen48/Box/01 Research/PFASs/PFASs_in_Carpet/00 PFAS_US_carpet/PFAS_Accum_landfill/landfill data processing_12062023/LFMass_Accum_PhaseOut.csv')\n",
    "df_LFLeachate_High_PhaseOut_PFAA.loc[:,'1990':'2060'] = df_LFLeachate_High_PhaseOut_PFAA.loc[:,'1990':'2060']*df_Landfill_LG.loc[:,'1990':'2060']* xt /140 * 365/1000000 * 0.035"
   ]
  },
  {
   "cell_type": "code",
   "execution_count": 59,
   "id": "0dfcfac2-4480-4e11-bdef-759d95b7f388",
   "metadata": {},
   "outputs": [],
   "source": [
    "df_LFLeachate_High_PhaseOut_PFAA.to_csv('LFLeachate_High_PhaseOut_PFAA.csv',index = False)"
   ]
  },
  {
   "cell_type": "code",
   "execution_count": 60,
   "id": "45bd0e17-75b3-4671-b6d0-30a0148a7aa3",
   "metadata": {},
   "outputs": [],
   "source": [
    "df_LFLeachate_High_PhaseOut = pd.read_csv('C:/Users/mchen48/Box/01 Research/PFASs/PFASs_in_Carpet/00 PFAS_US_carpet/PFAS_Accum_landfill/landfill data processing_12062023/LFMass_Accum_PhaseOut.csv')\n",
    "df_LFLeachate_High_PhaseOut_NP = pd.read_csv('C:/Users/mchen48/Box/01 Research/PFASs/PFASs_in_Carpet/00 PFAS_US_carpet/PFAS_Accum_landfill/landfill data processing_12062023/LFLeachate_High_PhaseOut_NP.csv')\n",
    "df_LFLeachate_High_PhaseOut_PFAA = pd.read_csv('C:/Users/mchen48/Box/01 Research/PFASs/PFASs_in_Carpet/00 PFAS_US_carpet/PFAS_Accum_landfill/landfill data processing_12062023/LFLeachate_High_PhaseOut_PFAA.csv')"
   ]
  },
  {
   "cell_type": "code",
   "execution_count": 61,
   "id": "55f7255b-887d-4eaf-8b86-394014c4fcd6",
   "metadata": {},
   "outputs": [],
   "source": [
    "df_LFLeachate_High_PhaseOut.loc[:,'1990':'2060'] = df_LFLeachate_High_PhaseOut_NP.loc[:,'1990':'2060'] + df_LFLeachate_High_PhaseOut_PFAA.loc[:,'1990':'2060']"
   ]
  },
  {
   "cell_type": "code",
   "execution_count": 62,
   "id": "79d4e854-4094-42cf-8e5e-3656511974ad",
   "metadata": {},
   "outputs": [],
   "source": [
    "df_LFLeachate_High_PhaseOut.to_csv('LFLeachate_High_PhaseOut.csv',index = False)"
   ]
  },
  {
   "cell_type": "code",
   "execution_count": 63,
   "id": "1e2aa8f4-47ea-4965-b87d-bbaafa020736",
   "metadata": {},
   "outputs": [],
   "source": [
    "### calculate the annual leachate accumulation of PFAS, in order to calculate the landfills' accumulation without leachate\n",
    "df_LFLeachateAccum_High_PhaseOut = df_LFLeachate_High_PhaseOut.copy()\n",
    "df_LFLeachateAccum_High_PhaseOut.loc[:,'1990':'2060'] = df_LFLeachateAccum_High_PhaseOut.loc[:,'1990':'2060'].fillna(0)\n",
    "df_LFLeachateAccum_High_PhaseOut.loc[:,'1990':'2060'] = df_LFLeachateAccum_High_PhaseOut.loc[:,'1990':'2060'].cumsum(axis=1)"
   ]
  },
  {
   "cell_type": "code",
   "execution_count": 64,
   "id": "8eecc0b8-2d3d-4e78-86dc-3e0271a9e030",
   "metadata": {},
   "outputs": [],
   "source": [
    "df_LFLeachateAccum_High_PhaseOut.to_csv('LFLeachateAccum_High_PhaseOut.csv',index = False)"
   ]
  },
  {
   "cell_type": "markdown",
   "id": "d79b4302-886c-42c3-9bed-ee4f5574e2bf",
   "metadata": {},
   "source": [
    "### Landfill leachate calculation_Low_StatusQuo scenario"
   ]
  },
  {
   "cell_type": "code",
   "execution_count": 65,
   "id": "611a2269-3472-474d-a9cd-3cb45631aed8",
   "metadata": {},
   "outputs": [],
   "source": [
    "### PFAS in landfill leachate\n",
    "xt = 2.1\n",
    "df_LFLeachate_Low_StatusQuo = pd.read_csv('C:/Users/mchen48/Box/01 Research/PFASs/PFASs_in_Carpet/00 PFAS_US_carpet/PFAS_Accum_landfill/landfill data processing_12062023/LFMass_Accum_StatusQuo.csv')\n",
    "df_LFLeachate_Low_StatusQuo.loc[:,'1990':'2060'] = df_LFLeachate_Low_StatusQuo.loc[:,'1990':'2060']*df_Landfill_LG.loc[:,'1990':'2060']* xt /140 * 365/1000000 * 0.035"
   ]
  },
  {
   "cell_type": "code",
   "execution_count": 66,
   "id": "599eb063-8bc5-4141-afcd-d57a3b3b9053",
   "metadata": {},
   "outputs": [],
   "source": [
    "df_LFLeachate_Low_StatusQuo.to_csv('LFLeachate_Low_StatusQuo.csv',index = False)"
   ]
  },
  {
   "cell_type": "code",
   "execution_count": 67,
   "id": "665135ae-3a8b-41d2-9a05-f1fdffb2863c",
   "metadata": {},
   "outputs": [],
   "source": [
    "### calculate the annual leachate accumulation of PFAS, in order to calculate the landfills' accumulation without leachate\n",
    "df_LFLeachateAccum_Low_StatusQuo = df_LFLeachate_Low_StatusQuo.copy()\n",
    "df_LFLeachateAccum_Low_StatusQuo.loc[:,'1990':'2060'] = df_LFLeachateAccum_Low_StatusQuo.loc[:,'1990':'2060'].fillna(0)\n",
    "df_LFLeachateAccum_Low_StatusQuo.loc[:,'1990':'2060'] = df_LFLeachateAccum_Low_StatusQuo.loc[:,'1990':'2060'].cumsum(axis=1)"
   ]
  },
  {
   "cell_type": "code",
   "execution_count": 68,
   "id": "d0327975-b0c8-422b-bca7-3217c28fe4ff",
   "metadata": {},
   "outputs": [],
   "source": [
    "df_LFLeachateAccum_Low_StatusQuo.to_csv('LFLeachateAccum_Low_StatusQuo.csv',index = False)"
   ]
  },
  {
   "cell_type": "markdown",
   "id": "1d5f42f3-283a-484e-a10c-48428ea909b3",
   "metadata": {},
   "source": [
    "### Landfill leachate calculation_Low_Recycling scenario"
   ]
  },
  {
   "cell_type": "code",
   "execution_count": 69,
   "id": "deba6296-d616-4b83-8285-a48bb9603da3",
   "metadata": {},
   "outputs": [],
   "source": [
    "### PFAS in landfill leachate\n",
    "xt = 2.1\n",
    "df_LFLeachate_Low_Recycling = pd.read_csv('C:/Users/mchen48/Box/01 Research/PFASs/PFASs_in_Carpet/00 PFAS_US_carpet/PFAS_Accum_landfill/landfill data processing_12062023/LFMass_Accum_Recycling.csv')\n",
    "df_LFLeachate_Low_Recycling.loc[:,'1990':'2060'] = df_LFLeachate_Low_Recycling.loc[:,'1990':'2060']*df_Landfill_LG.loc[:,'1990':'2060']* xt /140 * 365/1000000 * 0.035"
   ]
  },
  {
   "cell_type": "code",
   "execution_count": 70,
   "id": "6256afe1-8565-42b0-930a-af8c908f2426",
   "metadata": {},
   "outputs": [],
   "source": [
    "df_LFLeachate_Low_Recycling.to_csv('LFLeachate_Low_Recycling.csv',index = False)"
   ]
  },
  {
   "cell_type": "code",
   "execution_count": 71,
   "id": "a281455d-7ab3-4d56-8e5f-cce9959e40ad",
   "metadata": {},
   "outputs": [],
   "source": [
    "### calculate the annual leachate accumulation of PFAS, in order to calculate the landfills' accumulation without leachate\n",
    "df_LFLeachateAccum_Low_Recycling = df_LFLeachate_Low_Recycling.copy()\n",
    "df_LFLeachateAccum_Low_Recycling.loc[:,'1990':'2060'] = df_LFLeachateAccum_Low_Recycling.loc[:,'1990':'2060'].fillna(0)\n",
    "df_LFLeachateAccum_Low_Recycling.loc[:,'1990':'2060'] = df_LFLeachateAccum_Low_Recycling.loc[:,'1990':'2060'].cumsum(axis=1)"
   ]
  },
  {
   "cell_type": "code",
   "execution_count": 72,
   "id": "d0909a36-0f09-4634-a0f4-3234833b5af9",
   "metadata": {},
   "outputs": [],
   "source": [
    "df_LFLeachateAccum_Low_Recycling.to_csv('LFLeachateAccum_Low_Recycling.csv',index = False)"
   ]
  },
  {
   "cell_type": "markdown",
   "id": "f78db0a5-e8d1-4ffe-a343-4d9e9d3ffef5",
   "metadata": {},
   "source": [
    "### Landfill leachate calculation_Low_PhaseOut scenario"
   ]
  },
  {
   "cell_type": "code",
   "execution_count": 73,
   "id": "d0102196-fb41-4d6c-b6c6-48814ac193e4",
   "metadata": {},
   "outputs": [],
   "source": [
    "### PFAS in landfill leachate\n",
    "xt = 2.1\n",
    "df_LFLeachate_Low_PhaseOut = pd.read_csv('C:/Users/mchen48/Box/01 Research/PFASs/PFASs_in_Carpet/00 PFAS_US_carpet/PFAS_Accum_landfill/landfill data processing_12062023/LFMass_Accum_PhaseOut.csv')\n",
    "df_LFLeachate_Low_PhaseOut.loc[:,'1990':'2060'] = df_LFLeachate_Low_PhaseOut.loc[:,'1990':'2060']*df_Landfill_LG.loc[:,'1990':'2060']* xt /140 * 365/1000000 * 0.035"
   ]
  },
  {
   "cell_type": "code",
   "execution_count": 74,
   "id": "efafce5f-937a-470c-bcb1-09d01e37d8c8",
   "metadata": {},
   "outputs": [],
   "source": [
    "df_LFLeachate_Low_PhaseOut.to_csv('LFLeachate_Low_PhaseOut.csv',index = False)"
   ]
  },
  {
   "cell_type": "code",
   "execution_count": 75,
   "id": "4e3dbfdd-4b20-4c9a-baf5-2d483739f9c8",
   "metadata": {},
   "outputs": [],
   "source": [
    "### calculate the annual leachate accumulation of PFAS, in order to calculate the landfills' accumulation without leachate\n",
    "df_LFLeachateAccum_Low_PhaseOut = df_LFLeachate_Low_PhaseOut.copy()\n",
    "df_LFLeachateAccum_Low_PhaseOut.loc[:,'1990':'2060'] = df_LFLeachateAccum_Low_PhaseOut.loc[:,'1990':'2060'].fillna(0)\n",
    "df_LFLeachateAccum_Low_PhaseOut.loc[:,'1990':'2060'] = df_LFLeachateAccum_Low_PhaseOut.loc[:,'1990':'2060'].cumsum(axis=1)"
   ]
  },
  {
   "cell_type": "code",
   "execution_count": 76,
   "id": "3a5c6d60-7049-44b7-9c15-e8e9f4f3b672",
   "metadata": {},
   "outputs": [],
   "source": [
    "df_LFLeachateAccum_Low_PhaseOut.to_csv('LFLeachateAccum_Low_PhaseOut.csv',index = False)"
   ]
  },
  {
   "cell_type": "markdown",
   "id": "2a508fe9-f07b-4e1d-bbc6-49517c5caeb7",
   "metadata": {},
   "source": [
    "### Landfill PFAS accumulation_High_StatusQuo (without leachate)"
   ]
  },
  {
   "cell_type": "code",
   "execution_count": 77,
   "id": "505cb795-ebf0-4996-afc3-5eb3448e09f6",
   "metadata": {},
   "outputs": [],
   "source": [
    "df_landfill_Accum_High_StatusQuo_WO_Leachate = pd.read_csv('C:/Users/mchen48/Box/01 Research/PFASs/PFASs_in_Carpet/00 PFAS_US_carpet/PFAS_Accum_landfill/landfill data processing_12062023/LFMass_Accum_StatusQuo.csv')\n",
    "df_landfill_Accum_High_StatusQuo_WO_Leachate.loc[:,'1990':'2060'] = df_landfill_Accum_High_StatusQuo.loc[:,'1990':'2060'] - df_LFLeachateAccum_High_StatusQuo.loc[:,'1990':'2060']\n",
    "df_landfill_Accum_High_StatusQuo_WO_Leachate.to_csv('landfill_Accum_High_StatusQuo_WO_Leachate.csv',index = False)"
   ]
  },
  {
   "cell_type": "markdown",
   "id": "f732f1a4-ab3b-4748-a655-bfb0b75f443a",
   "metadata": {},
   "source": [
    "### Landfill PFAS accumulation_High_Recycling (without leachate)"
   ]
  },
  {
   "cell_type": "code",
   "execution_count": 78,
   "id": "8d3a15e4-56ff-4c0f-89cc-3bb380707d9a",
   "metadata": {},
   "outputs": [],
   "source": [
    "df_landfill_Accum_High_Recycling_WO_Leachate = pd.read_csv('C:/Users/mchen48/Box/01 Research/PFASs/PFASs_in_Carpet/00 PFAS_US_carpet/PFAS_Accum_landfill/landfill data processing_12062023/LFMass_Accum_Recycling.csv')\n",
    "df_landfill_Accum_High_Recycling_WO_Leachate.loc[:,'1990':'2060'] = df_landfill_Accum_High_Recycling.loc[:,'1990':'2060'] - df_LFLeachateAccum_High_Recycling.loc[:,'1990':'2060']\n",
    "df_landfill_Accum_High_Recycling_WO_Leachate.to_csv('landfill_Accum_High_Recycling_WO_Leachate.csv',index = False)"
   ]
  },
  {
   "cell_type": "markdown",
   "id": "8d85a2c9-365c-42d4-876a-ea6e2c7272ed",
   "metadata": {},
   "source": [
    "### Landfill PFAS accumulation_High_PhaseOut (without leachate)"
   ]
  },
  {
   "cell_type": "code",
   "execution_count": 79,
   "id": "d0086f78-d271-4a5e-aa98-35d1b9d0f62f",
   "metadata": {},
   "outputs": [],
   "source": [
    "df_landfill_Accum_High_PhaseOut_WO_Leachate = pd.read_csv('C:/Users/mchen48/Box/01 Research/PFASs/PFASs_in_Carpet/00 PFAS_US_carpet/PFAS_Accum_landfill/landfill data processing_12062023/LFMass_Accum_PhaseOut.csv')\n",
    "df_landfill_Accum_High_PhaseOut_WO_Leachate.loc[:,'1990':'2060'] = df_landfill_Accum_High_PhaseOut.loc[:,'1990':'2060'] - df_LFLeachateAccum_High_PhaseOut.loc[:,'1990':'2060']\n",
    "df_landfill_Accum_High_PhaseOut_WO_Leachate.to_csv('landfill_Accum_High_PhaseOut_WO_Leachate.csv',index = False)"
   ]
  },
  {
   "cell_type": "markdown",
   "id": "1ce4b242-23ce-44e6-bbfc-336cd76d3961",
   "metadata": {},
   "source": [
    "### Landfill PFAS accumulation_Low_StatusQuo (without leachate)"
   ]
  },
  {
   "cell_type": "code",
   "execution_count": 80,
   "id": "c27037a5-da8b-49c4-af0d-cff8451eed3c",
   "metadata": {},
   "outputs": [],
   "source": [
    "df_landfill_Accum_Low_StatusQuo_WO_Leachate = pd.read_csv('C:/Users/mchen48/Box/01 Research/PFASs/PFASs_in_Carpet/00 PFAS_US_carpet/PFAS_Accum_landfill/landfill data processing_12062023/LFMass_Accum_StatusQuo.csv')\n",
    "df_landfill_Accum_Low_StatusQuo_WO_Leachate.loc[:,'1990':'2060'] = df_landfill_Accum_Low_StatusQuo.loc[:,'1990':'2060'] - df_LFLeachateAccum_Low_StatusQuo.loc[:,'1990':'2060']\n",
    "df_landfill_Accum_Low_StatusQuo_WO_Leachate.to_csv('landfill_Accum_Low_StatusQuo_WO_Leachate.csv',index = False)"
   ]
  },
  {
   "cell_type": "markdown",
   "id": "ac8196cb-ec9d-4368-b48b-9c9dcfce4721",
   "metadata": {},
   "source": [
    "### Landfill PFAS accumulation_Low_Recycling (without leachate)"
   ]
  },
  {
   "cell_type": "code",
   "execution_count": 81,
   "id": "93293af9-a045-4059-857a-1ace80f7dff6",
   "metadata": {},
   "outputs": [],
   "source": [
    "df_landfill_Accum_Low_Recycling_WO_Leachate = pd.read_csv('C:/Users/mchen48/Box/01 Research/PFASs/PFASs_in_Carpet/00 PFAS_US_carpet/PFAS_Accum_landfill/landfill data processing_12062023/LFMass_Accum_Recycling.csv')\n",
    "df_landfill_Accum_Low_Recycling_WO_Leachate.loc[:,'1990':'2060'] = df_landfill_Accum_Low_Recycling.loc[:,'1990':'2060'] - df_LFLeachateAccum_Low_Recycling.loc[:,'1990':'2060']\n",
    "df_landfill_Accum_Low_Recycling_WO_Leachate.to_csv('landfill_Accum_Low_Recycling_WO_Leachate.csv',index = False)"
   ]
  },
  {
   "cell_type": "markdown",
   "id": "d572c1b5-6d5b-4673-a036-db857796db11",
   "metadata": {},
   "source": [
    "### Landfill PFAS accumulation_Low_PhaseOut (without leachate)"
   ]
  },
  {
   "cell_type": "code",
   "execution_count": 82,
   "id": "faee3724-838e-435d-b110-9f9d5037cd30",
   "metadata": {},
   "outputs": [],
   "source": [
    "df_landfill_Accum_Low_PhaseOut_WO_Leachate = pd.read_csv('C:/Users/mchen48/Box/01 Research/PFASs/PFASs_in_Carpet/00 PFAS_US_carpet/PFAS_Accum_landfill/landfill data processing_12062023/LFMass_Accum_PhaseOut.csv')\n",
    "df_landfill_Accum_Low_PhaseOut_WO_Leachate.loc[:,'1990':'2060'] = df_landfill_Accum_Low_PhaseOut.loc[:,'1990':'2060'] - df_LFLeachateAccum_Low_PhaseOut.loc[:,'1990':'2060']\n",
    "df_landfill_Accum_Low_PhaseOut_WO_Leachate.to_csv('landfill_Accum_Low_PhaseOut_WO_Leachate.csv',index = False)"
   ]
  },
  {
   "cell_type": "code",
   "execution_count": null,
   "id": "2550c9af-af3a-428e-aa22-1729a2ec58d7",
   "metadata": {},
   "outputs": [],
   "source": []
  }
 ],
 "metadata": {
  "kernelspec": {
   "display_name": "Python 3 (ipykernel)",
   "language": "python",
   "name": "python3"
  },
  "language_info": {
   "codemirror_mode": {
    "name": "ipython",
    "version": 3
   },
   "file_extension": ".py",
   "mimetype": "text/x-python",
   "name": "python",
   "nbconvert_exporter": "python",
   "pygments_lexer": "ipython3",
   "version": "3.12.3"
  }
 },
 "nbformat": 4,
 "nbformat_minor": 5
}

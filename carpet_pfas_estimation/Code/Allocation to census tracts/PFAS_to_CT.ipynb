{
 "cells": [
  {
   "cell_type": "code",
   "execution_count": 1,
   "id": "60824151-9631-4d73-9abc-e9b45fec2a91",
   "metadata": {},
   "outputs": [],
   "source": [
    "import pandas as pd\n",
    "import numpy as np"
   ]
  },
  {
   "cell_type": "code",
   "execution_count": 2,
   "id": "1a73fd45-8378-4d6a-ace9-7e8d6096f22e",
   "metadata": {},
   "outputs": [],
   "source": [
    "df_PFAS_National = pd.read_csv('C:/Users/mchen48/Box/01 Research/PFASs/PFASs_in_Carpet/00 PFAS_US_carpet/PFAS_allocation_census tracts/Peter/PFASs_National data.csv')"
   ]
  },
  {
   "cell_type": "markdown",
   "id": "f9b6857d-3c6d-4707-ad7d-9ec256c55968",
   "metadata": {},
   "source": [
    "### Allocate annual landfill PFASs to census tracts_High estimate_status quo"
   ]
  },
  {
   "cell_type": "code",
   "execution_count": 5,
   "id": "d2dd7660-7d05-4eb9-9ce0-2c73e7005ab3",
   "metadata": {},
   "outputs": [],
   "source": [
    "folder_path_read = 'C:/Users/mchen48/Box/01 Research/PFASs/PFASs_in_Carpet/00 PFAS_US_carpet/PFAS_allocation_census tracts/Peter/Initial Census tracts data/CT_W_Rate'\n",
    "folder_path_save = 'C:/Users/mchen48/Box/01 Research/PFASs/PFASs_in_Carpet/00 PFAS_US_carpet/PFAS_allocation_census tracts/Peter/Allocation to Census tracts_v3/01_CTAccuYear_High_StatusQuo'\n",
    "i = 0\n",
    "for year in range(1990,2061):\n",
    "    df_CTAccuYear_High_StatusQuo = pd.read_csv(f'{folder_path_read}/CT_W_Area_{year}.csv')\n",
    "    df_CTAccuYear_High_StatusQuo[f'{year}'] = df_CTAccuYear_High_StatusQuo[f'Portion'].values * df_PFAS_National.loc[i,'LFAccu_Yearly_High_Status quo']\n",
    "    df_CTAccuYear_High_StatusQuo.to_csv(f'{folder_path_save}/CTAccuYear_High_StatusQuo_{year}.csv',index = False)\n",
    "    i = i+1"
   ]
  },
  {
   "cell_type": "markdown",
   "id": "e7b4b9ae-b311-42ef-a64d-27dbcd21d571",
   "metadata": {},
   "source": [
    "### Allocate annual landfill PFASs to census tracts_Low estimate_status quo"
   ]
  },
  {
   "cell_type": "code",
   "execution_count": 15,
   "id": "9629e31a-645b-499d-9fb7-547e8eeae0a1",
   "metadata": {},
   "outputs": [],
   "source": [
    "folder_path_read = 'C:/Users/mchen48/Box/01 Research/PFASs/PFASs_in_Carpet/00 PFAS_US_carpet/PFAS_allocation_census tracts/Peter/Initial Census tracts data/CT_W_Rate'\n",
    "folder_path_save = 'C:/Users/mchen48/Box/01 Research/PFASs/PFASs_in_Carpet/00 PFAS_US_carpet/PFAS_allocation_census tracts/Peter/Allocation to Census tracts_v3/02_CTAccuYear_Low_StatusQuo'\n",
    "i = 0\n",
    "for year in range(1990,2061):\n",
    "    df_CTAccuYear_Low_StatusQuo = pd.read_csv(f'{folder_path_read}/CT_W_Area_{year}.csv')\n",
    "    df_CTAccuYear_Low_StatusQuo[f'{year}'] = df_CTAccuYear_Low_StatusQuo[f'Portion'].values * df_PFAS_National.loc[i,'LFAccu_Yearly_Low_Status quo']\n",
    "    df_CTAccuYear_Low_StatusQuo.to_csv(f'{folder_path_save}/CTAccuYear_Low_StatusQuo_{year}.csv',index = False)\n",
    "    i = i+1"
   ]
  },
  {
   "cell_type": "code",
   "execution_count": 17,
   "id": "ba50e239-8fa1-4dc9-be7b-a3641a4a6740",
   "metadata": {},
   "outputs": [
    {
     "data": {
      "text/plain": [
       "3403.9995010000007"
      ]
     },
     "execution_count": 17,
     "metadata": {},
     "output_type": "execute_result"
    }
   ],
   "source": [
    "df_CTAccuYear_Low_StatusQuo['2060'].sum()"
   ]
  },
  {
   "cell_type": "markdown",
   "id": "942183d0-ff98-4635-8d81-4e387fb5eb17",
   "metadata": {},
   "source": [
    "### Allocate annual landfill PFASs to census tracts_High estimate_Recycling"
   ]
  },
  {
   "cell_type": "code",
   "execution_count": 18,
   "id": "033c51b2-af50-41db-8dd5-3f16e750ed13",
   "metadata": {},
   "outputs": [],
   "source": [
    "folder_path_save = 'C:/Users/mchen48/Box/01 Research/PFASs/PFASs_in_Carpet/00 PFAS_US_carpet/PFAS_allocation_census tracts/Peter/Allocation to Census tracts_v3/03_CTAccuYear_High_Recycling'\n",
    "i = 0\n",
    "for year in range(1990,2061):\n",
    "    df_CTAccuYear_High_Recycling = pd.read_csv(f'{folder_path_read}/CT_W_Area_{year}.csv')\n",
    "    df_CTAccuYear_High_Recycling[f'{year}'] = df_CTAccuYear_High_Recycling[f'Portion'].values * df_PFAS_National.loc[i,'LFAccu_Yearly_High_Recycling']\n",
    "    df_CTAccuYear_High_Recycling.to_csv(f'{folder_path_save}/CTAccuYear_High_Recycling_{year}.csv',index = False)\n",
    "    i = i+1"
   ]
  },
  {
   "cell_type": "code",
   "execution_count": 19,
   "id": "55992f62-f26a-4ca5-b7b6-7811f0b946ef",
   "metadata": {},
   "outputs": [
    {
     "data": {
      "text/plain": [
       "26816.193030000002"
      ]
     },
     "execution_count": 19,
     "metadata": {},
     "output_type": "execute_result"
    }
   ],
   "source": [
    "df_CTAccuYear_High_Recycling['2060'].sum()"
   ]
  },
  {
   "cell_type": "markdown",
   "id": "1e47c61c-103a-41b7-89c6-5790450c469d",
   "metadata": {},
   "source": [
    "### Allocate annual landfill PFASs to census tracts_Low estimate_Recycling"
   ]
  },
  {
   "cell_type": "code",
   "execution_count": 20,
   "id": "419d8538-327f-4e06-aeb9-b92bda540c17",
   "metadata": {},
   "outputs": [],
   "source": [
    "folder_path_save = 'C:/Users/mchen48/Box/01 Research/PFASs/PFASs_in_Carpet/00 PFAS_US_carpet/PFAS_allocation_census tracts/Peter/Allocation to Census tracts_v3/04_CTAccuYear_Low_Recycling'\n",
    "i = 0\n",
    "for year in range(1990,2061):\n",
    "    df_CTAccuYear_Low_Recycling = pd.read_csv(f'{folder_path_read}/CT_W_Area_{year}.csv')\n",
    "    df_CTAccuYear_Low_Recycling[f'{year}'] = df_CTAccuYear_Low_Recycling[f'Portion'].values * df_PFAS_National.loc[i,'LFAccu_Yearly_Low_Recycling']\n",
    "    df_CTAccuYear_Low_Recycling.to_csv(f'{folder_path_save}/CTAccuYear_Low_Recycling_{year}.csv',index = False)\n",
    "    i = i+1"
   ]
  },
  {
   "cell_type": "code",
   "execution_count": 21,
   "id": "72ddde19-de87-4788-ba43-9cf084466f19",
   "metadata": {},
   "outputs": [
    {
     "data": {
      "text/plain": [
       "2870.118478"
      ]
     },
     "execution_count": 21,
     "metadata": {},
     "output_type": "execute_result"
    }
   ],
   "source": [
    "df_CTAccuYear_Low_Recycling['2060'].sum()"
   ]
  },
  {
   "cell_type": "markdown",
   "id": "e3b2af5a-f9c4-4181-835c-73522630134f",
   "metadata": {},
   "source": [
    "### Allocate annual landfill PFASs to census tracts_High estimate_Phase out"
   ]
  },
  {
   "cell_type": "code",
   "execution_count": 22,
   "id": "e55cc186-b74c-4a1d-9c38-aaaef7379545",
   "metadata": {},
   "outputs": [],
   "source": [
    "folder_path_save = 'C:/Users/mchen48/Box/01 Research/PFASs/PFASs_in_Carpet/00 PFAS_US_carpet/PFAS_allocation_census tracts/Peter/Allocation to Census tracts_v3/05_CTAccuYear_High_PhaseOut'\n",
    "i = 0\n",
    "for year in range(1990,2061):\n",
    "    df_CTAccuYear_High_PhaseOut = pd.read_csv(f'{folder_path_read}/CT_W_Area_{year}.csv')\n",
    "    df_CTAccuYear_High_PhaseOut[f'{year}'] = df_CTAccuYear_High_PhaseOut[f'Portion'].values * df_PFAS_National.loc[i,'LFAccu_Yearly_High_PhaseOut']\n",
    "    df_CTAccuYear_High_PhaseOut.to_csv(f'{folder_path_save}/CTAccuYear_High_PhaseOut_{year}.csv',index = False)\n",
    "    i = i+1"
   ]
  },
  {
   "cell_type": "code",
   "execution_count": 23,
   "id": "61d117f3-fce8-4b7f-a3f9-3b4e838e64a5",
   "metadata": {},
   "outputs": [
    {
     "data": {
      "text/plain": [
       "2322.6404420000003"
      ]
     },
     "execution_count": 23,
     "metadata": {},
     "output_type": "execute_result"
    }
   ],
   "source": [
    "df_CTAccuYear_High_PhaseOut['2060'].sum()"
   ]
  },
  {
   "cell_type": "markdown",
   "id": "125cf8ca-f28f-4a45-ace2-e7991696e5bd",
   "metadata": {},
   "source": [
    "### Allocate annual landfill PFASs to census tracts_Low estimate_Phase out"
   ]
  },
  {
   "cell_type": "code",
   "execution_count": 24,
   "id": "7fb1b912-9bc3-4f76-bfb4-ce56896e8bf5",
   "metadata": {},
   "outputs": [],
   "source": [
    "folder_path_save = 'C:/Users/mchen48/Box/01 Research/PFASs/PFASs_in_Carpet/00 PFAS_US_carpet/PFAS_allocation_census tracts/Peter/Allocation to Census tracts_v3/06_CTAccuYear_Low_PhaseOut'\n",
    "i = 0\n",
    "for year in range(1990,2061):\n",
    "    df_CTAccuYear_Low_PhaseOut = pd.read_csv(f'{folder_path_read}/CT_W_Area_{year}.csv')\n",
    "    df_CTAccuYear_Low_PhaseOut[f'{year}'] = df_CTAccuYear_Low_PhaseOut[f'Portion'].values * df_PFAS_National.loc[i,'LFAccu_Yearly_Low_PhaseOut']\n",
    "    df_CTAccuYear_Low_PhaseOut.to_csv(f'{folder_path_save}/CTAccuYear_Low_PhaseOut_{year}.csv',index = False)\n",
    "    i = i+1"
   ]
  },
  {
   "cell_type": "code",
   "execution_count": 25,
   "id": "92e2fcad-330f-422a-8650-f3a8a5b18775",
   "metadata": {},
   "outputs": [
    {
     "data": {
      "text/plain": [
       "690.9220314"
      ]
     },
     "execution_count": 25,
     "metadata": {},
     "output_type": "execute_result"
    }
   ],
   "source": [
    "df_CTAccuYear_Low_PhaseOut['2060'].sum()"
   ]
  },
  {
   "cell_type": "markdown",
   "id": "90ac6240-83d4-4ad5-aa4e-e694ee5e90f6",
   "metadata": {},
   "source": [
    "### Allocate annual EoL carpet volume to census tracts_Status quo"
   ]
  },
  {
   "cell_type": "code",
   "execution_count": 27,
   "id": "99be1926-0bda-41e5-abba-c86e5d545e70",
   "metadata": {},
   "outputs": [],
   "source": [
    "folder_path_save = 'C:/Users/mchen48/Box/01 Research/PFASs/PFASs_in_Carpet/00 PFAS_US_carpet/PFAS_allocation_census tracts/Peter/Allocation to Census tracts_v3/07_CTVolumeYear_StatusQuo'\n",
    "i = 0\n",
    "for year in range(1990,2061):\n",
    "    df_CTVolumeYear_StatusQuo = pd.read_csv(f'{folder_path_read}/CT_W_Area_{year}.csv')\n",
    "    df_CTVolumeYear_StatusQuo[f'{year}'] = df_CTVolumeYear_StatusQuo[f'Portion'].values * df_PFAS_National.loc[i,'V_annual_landfill_StatusQuo']\n",
    "    df_CTVolumeYear_StatusQuo.to_csv(f'{folder_path_save}/CTVolumeYear_StatusQuo_{year}.csv',index = False)\n",
    "    i = i+1"
   ]
  },
  {
   "cell_type": "code",
   "execution_count": 28,
   "id": "d1df2369-1a17-4be2-8667-14f5957412aa",
   "metadata": {},
   "outputs": [
    {
     "data": {
      "text/plain": [
       "506.84078540000013"
      ]
     },
     "execution_count": 28,
     "metadata": {},
     "output_type": "execute_result"
    }
   ],
   "source": [
    "df_CTVolumeYear_StatusQuo['2060'].sum()"
   ]
  },
  {
   "cell_type": "markdown",
   "id": "b091e4a6-1f03-4930-9b1a-999c8c5c9dab",
   "metadata": {},
   "source": [
    "### Allocate annual EoL carpet volume to census tracts_Recycling"
   ]
  },
  {
   "cell_type": "code",
   "execution_count": 29,
   "id": "7bfaf222-209f-41a4-89dc-94121cfd7bbe",
   "metadata": {},
   "outputs": [],
   "source": [
    "folder_path_save = 'C:/Users/mchen48/Box/01 Research/PFASs/PFASs_in_Carpet/00 PFAS_US_carpet/PFAS_allocation_census tracts/Peter/Allocation to Census tracts_v3/08_CTVolumeYear_Recycling'\n",
    "i = 0\n",
    "for year in range(1990,2061):\n",
    "    df_CTVolumeYear_Recycling = pd.read_csv(f'{folder_path_read}/CT_W_Area_{year}.csv')\n",
    "    df_CTVolumeYear_Recycling[f'{year}'] = df_CTVolumeYear_Recycling[f'Portion'].values * df_PFAS_National.loc[i,'V_annual_landfill_Recycling']\n",
    "    df_CTVolumeYear_Recycling.to_csv(f'{folder_path_save}/CTVolumeYear_Recycling_{year}.csv',index = False)\n",
    "    i = i+1"
   ]
  },
  {
   "cell_type": "code",
   "execution_count": 30,
   "id": "b1250466-0576-4b8c-b568-d1a567a7103e",
   "metadata": {},
   "outputs": [
    {
     "data": {
      "text/plain": [
       "405.2782915"
      ]
     },
     "execution_count": 30,
     "metadata": {},
     "output_type": "execute_result"
    }
   ],
   "source": [
    "df_CTVolumeYear_Recycling['2060'].sum()"
   ]
  },
  {
   "cell_type": "markdown",
   "id": "a573848c-e5e9-4fa8-a818-926b38e742a8",
   "metadata": {},
   "source": [
    "### Allocate annual EoL carpet volume to census tracts_Phase Out"
   ]
  },
  {
   "cell_type": "code",
   "execution_count": 31,
   "id": "fc8f64db-f5f2-44db-99b2-54c3d93bdea5",
   "metadata": {},
   "outputs": [],
   "source": [
    "folder_path_save = 'C:/Users/mchen48/Box/01 Research/PFASs/PFASs_in_Carpet/00 PFAS_US_carpet/PFAS_allocation_census tracts/Peter/Allocation to Census tracts_v3/09_CTVolumeYear_PhaseOut'\n",
    "i = 0\n",
    "for year in range(1990,2061):\n",
    "    df_CTVolumeYear_PhaseOut = pd.read_csv(f'{folder_path_read}/CT_W_Area_{year}.csv')\n",
    "    df_CTVolumeYear_PhaseOut[f'{year}'] = df_CTVolumeYear_PhaseOut[f'Portion'].values * df_PFAS_National.loc[i,'V_annual_landfill_PhaseOut']\n",
    "    df_CTVolumeYear_PhaseOut.to_csv(f'{folder_path_save}/CTVolumeYear_PhaseOut_{year}.csv',index = False)\n",
    "    i = i+1"
   ]
  },
  {
   "cell_type": "code",
   "execution_count": 32,
   "id": "42e70834-7524-41b2-8c62-f734a9c93857",
   "metadata": {},
   "outputs": [
    {
     "data": {
      "text/plain": [
       "7.120000000000001e-05"
      ]
     },
     "execution_count": 32,
     "metadata": {},
     "output_type": "execute_result"
    }
   ],
   "source": [
    "df_CTVolumeYear_PhaseOut['2060'].sum()"
   ]
  },
  {
   "cell_type": "markdown",
   "id": "14998937-2570-468b-af24-6df5f96f8890",
   "metadata": {},
   "source": [
    "### Allocat In-use stock to census tracts_High estimate_Status quo"
   ]
  },
  {
   "cell_type": "code",
   "execution_count": 33,
   "id": "bf0f6c94-1327-4590-8db5-e10a54f38ca3",
   "metadata": {},
   "outputs": [],
   "source": [
    "folder_path_save = 'C:/Users/mchen48/Box/01 Research/PFASs/PFASs_in_Carpet/00 PFAS_US_carpet/PFAS_allocation_census tracts/Peter/Allocation to Census tracts_v3/10_CTInUseStock_High_StatusQuo'\n",
    "i = 0\n",
    "for year in range(1990,2061):\n",
    "    df_CTInUseStock_High_StatusQuo = pd.read_csv(f'{folder_path_read}/CT_W_Area_{year}.csv')\n",
    "    df_CTInUseStock_High_StatusQuo[f'{year}'] = df_CTInUseStock_High_StatusQuo[f'Portion'].values * df_PFAS_National.loc[i,'InUseStock_High_Status quo']\n",
    "    df_CTInUseStock_High_StatusQuo.to_csv(f'{folder_path_save}/CTInUseStock_High_StatusQuo_{year}.csv',index = False)\n",
    "    i = i+1"
   ]
  },
  {
   "cell_type": "code",
   "execution_count": 34,
   "id": "f7a83f44-b854-44e4-b5f7-b33ca97eac0d",
   "metadata": {},
   "outputs": [
    {
     "data": {
      "text/plain": [
       "729830.8386000001"
      ]
     },
     "execution_count": 34,
     "metadata": {},
     "output_type": "execute_result"
    }
   ],
   "source": [
    "df_CTInUseStock_High_StatusQuo['2060'].sum()"
   ]
  },
  {
   "cell_type": "markdown",
   "id": "8fe0b4ce-4e94-4060-896d-8389c5439825",
   "metadata": {},
   "source": [
    "### Allocate In-use Emission to census tracts_High estimate_Status quo"
   ]
  },
  {
   "cell_type": "code",
   "execution_count": 39,
   "id": "5a1d910d-0d3c-44b1-8b1e-805921389ca3",
   "metadata": {},
   "outputs": [],
   "source": [
    "folder_path = 'C:/Users/mchen48/Box/01 Research/PFASs/PFASs_in_Carpet/00 PFAS_US_carpet/PFAS_allocation_census tracts/Peter/Allocation to Census tracts_v3/11_CTInUseEmission_High_StatusQuo'\n",
    "i = 0\n",
    "for year in range(1990,2061):\n",
    "    if year<2010:\n",
    "        df_CTInUseEmission_High_StatusQuo = pd.read_csv('C:/Users/mchen48/Box/01 Research/PFASs/PFASs_in_Carpet/00 PFAS_US_carpet/PFAS_allocation_census tracts/Peter/Initial Census tracts data/CT_W_Area_2010.CSV')\n",
    "        df_CTInUseEmission_High_StatusQuo[f'{year}'] = df_CTInUseEmission_High_StatusQuo[f'Portion'].values * df_PFAS_National.loc[i,'InUseEmission_High_Status quo']\n",
    "        df_CTInUseEmission_High_StatusQuo.to_csv(f'{folder_path}/CTInUseEmission_High_StatusQuo_{year}.csv',index = False)\n",
    "    elif year>=2010 and year<=2021:\n",
    "        df_CTInUseEmission_High_StatusQuo = pd.read_csv(f'C:/Users/mchen48/Box/01 Research/PFASs/PFASs_in_Carpet/00 PFAS_US_carpet/PFAS_allocation_census tracts/Peter/Initial Census tracts data/CT_W_Area_{year}.CSV')\n",
    "        df_CTInUseEmission_High_StatusQuo[f'{year}'] = df_CTInUseEmission_High_StatusQuo[f'Portion'].values * df_PFAS_National.loc[i,'InUseEmission_High_Status quo']\n",
    "        df_CTInUseEmission_High_StatusQuo.to_csv(f'{folder_path}/CTInUseEmission_High_StatusQuo_{year}.csv',index = False)\n",
    "    else:\n",
    "        df_CTInUseEmission_High_StatusQuo = pd.read_csv('C:/Users/mchen48/Box/01 Research/PFASs/PFASs_in_Carpet/00 PFAS_US_carpet/PFAS_allocation_census tracts/Peter/Initial Census tracts data/CT_W_Area_2021.CSV')\n",
    "        df_CTInUseEmission_High_StatusQuo[f'{year}'] = df_CTInUseEmission_High_StatusQuo[f'Portion'].values * df_PFAS_National.loc[i,'InUseEmission_High_Status quo']\n",
    "        df_CTInUseEmission_High_StatusQuo.to_csv(f'{folder_path}/CTInUseEmission_High_StatusQuo_{year}.csv',index = False)\n",
    "    i = i+1"
   ]
  },
  {
   "cell_type": "code",
   "execution_count": 35,
   "id": "938025e7-c04f-45c8-acec-678aa1b45e72",
   "metadata": {},
   "outputs": [],
   "source": [
    "folder_path_save = 'C:/Users/mchen48/Box/01 Research/PFASs/PFASs_in_Carpet/00 PFAS_US_carpet/PFAS_allocation_census tracts/Peter/Allocation to Census tracts_v3/11_CTInUseEmission_High_StatusQuo'\n",
    "i = 0\n",
    "for year in range(1990,2061):\n",
    "    df_CTInUseEmission_High_StatusQuo = pd.read_csv(f'{folder_path_read}/CT_W_Area_{year}.csv')\n",
    "    df_CTInUseEmission_High_StatusQuo[f'{year}'] = df_CTInUseEmission_High_StatusQuo[f'Portion'].values * df_PFAS_National.loc[i,'InUseEmission_High_Status quo']\n",
    "    df_CTInUseEmission_High_StatusQuo.to_csv(f'{folder_path_save}/CTInUseEmission_High_StatusQuo_{year}.csv',index = False)\n",
    "    i = i+1"
   ]
  },
  {
   "cell_type": "code",
   "execution_count": 36,
   "id": "639dc1ad-3251-4414-8e2f-4ae0ee02c5c2",
   "metadata": {},
   "outputs": [
    {
     "data": {
      "text/plain": [
       "6925.851333000001"
      ]
     },
     "execution_count": 36,
     "metadata": {},
     "output_type": "execute_result"
    }
   ],
   "source": [
    "df_CTInUseEmission_High_StatusQuo['2060'].sum()"
   ]
  },
  {
   "cell_type": "markdown",
   "id": "7db3c91b-1b92-4d58-b89a-aafa7d1ae6ac",
   "metadata": {},
   "source": [
    "### Calculate per capita In-use Stock of census tracts_High estimate_Status quo"
   ]
  },
  {
   "cell_type": "code",
   "execution_count": 37,
   "id": "4c9c93c5-31d4-458b-b7ce-f08dfa8648f3",
   "metadata": {},
   "outputs": [],
   "source": [
    "folder_path_CTInUseStock = 'C:/Users/mchen48/Box/01 Research/PFASs/PFASs_in_Carpet/00 PFAS_US_carpet/PFAS_allocation_census tracts/Peter/Allocation to Census tracts_v3/10_CTInUseStock_High_StatusQuo'\n",
    "folder_path_POP = 'C:/Users/mchen48/Box/01 Research/PFASs/PFASs_in_Carpet/00 PFAS_US_carpet/PFAS_allocation_census tracts/Peter/Census tracts population'\n",
    "folder_path_save = 'C:/Users/mchen48/Box/01 Research/PFASs/PFASs_in_Carpet/00 PFAS_US_carpet/PFAS_allocation_census tracts/Peter/Allocation to Census tracts_v3/12_CTInUseStock_PC_High_StatusQuo'\n",
    "for year in range(1990,2061):\n",
    "    df_InUseStock = pd.read_csv(f'{folder_path_CTInUseStock}/CTInUseStock_High_StatusQuo_{year}.csv')\n",
    "    df_POP = pd.read_csv(f'{folder_path_POP}/CT_Population_{year}.csv')\n",
    "    df_PC = df_POP.copy()\n",
    "    df_PC[f'{year}'] = df_InUseStock[f'{year}']*1000/df_POP[f'{year}'] ### in the unit of g/cap\n",
    "    df_PC.to_csv(f'{folder_path_save}/CTInUseStock_PC_High_StatusQuo_{year}.csv',index = False)  ### PC means per capita"
   ]
  },
  {
   "cell_type": "markdown",
   "id": "28b1473e-00cb-4aa4-9d8f-c1be9238f2a5",
   "metadata": {},
   "source": [
    "### Calculate per capita In-use Emission of census tracts_High estimate_Status quo"
   ]
  },
  {
   "cell_type": "code",
   "execution_count": 38,
   "id": "6bb22c81-7369-4a86-a730-7eb2eaa5c96f",
   "metadata": {},
   "outputs": [],
   "source": [
    "folder_path_CTInUseEmission = 'C:/Users/mchen48/Box/01 Research/PFASs/PFASs_in_Carpet/00 PFAS_US_carpet/PFAS_allocation_census tracts/Peter/Allocation to Census tracts_v3/11_CTInUseEmission_High_StatusQuo'\n",
    "folder_path_POP = 'C:/Users/mchen48/Box/01 Research/PFASs/PFASs_in_Carpet/00 PFAS_US_carpet/PFAS_allocation_census tracts/Peter/Census tracts population'\n",
    "folder_path_save = 'C:/Users/mchen48/Box/01 Research/PFASs/PFASs_in_Carpet/00 PFAS_US_carpet/PFAS_allocation_census tracts/Peter/Allocation to Census tracts_v3/13_CTInUseEmission_PC_High_StatusQuo'\n",
    "for year in range(1990,2061):\n",
    "    df_InUseEmission = pd.read_csv(f'{folder_path_CTInUseEmission}/CTInUseEmission_High_StatusQuo_{year}.csv')\n",
    "    df_POP = pd.read_csv(f'{folder_path_POP}/CT_Population_{year}.csv')\n",
    "    df_PC = df_POP.copy()\n",
    "    df_PC[f'{year}'] = df_InUseEmission[f'{year}']*1000000/df_POP[f'{year}'] ### in the unit of mg/cap/year\n",
    "    df_PC.to_csv(f'{folder_path_save}/CTInUseEmission_PC_High_StatusQuo_{year}.csv',index = False)  ### PC means per capita"
   ]
  }
 ],
 "metadata": {
  "kernelspec": {
   "display_name": "Python 3 (ipykernel)",
   "language": "python",
   "name": "python3"
  },
  "language_info": {
   "codemirror_mode": {
    "name": "ipython",
    "version": 3
   },
   "file_extension": ".py",
   "mimetype": "text/x-python",
   "name": "python",
   "nbconvert_exporter": "python",
   "pygments_lexer": "ipython3",
   "version": "3.9.19"
  }
 },
 "nbformat": 4,
 "nbformat_minor": 5
}

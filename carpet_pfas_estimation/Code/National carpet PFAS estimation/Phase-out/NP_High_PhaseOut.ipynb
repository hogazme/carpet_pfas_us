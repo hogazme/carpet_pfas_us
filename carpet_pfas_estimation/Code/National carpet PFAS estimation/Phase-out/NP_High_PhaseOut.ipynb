{
 "cells": [
  {
   "cell_type": "code",
   "execution_count": 1,
   "id": "864b5346-649c-4145-bf07-87fd3008a90e",
   "metadata": {},
   "outputs": [],
   "source": [
    "# using the method according to jinjin's paper\n",
    "import pandas as pd\n",
    "import numpy as np\n",
    "from scipy.stats import lognorm"
   ]
  },
  {
   "cell_type": "code",
   "execution_count": 2,
   "id": "7b0b5429-1613-4e1b-9d4b-51de73a9275c",
   "metadata": {},
   "outputs": [],
   "source": [
    "df = pd.read_csv('C:/Users/mchen48/Box/01 Research/PFASs/PFASs_in_Carpet/00 PFAS_US_carpet/PFAS_flows_stocks_data_processing/Basic_data.csv')"
   ]
  },
  {
   "cell_type": "code",
   "execution_count": 3,
   "id": "567a23b4-d5cf-4f65-8b97-5739b7d4bf86",
   "metadata": {},
   "outputs": [],
   "source": [
    "# rao input parameters such as the concentration of different PFAS at different scenarios\n",
    "# the unit of all V parameters are million m2\n",
    "P_import = 79     # change according to different type of PFAS, ug/m2\n",
    "P_production  = 10500  # change according to different type of PFAS, ug/m2\n",
    "P_export = P_production   # change according to different type of PFAS, ug/m2\n",
    "R_to_carpet = 0.36   # the ratio of collected carpet recycled to carpet\n",
    "P_yearlyloss_air = 729.813  # change according to different type of PFAS, ug/m2/year. As the specific situation, see the note of PFAS calculation\n",
    "P_yearlyloss_dust = 0.03942     # change according to different type of PFAS, ug/m2/year\n",
    "Prod_emi_R = 0.15 # High percentage loss of PFAS during production, related to F9, the high is 0.15, the low is 0.05\n",
    "xt = 20.6 # ug/L, the average PFAS concentration in landfill leachate from discarded carpets (Table 1 in Jinjin's paper)\n",
    "SA = 140 # 140 +- 98 tonnes/ha, average mass of waste per surface area for U.S. landfills\n",
    "LG = 3.26 # m3/ha/day based on the annual precipitation, calculate national leachate generation rate \n",
    "R_pro_waste = 0.018 # the material waste during carpet production"
   ]
  },
  {
   "cell_type": "code",
   "execution_count": 4,
   "id": "b4004162-9493-4310-9983-cafe25a4c3dd",
   "metadata": {},
   "outputs": [],
   "source": [
    "# creat a lognormal distribution\n",
    "age_iniStock = 4.3  # the initial age of nylon carpet stock (in 1990) is 4.3 years old\n",
    "shape = 0.2957397   # standard deviation\n",
    "scale = np.exp(2.1080312) # mean\n",
    "loc = 0\n",
    "dist = lognorm(shape, loc, scale)"
   ]
  },
  {
   "cell_type": "code",
   "execution_count": 5,
   "id": "64ce01f2-6593-46a7-bbae-3e5b49e3a7c9",
   "metadata": {},
   "outputs": [],
   "source": [
    "# calculate In-Use Stock of PFAS in nylon carpet\n",
    "Af = 159 # the average single family house size before 1990 is 159 m2\n",
    "P_cf = 0.51\n",
    "S0_volumn = (Af/3.35) * P_cf * df.loc[0,'us_pop'] * df.loc[0,'Percent_nylon'] # Calculate the initial carpet stock volumn in use (initial average family size 3.35)\n",
    "S0_PFAS  = (S0_volumn * P_production * 0.85)/1000  # Calculate the initial PFAS stock in use"
   ]
  },
  {
   "cell_type": "code",
   "execution_count": 6,
   "id": "d87d813a-bf60-484e-889b-2c631b59dc3d",
   "metadata": {},
   "outputs": [],
   "source": [
    "# creat the column of F1_NP_High\n",
    "df['F1'] = 0 ## the unit of F1_SP_High is kg"
   ]
  },
  {
   "cell_type": "code",
   "execution_count": 7,
   "id": "4de5ca21-eb2c-4df4-aad3-61c24043cbb8",
   "metadata": {},
   "outputs": [],
   "source": [
    "# calculate F1: PFAS flow in imported nylon carpet\n",
    "for i in range(len(df)):\n",
    "    df.loc[i,'F1'] = (df.loc[i,'V_import'] * P_import * df.loc[i,'Percent_nylon'] - \n",
    "                              df.loc[i,'V_export'] * P_export * df.loc[i,'Percent_nylon'])/1000"
   ]
  },
  {
   "cell_type": "code",
   "execution_count": 8,
   "id": "47d6328a-1e63-478a-9b53-ee256a924af7",
   "metadata": {},
   "outputs": [],
   "source": [
    "# creat the column of F_production\n",
    "df['F_production'] = 0 ## the unit of F_production is kg"
   ]
  },
  {
   "cell_type": "code",
   "execution_count": 9,
   "id": "58732fbc-a6ae-4f1f-8add-3da7641a6475",
   "metadata": {},
   "outputs": [],
   "source": [
    "# calculate F_production:PFAS flow used in the domestic carpet production in nylon carpet\n",
    "for i in range(len(df)):\n",
    "    df.loc[i,'F_production'] = (df.loc[i,'V_production'] * P_production * df.loc[i,'Percent_nylon']*df.loc[i,'PhaseOut'])/1000"
   ]
  },
  {
   "cell_type": "code",
   "execution_count": 10,
   "id": "37031123-a91b-4bac-907f-9a5f27c98dc9",
   "metadata": {},
   "outputs": [],
   "source": [
    "df['F3'] = 0 "
   ]
  },
  {
   "cell_type": "code",
   "execution_count": 11,
   "id": "bbc33afd-afc6-4379-9a5a-1ad2ac1eb552",
   "metadata": {},
   "outputs": [],
   "source": [
    "# calculate F3:PFAS flow in material loss in production\n",
    "for i in range(len(df)):\n",
    "    df.loc[i,'F3'] = df.loc[i,'F_production'] * 0.12 * 0.15"
   ]
  },
  {
   "cell_type": "code",
   "execution_count": 12,
   "id": "4762ba0d-78bd-4865-982c-bc99b53718e6",
   "metadata": {},
   "outputs": [],
   "source": [
    "df_yearly_EoL = pd.DataFrame() #creat an empty dataframe to store every year's EoL carpet according to lognormal distribution"
   ]
  },
  {
   "cell_type": "code",
   "execution_count": 13,
   "id": "7150d2a0-69bb-4834-bb91-5cbb0d5e614e",
   "metadata": {},
   "outputs": [],
   "source": [
    "for year in range(1990,2061):\n",
    "    df_yearly_EoL[year] = 0"
   ]
  },
  {
   "cell_type": "code",
   "execution_count": 14,
   "id": "b622ec07-58ac-474a-9b71-6bd9993be927",
   "metadata": {},
   "outputs": [],
   "source": [
    "for i in range(0,71):\n",
    "    df_yearly_EoL.loc[i,:] = 0"
   ]
  },
  {
   "cell_type": "code",
   "execution_count": 15,
   "id": "737b2ce5-f06b-4892-8273-2618675ae7e9",
   "metadata": {},
   "outputs": [],
   "source": [
    "for i in range(0,71):\n",
    "    for year in range(1990,2061):\n",
    "        if year >= df.loc[i,'year']:\n",
    "            df_yearly_EoL.loc[i,year] = (dist.cdf(year - df.loc[i,'year'] + 1) - dist.cdf(year - df.loc[i,'year'])) * df.loc[i,'V_sales_nylon']\n",
    "        else:\n",
    "            df_yearly_EoL.loc[i,year] = df_yearly_EoL.loc[i,year]"
   ]
  },
  {
   "cell_type": "code",
   "execution_count": 16,
   "id": "cf8d4035-9033-4a1a-a9cf-5c03389cfedf",
   "metadata": {},
   "outputs": [
    {
     "data": {
      "text/html": [
       "<div>\n",
       "<style scoped>\n",
       "    .dataframe tbody tr th:only-of-type {\n",
       "        vertical-align: middle;\n",
       "    }\n",
       "\n",
       "    .dataframe tbody tr th {\n",
       "        vertical-align: top;\n",
       "    }\n",
       "\n",
       "    .dataframe thead th {\n",
       "        text-align: right;\n",
       "    }\n",
       "</style>\n",
       "<table border=\"1\" class=\"dataframe\">\n",
       "  <thead>\n",
       "    <tr style=\"text-align: right;\">\n",
       "      <th></th>\n",
       "      <th>1990</th>\n",
       "      <th>1991</th>\n",
       "      <th>1992</th>\n",
       "      <th>1993</th>\n",
       "      <th>1994</th>\n",
       "      <th>1995</th>\n",
       "      <th>1996</th>\n",
       "      <th>1997</th>\n",
       "      <th>1998</th>\n",
       "      <th>1999</th>\n",
       "      <th>...</th>\n",
       "      <th>2051</th>\n",
       "      <th>2052</th>\n",
       "      <th>2053</th>\n",
       "      <th>2054</th>\n",
       "      <th>2055</th>\n",
       "      <th>2056</th>\n",
       "      <th>2057</th>\n",
       "      <th>2058</th>\n",
       "      <th>2059</th>\n",
       "      <th>2060</th>\n",
       "    </tr>\n",
       "  </thead>\n",
       "  <tbody>\n",
       "    <tr>\n",
       "      <th>0</th>\n",
       "      <td>2.660423e-10</td>\n",
       "      <td>4.484103e-04</td>\n",
       "      <td>1.672750e-01</td>\n",
       "      <td>3.664329e+00</td>\n",
       "      <td>2.015205e+01</td>\n",
       "      <td>50.435212</td>\n",
       "      <td>78.026173</td>\n",
       "      <td>88.668697</td>\n",
       "      <td>82.040428</td>\n",
       "      <td>65.916845</td>\n",
       "      <td>...</td>\n",
       "      <td>1.050359e-09</td>\n",
       "      <td>7.121885e-10</td>\n",
       "      <td>4.844019e-10</td>\n",
       "      <td>3.306300e-10</td>\n",
       "      <td>2.262785e-10</td>\n",
       "      <td>1.553961e-10</td>\n",
       "      <td>1.070777e-10</td>\n",
       "      <td>7.395670e-11</td>\n",
       "      <td>5.121864e-11</td>\n",
       "      <td>3.561523e-11</td>\n",
       "    </tr>\n",
       "    <tr>\n",
       "      <th>1</th>\n",
       "      <td>0.000000e+00</td>\n",
       "      <td>2.692118e-10</td>\n",
       "      <td>4.537522e-04</td>\n",
       "      <td>1.692678e-01</td>\n",
       "      <td>3.707983e+00</td>\n",
       "      <td>20.392121</td>\n",
       "      <td>51.036056</td>\n",
       "      <td>78.955714</td>\n",
       "      <td>89.725024</td>\n",
       "      <td>83.017790</td>\n",
       "      <td>...</td>\n",
       "      <td>1.572884e-09</td>\n",
       "      <td>1.062872e-09</td>\n",
       "      <td>7.206730e-10</td>\n",
       "      <td>4.901727e-10</td>\n",
       "      <td>3.345688e-10</td>\n",
       "      <td>2.289742e-10</td>\n",
       "      <td>1.572473e-10</td>\n",
       "      <td>1.083533e-10</td>\n",
       "      <td>7.483776e-11</td>\n",
       "      <td>5.182882e-11</td>\n",
       "    </tr>\n",
       "    <tr>\n",
       "      <th>2</th>\n",
       "      <td>0.000000e+00</td>\n",
       "      <td>0.000000e+00</td>\n",
       "      <td>2.724138e-10</td>\n",
       "      <td>4.591492e-04</td>\n",
       "      <td>1.712811e-01</td>\n",
       "      <td>3.752086</td>\n",
       "      <td>20.634666</td>\n",
       "      <td>51.643082</td>\n",
       "      <td>79.894819</td>\n",
       "      <td>90.792220</td>\n",
       "      <td>...</td>\n",
       "      <td>2.363185e-09</td>\n",
       "      <td>1.591592e-09</td>\n",
       "      <td>1.075514e-09</td>\n",
       "      <td>7.292447e-10</td>\n",
       "      <td>4.960028e-10</td>\n",
       "      <td>3.385482e-10</td>\n",
       "      <td>2.316976e-10</td>\n",
       "      <td>1.591177e-10</td>\n",
       "      <td>1.096421e-10</td>\n",
       "      <td>7.572789e-11</td>\n",
       "    </tr>\n",
       "    <tr>\n",
       "      <th>3</th>\n",
       "      <td>0.000000e+00</td>\n",
       "      <td>0.000000e+00</td>\n",
       "      <td>0.000000e+00</td>\n",
       "      <td>2.754294e-10</td>\n",
       "      <td>4.642320e-04</td>\n",
       "      <td>0.173177</td>\n",
       "      <td>3.793622</td>\n",
       "      <td>20.863094</td>\n",
       "      <td>52.214776</td>\n",
       "      <td>80.779262</td>\n",
       "      <td>...</td>\n",
       "      <td>3.560058e-09</td>\n",
       "      <td>2.389346e-09</td>\n",
       "      <td>1.609211e-09</td>\n",
       "      <td>1.087420e-09</td>\n",
       "      <td>7.373175e-10</td>\n",
       "      <td>5.014936e-10</td>\n",
       "      <td>3.422960e-10</td>\n",
       "      <td>2.342625e-10</td>\n",
       "      <td>1.608791e-10</td>\n",
       "      <td>1.108558e-10</td>\n",
       "    </tr>\n",
       "    <tr>\n",
       "      <th>4</th>\n",
       "      <td>0.000000e+00</td>\n",
       "      <td>0.000000e+00</td>\n",
       "      <td>0.000000e+00</td>\n",
       "      <td>0.000000e+00</td>\n",
       "      <td>2.781956e-10</td>\n",
       "      <td>0.000469</td>\n",
       "      <td>0.174916</td>\n",
       "      <td>3.831722</td>\n",
       "      <td>21.072626</td>\n",
       "      <td>52.739179</td>\n",
       "      <td>...</td>\n",
       "      <td>5.376280e-09</td>\n",
       "      <td>3.595812e-09</td>\n",
       "      <td>2.413343e-09</td>\n",
       "      <td>1.625373e-09</td>\n",
       "      <td>1.098341e-09</td>\n",
       "      <td>7.447225e-10</td>\n",
       "      <td>5.065302e-10</td>\n",
       "      <td>3.457337e-10</td>\n",
       "      <td>2.366153e-10</td>\n",
       "      <td>1.624948e-10</td>\n",
       "    </tr>\n",
       "    <tr>\n",
       "      <th>...</th>\n",
       "      <td>...</td>\n",
       "      <td>...</td>\n",
       "      <td>...</td>\n",
       "      <td>...</td>\n",
       "      <td>...</td>\n",
       "      <td>...</td>\n",
       "      <td>...</td>\n",
       "      <td>...</td>\n",
       "      <td>...</td>\n",
       "      <td>...</td>\n",
       "      <td>...</td>\n",
       "      <td>...</td>\n",
       "      <td>...</td>\n",
       "      <td>...</td>\n",
       "      <td>...</td>\n",
       "      <td>...</td>\n",
       "      <td>...</td>\n",
       "      <td>...</td>\n",
       "      <td>...</td>\n",
       "      <td>...</td>\n",
       "      <td>...</td>\n",
       "    </tr>\n",
       "    <tr>\n",
       "      <th>66</th>\n",
       "      <td>0.000000e+00</td>\n",
       "      <td>0.000000e+00</td>\n",
       "      <td>0.000000e+00</td>\n",
       "      <td>0.000000e+00</td>\n",
       "      <td>0.000000e+00</td>\n",
       "      <td>0.000000</td>\n",
       "      <td>0.000000</td>\n",
       "      <td>0.000000</td>\n",
       "      <td>0.000000</td>\n",
       "      <td>0.000000</td>\n",
       "      <td>...</td>\n",
       "      <td>0.000000e+00</td>\n",
       "      <td>0.000000e+00</td>\n",
       "      <td>0.000000e+00</td>\n",
       "      <td>0.000000e+00</td>\n",
       "      <td>0.000000e+00</td>\n",
       "      <td>2.780270e-10</td>\n",
       "      <td>4.686102e-04</td>\n",
       "      <td>1.748104e-01</td>\n",
       "      <td>3.829400e+00</td>\n",
       "      <td>2.105985e+01</td>\n",
       "    </tr>\n",
       "    <tr>\n",
       "      <th>67</th>\n",
       "      <td>0.000000e+00</td>\n",
       "      <td>0.000000e+00</td>\n",
       "      <td>0.000000e+00</td>\n",
       "      <td>0.000000e+00</td>\n",
       "      <td>0.000000e+00</td>\n",
       "      <td>0.000000</td>\n",
       "      <td>0.000000</td>\n",
       "      <td>0.000000</td>\n",
       "      <td>0.000000</td>\n",
       "      <td>0.000000</td>\n",
       "      <td>...</td>\n",
       "      <td>0.000000e+00</td>\n",
       "      <td>0.000000e+00</td>\n",
       "      <td>0.000000e+00</td>\n",
       "      <td>0.000000e+00</td>\n",
       "      <td>0.000000e+00</td>\n",
       "      <td>0.000000e+00</td>\n",
       "      <td>2.791231e-10</td>\n",
       "      <td>4.704577e-04</td>\n",
       "      <td>1.754996e-01</td>\n",
       "      <td>3.844497e+00</td>\n",
       "    </tr>\n",
       "    <tr>\n",
       "      <th>68</th>\n",
       "      <td>0.000000e+00</td>\n",
       "      <td>0.000000e+00</td>\n",
       "      <td>0.000000e+00</td>\n",
       "      <td>0.000000e+00</td>\n",
       "      <td>0.000000e+00</td>\n",
       "      <td>0.000000</td>\n",
       "      <td>0.000000</td>\n",
       "      <td>0.000000</td>\n",
       "      <td>0.000000</td>\n",
       "      <td>0.000000</td>\n",
       "      <td>...</td>\n",
       "      <td>0.000000e+00</td>\n",
       "      <td>0.000000e+00</td>\n",
       "      <td>0.000000e+00</td>\n",
       "      <td>0.000000e+00</td>\n",
       "      <td>0.000000e+00</td>\n",
       "      <td>0.000000e+00</td>\n",
       "      <td>0.000000e+00</td>\n",
       "      <td>2.802290e-10</td>\n",
       "      <td>4.723217e-04</td>\n",
       "      <td>1.761950e-01</td>\n",
       "    </tr>\n",
       "    <tr>\n",
       "      <th>69</th>\n",
       "      <td>0.000000e+00</td>\n",
       "      <td>0.000000e+00</td>\n",
       "      <td>0.000000e+00</td>\n",
       "      <td>0.000000e+00</td>\n",
       "      <td>0.000000e+00</td>\n",
       "      <td>0.000000</td>\n",
       "      <td>0.000000</td>\n",
       "      <td>0.000000</td>\n",
       "      <td>0.000000</td>\n",
       "      <td>0.000000</td>\n",
       "      <td>...</td>\n",
       "      <td>0.000000e+00</td>\n",
       "      <td>0.000000e+00</td>\n",
       "      <td>0.000000e+00</td>\n",
       "      <td>0.000000e+00</td>\n",
       "      <td>0.000000e+00</td>\n",
       "      <td>0.000000e+00</td>\n",
       "      <td>0.000000e+00</td>\n",
       "      <td>0.000000e+00</td>\n",
       "      <td>2.813459e-10</td>\n",
       "      <td>4.742041e-04</td>\n",
       "    </tr>\n",
       "    <tr>\n",
       "      <th>70</th>\n",
       "      <td>0.000000e+00</td>\n",
       "      <td>0.000000e+00</td>\n",
       "      <td>0.000000e+00</td>\n",
       "      <td>0.000000e+00</td>\n",
       "      <td>0.000000e+00</td>\n",
       "      <td>0.000000</td>\n",
       "      <td>0.000000</td>\n",
       "      <td>0.000000</td>\n",
       "      <td>0.000000</td>\n",
       "      <td>0.000000</td>\n",
       "      <td>...</td>\n",
       "      <td>0.000000e+00</td>\n",
       "      <td>0.000000e+00</td>\n",
       "      <td>0.000000e+00</td>\n",
       "      <td>0.000000e+00</td>\n",
       "      <td>0.000000e+00</td>\n",
       "      <td>0.000000e+00</td>\n",
       "      <td>0.000000e+00</td>\n",
       "      <td>0.000000e+00</td>\n",
       "      <td>0.000000e+00</td>\n",
       "      <td>2.824747e-10</td>\n",
       "    </tr>\n",
       "  </tbody>\n",
       "</table>\n",
       "<p>71 rows × 71 columns</p>\n",
       "</div>"
      ],
      "text/plain": [
       "            1990          1991          1992          1993          1994  \\\n",
       "0   2.660423e-10  4.484103e-04  1.672750e-01  3.664329e+00  2.015205e+01   \n",
       "1   0.000000e+00  2.692118e-10  4.537522e-04  1.692678e-01  3.707983e+00   \n",
       "2   0.000000e+00  0.000000e+00  2.724138e-10  4.591492e-04  1.712811e-01   \n",
       "3   0.000000e+00  0.000000e+00  0.000000e+00  2.754294e-10  4.642320e-04   \n",
       "4   0.000000e+00  0.000000e+00  0.000000e+00  0.000000e+00  2.781956e-10   \n",
       "..           ...           ...           ...           ...           ...   \n",
       "66  0.000000e+00  0.000000e+00  0.000000e+00  0.000000e+00  0.000000e+00   \n",
       "67  0.000000e+00  0.000000e+00  0.000000e+00  0.000000e+00  0.000000e+00   \n",
       "68  0.000000e+00  0.000000e+00  0.000000e+00  0.000000e+00  0.000000e+00   \n",
       "69  0.000000e+00  0.000000e+00  0.000000e+00  0.000000e+00  0.000000e+00   \n",
       "70  0.000000e+00  0.000000e+00  0.000000e+00  0.000000e+00  0.000000e+00   \n",
       "\n",
       "         1995       1996       1997       1998       1999  ...          2051  \\\n",
       "0   50.435212  78.026173  88.668697  82.040428  65.916845  ...  1.050359e-09   \n",
       "1   20.392121  51.036056  78.955714  89.725024  83.017790  ...  1.572884e-09   \n",
       "2    3.752086  20.634666  51.643082  79.894819  90.792220  ...  2.363185e-09   \n",
       "3    0.173177   3.793622  20.863094  52.214776  80.779262  ...  3.560058e-09   \n",
       "4    0.000469   0.174916   3.831722  21.072626  52.739179  ...  5.376280e-09   \n",
       "..        ...        ...        ...        ...        ...  ...           ...   \n",
       "66   0.000000   0.000000   0.000000   0.000000   0.000000  ...  0.000000e+00   \n",
       "67   0.000000   0.000000   0.000000   0.000000   0.000000  ...  0.000000e+00   \n",
       "68   0.000000   0.000000   0.000000   0.000000   0.000000  ...  0.000000e+00   \n",
       "69   0.000000   0.000000   0.000000   0.000000   0.000000  ...  0.000000e+00   \n",
       "70   0.000000   0.000000   0.000000   0.000000   0.000000  ...  0.000000e+00   \n",
       "\n",
       "            2052          2053          2054          2055          2056  \\\n",
       "0   7.121885e-10  4.844019e-10  3.306300e-10  2.262785e-10  1.553961e-10   \n",
       "1   1.062872e-09  7.206730e-10  4.901727e-10  3.345688e-10  2.289742e-10   \n",
       "2   1.591592e-09  1.075514e-09  7.292447e-10  4.960028e-10  3.385482e-10   \n",
       "3   2.389346e-09  1.609211e-09  1.087420e-09  7.373175e-10  5.014936e-10   \n",
       "4   3.595812e-09  2.413343e-09  1.625373e-09  1.098341e-09  7.447225e-10   \n",
       "..           ...           ...           ...           ...           ...   \n",
       "66  0.000000e+00  0.000000e+00  0.000000e+00  0.000000e+00  2.780270e-10   \n",
       "67  0.000000e+00  0.000000e+00  0.000000e+00  0.000000e+00  0.000000e+00   \n",
       "68  0.000000e+00  0.000000e+00  0.000000e+00  0.000000e+00  0.000000e+00   \n",
       "69  0.000000e+00  0.000000e+00  0.000000e+00  0.000000e+00  0.000000e+00   \n",
       "70  0.000000e+00  0.000000e+00  0.000000e+00  0.000000e+00  0.000000e+00   \n",
       "\n",
       "            2057          2058          2059          2060  \n",
       "0   1.070777e-10  7.395670e-11  5.121864e-11  3.561523e-11  \n",
       "1   1.572473e-10  1.083533e-10  7.483776e-11  5.182882e-11  \n",
       "2   2.316976e-10  1.591177e-10  1.096421e-10  7.572789e-11  \n",
       "3   3.422960e-10  2.342625e-10  1.608791e-10  1.108558e-10  \n",
       "4   5.065302e-10  3.457337e-10  2.366153e-10  1.624948e-10  \n",
       "..           ...           ...           ...           ...  \n",
       "66  4.686102e-04  1.748104e-01  3.829400e+00  2.105985e+01  \n",
       "67  2.791231e-10  4.704577e-04  1.754996e-01  3.844497e+00  \n",
       "68  0.000000e+00  2.802290e-10  4.723217e-04  1.761950e-01  \n",
       "69  0.000000e+00  0.000000e+00  2.813459e-10  4.742041e-04  \n",
       "70  0.000000e+00  0.000000e+00  0.000000e+00  2.824747e-10  \n",
       "\n",
       "[71 rows x 71 columns]"
      ]
     },
     "execution_count": 16,
     "metadata": {},
     "output_type": "execute_result"
    }
   ],
   "source": [
    "df_yearly_EoL"
   ]
  },
  {
   "cell_type": "code",
   "execution_count": 17,
   "id": "147fe322-4528-429e-9957-73189c062b1f",
   "metadata": {},
   "outputs": [],
   "source": [
    "# creat a column to store the EoL of initial stock, lognormal distribution, initial age is 4.3 years\n",
    "# mean and std are the same as yearly EoL of sales volumn\n",
    "df['V_iniStock_EoL'] = 0"
   ]
  },
  {
   "cell_type": "code",
   "execution_count": 18,
   "id": "31d72209-4209-49f7-b4f0-85f3673f9b9e",
   "metadata": {},
   "outputs": [],
   "source": [
    "for i in range(0,71):\n",
    "    df.loc[i,'V_iniStock_EoL'] = ((dist.cdf(age_iniStock+i+1) - dist.cdf(age_iniStock+i))/\n",
    "                                  (1-dist.cdf(age_iniStock)))*S0_volumn       "
   ]
  },
  {
   "cell_type": "code",
   "execution_count": 19,
   "id": "d35835b5-6451-49a3-a759-2cce0649dfc4",
   "metadata": {},
   "outputs": [],
   "source": [
    "# generate a column to store the yearly EoL from every year's new sales to the market\n",
    "df['V_new_EoL'] = 0"
   ]
  },
  {
   "cell_type": "code",
   "execution_count": 20,
   "id": "10f5a617-3f4e-4ac0-b0d4-26b4eb3f4a0b",
   "metadata": {},
   "outputs": [],
   "source": [
    "# calculate the yearly end of life carpet volumn\n",
    "b = 0\n",
    "for year in range(1990, 2061):\n",
    "    a = 0\n",
    "    for i in range(0,71):\n",
    "        a = a + df_yearly_EoL.loc[i,year]\n",
    "    df.loc[b,'V_new_EoL'] = a\n",
    "    b = b + 1"
   ]
  },
  {
   "cell_type": "markdown",
   "id": "3c8a7552-374a-415f-ab6e-355011c422cb",
   "metadata": {},
   "source": [
    "### Calculate v4_phaseout, which means under the phaseout scenario"
   ]
  },
  {
   "cell_type": "code",
   "execution_count": 21,
   "id": "3b13b220-4f0e-40cf-a47a-c286e5c2cb8c",
   "metadata": {},
   "outputs": [],
   "source": [
    "# generate a column to store the yearly EoL from every year's new sales to the market in phase out scenario\n",
    "df['V_new_EoL_PhaseOut'] = 0"
   ]
  },
  {
   "cell_type": "code",
   "execution_count": 22,
   "id": "68318aa4-ccbc-4cc5-aac7-eeb91290aa0e",
   "metadata": {},
   "outputs": [],
   "source": [
    "b = 0\n",
    "for year in range(1990, 2061):\n",
    "    a = 0\n",
    "    for i in range(0,71):\n",
    "        a = a + df_yearly_EoL.loc[i,year]*df.loc[i,'PhaseOut']\n",
    "    df.loc[b,'V_new_EoL_PhaseOut'] = a\n",
    "    b = b + 1"
   ]
  },
  {
   "cell_type": "code",
   "execution_count": 23,
   "id": "49e5f9e2-2761-4dfe-b88b-7a2469665bb1",
   "metadata": {},
   "outputs": [],
   "source": [
    "# generate a column to store the total EoL volumn from stock carpet and every year's new carpet\n",
    "df['V4_PhaseOut'] = 0"
   ]
  },
  {
   "cell_type": "code",
   "execution_count": 24,
   "id": "bff4c1f6-2e84-448e-aab1-8a44d1fa2678",
   "metadata": {},
   "outputs": [],
   "source": [
    "for i in range(0,71):\n",
    "    df.loc[i,'V4_PhaseOut'] = df.loc[i,'V_iniStock_EoL'] + df.loc[i,'V_new_EoL_PhaseOut']"
   ]
  },
  {
   "cell_type": "code",
   "execution_count": 25,
   "id": "ed6bcf34-7838-4275-899c-44351828db96",
   "metadata": {},
   "outputs": [],
   "source": [
    "df['V_delta_S_PhaseOut'] = 0 # add a column to stock yearly nylon carpet volumn stock change under phaseout scenario"
   ]
  },
  {
   "cell_type": "code",
   "execution_count": 26,
   "id": "a1bb6a9b-9fc9-44c7-9ffd-4aefd5a8e16f",
   "metadata": {},
   "outputs": [],
   "source": [
    "# calculate the yearly change of nylon carpet in use stock under phaseout scenario\n",
    "for i in range(0,71):\n",
    "     df.loc[i,'V_delta_S_PhaseOut'] = df.loc[i,'V_sales_nylon']*df.loc[i,'PhaseOut'] - df.loc[i,'V4_PhaseOut']"
   ]
  },
  {
   "cell_type": "code",
   "execution_count": 27,
   "id": "0ff69d6e-4735-49b2-8cd1-108cbb6258f6",
   "metadata": {},
   "outputs": [],
   "source": [
    "df['V_stock_PhaseOut'] = 0 # add a column to stock yearly total nylon carpet volumn stock "
   ]
  },
  {
   "cell_type": "code",
   "execution_count": 28,
   "id": "29a773e9-a563-4cc3-885b-2c4b5568cca2",
   "metadata": {},
   "outputs": [],
   "source": [
    "# calculate the total carpet in stock every year\n",
    "df.loc[0,'V_stock_PhaseOut'] = S0_volumn + df.loc[0,'V_delta_S_PhaseOut']\n",
    "for i in range(1,71):\n",
    "     df.loc[i,'V_stock_PhaseOut'] = df.loc[i-1,'V_stock_PhaseOut'] + df.loc[i, 'V_delta_S_PhaseOut']"
   ]
  },
  {
   "cell_type": "markdown",
   "id": "42946785-ea28-4547-912e-d3de6a71efa1",
   "metadata": {},
   "source": [
    "#### calculate normal v4"
   ]
  },
  {
   "cell_type": "code",
   "execution_count": 29,
   "id": "bba97baf-7d5e-4f31-8296-c99740cf56e4",
   "metadata": {},
   "outputs": [],
   "source": [
    "# generate a column to store the total EoL volumn from stock carpet and every year's new carpet\n",
    "df['V4'] = 0"
   ]
  },
  {
   "cell_type": "code",
   "execution_count": 30,
   "id": "1b16a73e-a566-48a9-ab7c-8f14a4b75877",
   "metadata": {},
   "outputs": [],
   "source": [
    "for i in range(0,71):\n",
    "    df.loc[i,'V4'] = df.loc[i,'V_iniStock_EoL'] + df.loc[i,'V_new_EoL']"
   ]
  },
  {
   "cell_type": "code",
   "execution_count": 31,
   "id": "8a34e4f1-f64a-4156-88d1-52fe64578b2e",
   "metadata": {},
   "outputs": [],
   "source": [
    "df['V_delta_S'] = 0 # add a column to stock yearly nylon carpet volumn stock change"
   ]
  },
  {
   "cell_type": "code",
   "execution_count": 32,
   "id": "0b443ff3-ca69-4c51-9ba2-12d2ad124526",
   "metadata": {},
   "outputs": [],
   "source": [
    "# calculate the yearly change of nylon carpet in use stock\n",
    "for i in range(0,71):\n",
    "     df.loc[i,'V_delta_S'] = df.loc[i,'V_sales_nylon'] - df.loc[i,'V4']"
   ]
  },
  {
   "cell_type": "code",
   "execution_count": 33,
   "id": "3a569d21-ae82-440d-9669-c41a47f1df38",
   "metadata": {},
   "outputs": [],
   "source": [
    "df['V_stock'] = 0 # add a column to stock yearly total nylon carpet volumn stock "
   ]
  },
  {
   "cell_type": "code",
   "execution_count": 34,
   "id": "9429d3f4-d101-4002-b1d8-afdc51ecb24a",
   "metadata": {},
   "outputs": [],
   "source": [
    "# calculate the total carpet in stock every year\n",
    "df.loc[0,'V_stock'] = S0_volumn + df.loc[0,'V_delta_S']\n",
    "for i in range(1,71):\n",
    "     df.loc[i,'V_stock'] = df.loc[i-1,'V_stock'] + df.loc[i, 'V_delta_S']"
   ]
  },
  {
   "cell_type": "code",
   "execution_count": 35,
   "id": "c128303c-6ec1-4c9d-b3fb-9579c676c0d9",
   "metadata": {},
   "outputs": [],
   "source": [
    "df['F_to_air'] = 0 # add a column to stock yearly in use PFAS lost to air"
   ]
  },
  {
   "cell_type": "code",
   "execution_count": 36,
   "id": "004937f1-4580-4f1e-b5e4-1bd705c4907a",
   "metadata": {},
   "outputs": [],
   "source": [
    "df['F_to_dust'] = 0 # add a column to stock yearly in use PFAS lost to dust"
   ]
  },
  {
   "cell_type": "code",
   "execution_count": 37,
   "id": "85521d40-8374-4b0f-a210-857bbeb899dd",
   "metadata": {},
   "outputs": [],
   "source": [
    "df['F6'] = 0 # add a column to stock yearly PFAS emission from in use carpet"
   ]
  },
  {
   "cell_type": "code",
   "execution_count": 38,
   "id": "0011783b-c99a-4348-b227-6e77d6634e13",
   "metadata": {},
   "outputs": [],
   "source": [
    "# calculate the PFAS emissions from in-use stock\n",
    "for i in range(0,71):\n",
    "    df.loc[i,'F_to_air'] = P_yearlyloss_air * df.loc[i,'V_stock_PhaseOut']/1000\n",
    "    df.loc[i,'F_to_dust'] = P_yearlyloss_dust * df.loc[i,'V_stock_PhaseOut']/1000\n",
    "    df.loc[i,'F6'] = (df.loc[i,'F_to_air'] + df.loc[i,'F_to_dust'])*2"
   ]
  },
  {
   "cell_type": "markdown",
   "id": "f59e6c62-d3bc-4eb0-989b-4dbf8ca2ae64",
   "metadata": {},
   "source": [
    "### In_use stock calculation"
   ]
  },
  {
   "cell_type": "code",
   "execution_count": 39,
   "id": "6e9f8ab0-f008-4517-98ff-2499883b87c0",
   "metadata": {},
   "outputs": [],
   "source": [
    "df['F_delta_S'] = 0 # add a column to stock yearly total PFAS change in stock"
   ]
  },
  {
   "cell_type": "code",
   "execution_count": 40,
   "id": "fc1c2671-ab7f-4c15-9b16-2b6f585286cc",
   "metadata": {},
   "outputs": [],
   "source": [
    "df['F_stock'] = 0 # add a column to stock yearly total PFAS in stock"
   ]
  },
  {
   "cell_type": "code",
   "execution_count": 41,
   "id": "45d2212a-b084-4817-bcc5-6af54ba99924",
   "metadata": {},
   "outputs": [],
   "source": [
    "df['F2'] = 0\n",
    "df['F4'] = 0\n",
    "df['F5'] = 0"
   ]
  },
  {
   "cell_type": "code",
   "execution_count": 42,
   "id": "7b3670bb-9855-41bc-b071-bac0a57690ff",
   "metadata": {},
   "outputs": [],
   "source": [
    "#method 2: using the method in excel template, according to the potion of in use carpet to calculate\n",
    "df.loc[0,'F4'] = (df.loc[0,'V4']/S0_volumn)*S0_PFAS\n",
    "df.loc[0,'F2'] = df.loc[0,'F1'] + df.loc[0,'F_production'] + df.loc[0,'F5']- df.loc[0,'F3']\n",
    "df.loc[0,'F_delta_S'] = df.loc[0,'F2'] - df.loc[0,'F4'] - df.loc[0,'F6']\n",
    "df.loc[0,'F_stock'] = df.loc[0,'F_delta_S'] + S0_PFAS\n",
    "for i in range(1,71):\n",
    "    if df.loc[i-1, 'F_stock'] > 0:\n",
    "        df.loc[i,'F4'] = (df.loc[0,'V4']/df.loc[i-1,'V_stock'])*df.loc[i-1,'F_stock']\n",
    "        df.loc[i,'F5'] = df.loc[i-1,'F4'] * df.loc[i,'RR_total'] * R_to_carpet\n",
    "        df.loc[i,'F2'] = df.loc[i,'F1'] + df.loc[i,'F_production'] + df.loc[i,'F5']- df.loc[i,'F3']\n",
    "        df.loc[i,'F_delta_S'] = df.loc[i,'F2'] - df.loc[i,'F4'] - df.loc[i,'F6']\n",
    "        df.loc[i,'F_stock'] = df.loc[i,'F_delta_S'] + df.loc[i-1,'F_stock']\n",
    "    elif df.loc[i-1, 'F_stock'] < 0:\n",
    "        df.loc[i-1,'F_stock'] = df.loc[i-2,'F_stock']\n",
    "        df.loc[i,'F4'] = (df.loc[0,'V4']/df.loc[i-1,'V_stock'])*df.loc[i-1,'F_stock']\n",
    "        df.loc[i,'F5'] = df.loc[i-1,'F4'] * df.loc[i,'RR_total'] * R_to_carpet\n",
    "        df.loc[i,'F2'] = df.loc[i,'F1'] + df.loc[i,'F_production'] + df.loc[i,'F5']- df.loc[i,'F3']\n",
    "        df.loc[i,'F_delta_S'] = df.loc[i,'F2'] - df.loc[i,'F4'] - df.loc[i,'F6']\n",
    "        df.loc[i,'F_stock'] = df.loc[i,'F_delta_S'] + df.loc[i-1,'F_stock']"
   ]
  },
  {
   "cell_type": "code",
   "execution_count": 43,
   "id": "4f9573cb-7256-4655-b76a-746bfc7be576",
   "metadata": {},
   "outputs": [],
   "source": [
    "df['F8'] = 0"
   ]
  },
  {
   "cell_type": "code",
   "execution_count": 44,
   "id": "3d01fc8b-acbe-40f0-91ae-0b05b1b829b4",
   "metadata": {},
   "outputs": [],
   "source": [
    "# calculate the PFAS flow in discarded carpet to incineration\n",
    "for i in range(0,71):\n",
    "    df.loc[i,'F8'] = df.loc[i,'F4'] * df.loc[i,'IncR']"
   ]
  },
  {
   "cell_type": "code",
   "execution_count": 45,
   "id": "3a06a8c6-017c-4296-a0e4-a2e2c1773593",
   "metadata": {},
   "outputs": [],
   "source": [
    "df['F9'] = 0"
   ]
  },
  {
   "cell_type": "code",
   "execution_count": 46,
   "id": "90284f74-58b2-4863-9a06-8f0e97b92213",
   "metadata": {},
   "outputs": [],
   "source": [
    "# calculate the PFAS emission during carpet production\n",
    "for i in range(0,71):\n",
    "    df.loc[i,'F9'] = df.loc[i,'F_production'] * Prod_emi_R"
   ]
  },
  {
   "cell_type": "markdown",
   "id": "952d1bdd-5953-405c-b0c9-f83402964962",
   "metadata": {},
   "source": [
    "### Calculation of PFASs accumulation in landfills"
   ]
  },
  {
   "cell_type": "code",
   "execution_count": 47,
   "id": "0b939cdb-e995-456b-9783-4d612a6e6448",
   "metadata": {},
   "outputs": [],
   "source": [
    "df['F_EoL_total'] = 0"
   ]
  },
  {
   "cell_type": "code",
   "execution_count": 48,
   "id": "3fa76fe9-2509-45b0-8ece-013a37d9abf1",
   "metadata": {},
   "outputs": [],
   "source": [
    "# calculate the yearly total EoL, including F4 and F3\n",
    "for i in range(0,71):\n",
    "    df.loc[i,'F_EoL_total'] = df.loc[i,'F3'] + df.loc[i,'F4']"
   ]
  },
  {
   "cell_type": "code",
   "execution_count": 49,
   "id": "d2aa6105-fc32-4c60-a874-1af538119b7c",
   "metadata": {},
   "outputs": [],
   "source": [
    "df['landfill_ratio'] = 0 # the ratio is calculated using 1 - recycle ratio - incineration ratio"
   ]
  },
  {
   "cell_type": "code",
   "execution_count": 50,
   "id": "5ce7da04-1eb1-418a-983a-fc423771f62f",
   "metadata": {},
   "outputs": [],
   "source": [
    "for i in range(0,71):\n",
    "    df.loc[i,'landfill_ratio'] = 1 - df.loc[i,'RR_total'] - df.loc[i,'IncR']"
   ]
  },
  {
   "cell_type": "code",
   "execution_count": 51,
   "id": "3465ec8c-f17c-4f2b-b09d-e54921dcfac1",
   "metadata": {},
   "outputs": [],
   "source": [
    "df['F_landfill_yearly'] = 0 # store every year's landfill PFAS"
   ]
  },
  {
   "cell_type": "code",
   "execution_count": 52,
   "id": "dc3a3c3e-ee38-4b48-afb4-712cad1ebbef",
   "metadata": {},
   "outputs": [],
   "source": [
    "# calculate the yearly landfill PFAS\n",
    "for i in range(0,71):\n",
    "    df.loc[i,'F_landfill_yearly'] = df.loc[i,'F_EoL_total'] * df.loc[i,'landfill_ratio']"
   ]
  },
  {
   "cell_type": "code",
   "execution_count": 53,
   "id": "4b7da307-6659-41c1-9a0b-b6d726150102",
   "metadata": {},
   "outputs": [],
   "source": [
    "df['F_accu_landfill'] = 0 # store accumulated landfill PFAS, in unit of tonnes"
   ]
  },
  {
   "cell_type": "code",
   "execution_count": 54,
   "id": "5e8bfa7e-7317-48ba-8a80-2ea9b3a6b984",
   "metadata": {},
   "outputs": [],
   "source": [
    "# calculate the accumulated PFAS to landfill for every year\n",
    "for i in range(0,71):\n",
    "    a = 0\n",
    "    for j in range(0,i+1):\n",
    "        a = a + df.loc[j,'F_landfill_yearly']\n",
    "    df.loc[i,'F_accu_landfill'] = a"
   ]
  },
  {
   "cell_type": "markdown",
   "id": "fb03bf54-7d11-4bde-9284-6d8097fa0fd7",
   "metadata": {},
   "source": [
    "### Caclulation of PFASs in landfill leachate"
   ]
  },
  {
   "cell_type": "code",
   "execution_count": 55,
   "id": "d8afaa80-606c-4081-bbd5-b40f71661f2c",
   "metadata": {},
   "outputs": [],
   "source": [
    "df_yearly_EoL_PhaseOut = df_yearly_EoL"
   ]
  },
  {
   "cell_type": "code",
   "execution_count": 56,
   "id": "65d2b5d8-8ee1-43d3-b545-438e4e110e05",
   "metadata": {},
   "outputs": [],
   "source": [
    "for i in range(0,71):\n",
    "    for year in range(1990,2061):\n",
    "        df_yearly_EoL_PhaseOut.loc[i,year] = df_yearly_EoL_PhaseOut.loc[i,year] * df.loc[i,'PhaseOut']"
   ]
  },
  {
   "cell_type": "code",
   "execution_count": 57,
   "id": "692374cb-e5f8-4a99-8fdf-cd45a2bf14f7",
   "metadata": {},
   "outputs": [],
   "source": [
    "df['V_new_EoL_PhaseOut'] = 0"
   ]
  },
  {
   "cell_type": "code",
   "execution_count": 58,
   "id": "7e50a3c9-50ae-45f2-8811-57cdf7b785b0",
   "metadata": {},
   "outputs": [],
   "source": [
    "b = 0\n",
    "for year in range(1990, 2061):\n",
    "    a = 0\n",
    "    for i in range(0,71):\n",
    "        a = a + df_yearly_EoL_PhaseOut.loc[i,year]\n",
    "    df.loc[b,'V_new_EoL_PhaseOut'] = a\n",
    "    b = b + 1"
   ]
  },
  {
   "cell_type": "code",
   "execution_count": 59,
   "id": "da06b7d9-0dcb-4e14-b825-ceeb6ad81dc7",
   "metadata": {},
   "outputs": [],
   "source": [
    "df['V4_PhaseOut'] = 0"
   ]
  },
  {
   "cell_type": "code",
   "execution_count": 60,
   "id": "4f1f1c0a-f89b-490d-adeb-03b7779e7054",
   "metadata": {},
   "outputs": [],
   "source": [
    "for i in range(0,71):\n",
    "    df.loc[i,'V4_PhaseOut'] = df.loc[i,'V_iniStock_EoL'] + df.loc[i,'V_new_EoL_PhaseOut']"
   ]
  },
  {
   "cell_type": "code",
   "execution_count": 61,
   "id": "c1fc5650-443b-4fb5-96bf-3657a79624be",
   "metadata": {},
   "outputs": [],
   "source": [
    "df['V_annual_landfill'] = 0 # million m2, creat a column to store the volumn of end of life carpet, including discarded carpet and waste from production."
   ]
  },
  {
   "cell_type": "code",
   "execution_count": 62,
   "id": "4b1d2d7d-e020-48ec-b187-02e5e46ee11b",
   "metadata": {},
   "outputs": [],
   "source": [
    "# calculate the annual volumn of carpet to landfill, including in use EoL and production waste.\n",
    "for i in range(0,71):\n",
    "    df.loc[i,'V_annual_landfill'] = df.loc[i,'V4_PhaseOut'] * df.loc[i,'landfill_ratio'] + df.loc[i,'V_production'] * df.loc[i,'Percent_nylon'] * R_pro_waste * df.loc[i,'PhaseOut']"
   ]
  },
  {
   "cell_type": "code",
   "execution_count": 63,
   "id": "e6a32a22-ea7d-4fa1-8790-df026f933834",
   "metadata": {},
   "outputs": [],
   "source": [
    "df['V_accum_landfill'] = 0 # million m2, creat a column to store the volumn of accumulated carpet in landfills"
   ]
  },
  {
   "cell_type": "code",
   "execution_count": 64,
   "id": "c554be27-ca40-4231-983b-664f2f93ff56",
   "metadata": {},
   "outputs": [],
   "source": [
    "# calculate the accumulated volumn of carpet to landfill for every year\n",
    "for i in range(0,71):\n",
    "    a = 0\n",
    "    for j in range(0,i+1):\n",
    "        a = a + df.loc[j,'V_annual_landfill']\n",
    "    df.loc[i,'V_accum_landfill'] = a"
   ]
  },
  {
   "cell_type": "code",
   "execution_count": 65,
   "id": "e1d3c1c3-1c2e-40c3-b2a9-43b31e2c4b78",
   "metadata": {},
   "outputs": [],
   "source": [
    "df['Mass_accum_landfill'] = 0 # tonnes, the mass of carpet accumulated in landfill"
   ]
  },
  {
   "cell_type": "code",
   "execution_count": 66,
   "id": "ccf3da14-8ebf-43da-adb4-c9d7bcb06f47",
   "metadata": {},
   "outputs": [],
   "source": [
    "for i in range(0,71):\n",
    "    df.loc[i,'Mass_accum_landfill'] = df.loc[i,'V_accum_landfill'] * 23.9 * 1000"
   ]
  },
  {
   "cell_type": "code",
   "execution_count": 67,
   "id": "f5f6c911-c45f-450a-83f4-bcb8e4e3fae7",
   "metadata": {},
   "outputs": [],
   "source": [
    "df['PFAS_landfill_leachate'] = 0 # Kg, the mass of PFAS leachated from landfilled carpet"
   ]
  },
  {
   "cell_type": "code",
   "execution_count": 68,
   "id": "fa04afda-a73e-4067-a06f-cfeee3baefae",
   "metadata": {},
   "outputs": [],
   "source": [
    "for i in range(0,71):\n",
    "    df.loc[i,'PFAS_landfill_leachate'] = df.loc[i,'Mass_accum_landfill'] * xt * LG/140 * 365/1000000 * 0.35"
   ]
  },
  {
   "cell_type": "code",
   "execution_count": 69,
   "id": "439b4ed9-67d9-4063-8184-a8678b9344db",
   "metadata": {},
   "outputs": [],
   "source": [
    "df.to_csv('NP_HIGH_PhaseOut_v2.csv',index = False)"
   ]
  }
 ],
 "metadata": {
  "kernelspec": {
   "display_name": "Python 3 (ipykernel)",
   "language": "python",
   "name": "python3"
  },
  "language_info": {
   "codemirror_mode": {
    "name": "ipython",
    "version": 3
   },
   "file_extension": ".py",
   "mimetype": "text/x-python",
   "name": "python",
   "nbconvert_exporter": "python",
   "pygments_lexer": "ipython3",
   "version": "3.9.16"
  }
 },
 "nbformat": 4,
 "nbformat_minor": 5
}

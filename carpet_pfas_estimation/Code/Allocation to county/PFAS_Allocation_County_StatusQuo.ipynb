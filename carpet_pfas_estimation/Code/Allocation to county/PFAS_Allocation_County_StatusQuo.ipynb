{
 "cells": [
  {
   "cell_type": "code",
   "execution_count": 1,
   "id": "529cb94d-e5c9-4010-a2b2-c998f0135bee",
   "metadata": {},
   "outputs": [],
   "source": [
    "import pandas as pd\n",
    "import numpy as np"
   ]
  },
  {
   "cell_type": "code",
   "execution_count": 2,
   "id": "2fdaf99e-ae53-440a-badd-04768d21b087",
   "metadata": {},
   "outputs": [],
   "source": [
    "df_PFAS_DATA = pd.read_csv('C:/Users/mchen48/Box/01 Research/PFASs/PFASs_in_Carpet/00 PFAS_US_carpet/PFAS_allocation/PFAS_DATA_StatusQuo.csv')"
   ]
  },
  {
   "cell_type": "code",
   "execution_count": 3,
   "id": "d0679c1c-6238-47f4-ba91-8225caed4de2",
   "metadata": {},
   "outputs": [],
   "source": [
    "df_County_POP = pd.read_csv('C:/Users/mchen48/Box/01 Research/PFASs/PFASs_in_Carpet/United_States_Pop_data/US population 1990-2060.csv')\n",
    "### PC means per capita\n",
    "df_PC_FloorArea = pd.read_csv('C:/Users/mchen48/Box/01 Research/PFASs/PFASs_in_Carpet/00 PFAS_US_carpet/PFAS_allocation/PC_FloorArea.csv')"
   ]
  },
  {
   "cell_type": "code",
   "execution_count": 4,
   "id": "545ec39d-1a49-4e0e-8964-ec409d46edaa",
   "metadata": {},
   "outputs": [
    {
     "data": {
      "text/html": [
       "<div>\n",
       "<style scoped>\n",
       "    .dataframe tbody tr th:only-of-type {\n",
       "        vertical-align: middle;\n",
       "    }\n",
       "\n",
       "    .dataframe tbody tr th {\n",
       "        vertical-align: top;\n",
       "    }\n",
       "\n",
       "    .dataframe thead th {\n",
       "        text-align: right;\n",
       "    }\n",
       "</style>\n",
       "<table border=\"1\" class=\"dataframe\">\n",
       "  <thead>\n",
       "    <tr style=\"text-align: right;\">\n",
       "      <th></th>\n",
       "      <th>GeoID</th>\n",
       "      <th>County</th>\n",
       "      <th>State</th>\n",
       "      <th>1990</th>\n",
       "      <th>1991</th>\n",
       "      <th>1992</th>\n",
       "      <th>1993</th>\n",
       "      <th>1994</th>\n",
       "      <th>1995</th>\n",
       "      <th>1996</th>\n",
       "      <th>...</th>\n",
       "      <th>2051</th>\n",
       "      <th>2052</th>\n",
       "      <th>2053</th>\n",
       "      <th>2054</th>\n",
       "      <th>2055</th>\n",
       "      <th>2056</th>\n",
       "      <th>2057</th>\n",
       "      <th>2058</th>\n",
       "      <th>2059</th>\n",
       "      <th>2060</th>\n",
       "    </tr>\n",
       "  </thead>\n",
       "  <tbody>\n",
       "    <tr>\n",
       "      <th>0</th>\n",
       "      <td>1001</td>\n",
       "      <td>Autauga</td>\n",
       "      <td>Alabama</td>\n",
       "      <td>61.240588</td>\n",
       "      <td>61.240588</td>\n",
       "      <td>61.240588</td>\n",
       "      <td>61.240588</td>\n",
       "      <td>61.240588</td>\n",
       "      <td>61.240588</td>\n",
       "      <td>61.240588</td>\n",
       "      <td>...</td>\n",
       "      <td>68.250337</td>\n",
       "      <td>68.395330</td>\n",
       "      <td>68.543862</td>\n",
       "      <td>68.689263</td>\n",
       "      <td>68.835518</td>\n",
       "      <td>68.980912</td>\n",
       "      <td>69.127344</td>\n",
       "      <td>69.272749</td>\n",
       "      <td>69.420024</td>\n",
       "      <td>69.564495</td>\n",
       "    </tr>\n",
       "    <tr>\n",
       "      <th>1</th>\n",
       "      <td>1003</td>\n",
       "      <td>Baldwin</td>\n",
       "      <td>Alabama</td>\n",
       "      <td>63.024581</td>\n",
       "      <td>63.024581</td>\n",
       "      <td>63.024581</td>\n",
       "      <td>63.024581</td>\n",
       "      <td>63.024581</td>\n",
       "      <td>63.024581</td>\n",
       "      <td>63.024581</td>\n",
       "      <td>...</td>\n",
       "      <td>70.821662</td>\n",
       "      <td>70.958614</td>\n",
       "      <td>71.093020</td>\n",
       "      <td>71.224427</td>\n",
       "      <td>71.353405</td>\n",
       "      <td>71.480085</td>\n",
       "      <td>71.604700</td>\n",
       "      <td>71.727260</td>\n",
       "      <td>71.847970</td>\n",
       "      <td>71.966303</td>\n",
       "    </tr>\n",
       "    <tr>\n",
       "      <th>2</th>\n",
       "      <td>1005</td>\n",
       "      <td>Barbour</td>\n",
       "      <td>Alabama</td>\n",
       "      <td>57.738339</td>\n",
       "      <td>57.738339</td>\n",
       "      <td>57.738339</td>\n",
       "      <td>57.738339</td>\n",
       "      <td>57.738339</td>\n",
       "      <td>57.738339</td>\n",
       "      <td>57.738339</td>\n",
       "      <td>...</td>\n",
       "      <td>62.689110</td>\n",
       "      <td>62.771503</td>\n",
       "      <td>62.851687</td>\n",
       "      <td>62.932580</td>\n",
       "      <td>63.009926</td>\n",
       "      <td>63.083120</td>\n",
       "      <td>63.155909</td>\n",
       "      <td>63.224793</td>\n",
       "      <td>63.290448</td>\n",
       "      <td>63.349088</td>\n",
       "    </tr>\n",
       "    <tr>\n",
       "      <th>3</th>\n",
       "      <td>1007</td>\n",
       "      <td>Bibb</td>\n",
       "      <td>Alabama</td>\n",
       "      <td>50.256551</td>\n",
       "      <td>50.256551</td>\n",
       "      <td>50.256551</td>\n",
       "      <td>50.256551</td>\n",
       "      <td>50.256551</td>\n",
       "      <td>50.256551</td>\n",
       "      <td>50.256551</td>\n",
       "      <td>...</td>\n",
       "      <td>55.686040</td>\n",
       "      <td>55.780718</td>\n",
       "      <td>55.872964</td>\n",
       "      <td>55.963982</td>\n",
       "      <td>56.055021</td>\n",
       "      <td>56.144336</td>\n",
       "      <td>56.234053</td>\n",
       "      <td>56.320021</td>\n",
       "      <td>56.404528</td>\n",
       "      <td>56.487972</td>\n",
       "    </tr>\n",
       "    <tr>\n",
       "      <th>4</th>\n",
       "      <td>1009</td>\n",
       "      <td>Blount</td>\n",
       "      <td>Alabama</td>\n",
       "      <td>53.945580</td>\n",
       "      <td>53.945580</td>\n",
       "      <td>53.945580</td>\n",
       "      <td>53.945580</td>\n",
       "      <td>53.945580</td>\n",
       "      <td>53.945580</td>\n",
       "      <td>53.945580</td>\n",
       "      <td>...</td>\n",
       "      <td>61.306310</td>\n",
       "      <td>61.445607</td>\n",
       "      <td>61.582802</td>\n",
       "      <td>61.721631</td>\n",
       "      <td>61.860970</td>\n",
       "      <td>62.000825</td>\n",
       "      <td>62.140431</td>\n",
       "      <td>62.280171</td>\n",
       "      <td>62.421707</td>\n",
       "      <td>62.562276</td>\n",
       "    </tr>\n",
       "    <tr>\n",
       "      <th>...</th>\n",
       "      <td>...</td>\n",
       "      <td>...</td>\n",
       "      <td>...</td>\n",
       "      <td>...</td>\n",
       "      <td>...</td>\n",
       "      <td>...</td>\n",
       "      <td>...</td>\n",
       "      <td>...</td>\n",
       "      <td>...</td>\n",
       "      <td>...</td>\n",
       "      <td>...</td>\n",
       "      <td>...</td>\n",
       "      <td>...</td>\n",
       "      <td>...</td>\n",
       "      <td>...</td>\n",
       "      <td>...</td>\n",
       "      <td>...</td>\n",
       "      <td>...</td>\n",
       "      <td>...</td>\n",
       "      <td>...</td>\n",
       "      <td>...</td>\n",
       "    </tr>\n",
       "    <tr>\n",
       "      <th>3137</th>\n",
       "      <td>56037</td>\n",
       "      <td>Sweetwater</td>\n",
       "      <td>Wyoming</td>\n",
       "      <td>62.269701</td>\n",
       "      <td>62.269701</td>\n",
       "      <td>62.269701</td>\n",
       "      <td>62.269701</td>\n",
       "      <td>62.269701</td>\n",
       "      <td>62.269701</td>\n",
       "      <td>62.269701</td>\n",
       "      <td>...</td>\n",
       "      <td>69.235919</td>\n",
       "      <td>69.397067</td>\n",
       "      <td>69.557169</td>\n",
       "      <td>69.714155</td>\n",
       "      <td>69.867309</td>\n",
       "      <td>70.019994</td>\n",
       "      <td>70.167925</td>\n",
       "      <td>70.313542</td>\n",
       "      <td>70.455324</td>\n",
       "      <td>70.594043</td>\n",
       "    </tr>\n",
       "    <tr>\n",
       "      <th>3138</th>\n",
       "      <td>56039</td>\n",
       "      <td>Teton</td>\n",
       "      <td>Wyoming</td>\n",
       "      <td>68.012688</td>\n",
       "      <td>68.012688</td>\n",
       "      <td>68.012688</td>\n",
       "      <td>68.012688</td>\n",
       "      <td>68.012688</td>\n",
       "      <td>68.012688</td>\n",
       "      <td>68.012688</td>\n",
       "      <td>...</td>\n",
       "      <td>75.988955</td>\n",
       "      <td>76.156126</td>\n",
       "      <td>76.320187</td>\n",
       "      <td>76.481986</td>\n",
       "      <td>76.638692</td>\n",
       "      <td>76.794753</td>\n",
       "      <td>76.947017</td>\n",
       "      <td>77.098458</td>\n",
       "      <td>77.249672</td>\n",
       "      <td>77.398209</td>\n",
       "    </tr>\n",
       "    <tr>\n",
       "      <th>3139</th>\n",
       "      <td>56041</td>\n",
       "      <td>Uinta</td>\n",
       "      <td>Wyoming</td>\n",
       "      <td>63.472719</td>\n",
       "      <td>63.472719</td>\n",
       "      <td>63.472719</td>\n",
       "      <td>63.472719</td>\n",
       "      <td>63.472719</td>\n",
       "      <td>63.472719</td>\n",
       "      <td>63.472719</td>\n",
       "      <td>...</td>\n",
       "      <td>68.479414</td>\n",
       "      <td>68.564130</td>\n",
       "      <td>68.646823</td>\n",
       "      <td>68.732175</td>\n",
       "      <td>68.812376</td>\n",
       "      <td>68.896043</td>\n",
       "      <td>68.975815</td>\n",
       "      <td>69.053749</td>\n",
       "      <td>69.127667</td>\n",
       "      <td>69.202436</td>\n",
       "    </tr>\n",
       "    <tr>\n",
       "      <th>3140</th>\n",
       "      <td>56043</td>\n",
       "      <td>Washakie</td>\n",
       "      <td>Wyoming</td>\n",
       "      <td>70.543767</td>\n",
       "      <td>70.543767</td>\n",
       "      <td>70.543767</td>\n",
       "      <td>70.543767</td>\n",
       "      <td>70.543767</td>\n",
       "      <td>70.543767</td>\n",
       "      <td>70.543767</td>\n",
       "      <td>...</td>\n",
       "      <td>76.206374</td>\n",
       "      <td>76.301985</td>\n",
       "      <td>76.385323</td>\n",
       "      <td>76.485187</td>\n",
       "      <td>76.387778</td>\n",
       "      <td>76.472796</td>\n",
       "      <td>76.559605</td>\n",
       "      <td>76.627369</td>\n",
       "      <td>76.710962</td>\n",
       "      <td>76.774496</td>\n",
       "    </tr>\n",
       "    <tr>\n",
       "      <th>3141</th>\n",
       "      <td>56045</td>\n",
       "      <td>Weston</td>\n",
       "      <td>Wyoming</td>\n",
       "      <td>69.542958</td>\n",
       "      <td>69.542958</td>\n",
       "      <td>69.542958</td>\n",
       "      <td>69.542958</td>\n",
       "      <td>69.542958</td>\n",
       "      <td>69.542958</td>\n",
       "      <td>69.542958</td>\n",
       "      <td>...</td>\n",
       "      <td>77.564068</td>\n",
       "      <td>77.757727</td>\n",
       "      <td>77.939897</td>\n",
       "      <td>78.131633</td>\n",
       "      <td>78.317965</td>\n",
       "      <td>78.520512</td>\n",
       "      <td>78.713289</td>\n",
       "      <td>78.894733</td>\n",
       "      <td>79.087969</td>\n",
       "      <td>79.291060</td>\n",
       "    </tr>\n",
       "  </tbody>\n",
       "</table>\n",
       "<p>3142 rows × 74 columns</p>\n",
       "</div>"
      ],
      "text/plain": [
       "      GeoID      County    State       1990       1991       1992       1993  \\\n",
       "0      1001     Autauga  Alabama  61.240588  61.240588  61.240588  61.240588   \n",
       "1      1003     Baldwin  Alabama  63.024581  63.024581  63.024581  63.024581   \n",
       "2      1005     Barbour  Alabama  57.738339  57.738339  57.738339  57.738339   \n",
       "3      1007        Bibb  Alabama  50.256551  50.256551  50.256551  50.256551   \n",
       "4      1009      Blount  Alabama  53.945580  53.945580  53.945580  53.945580   \n",
       "...     ...         ...      ...        ...        ...        ...        ...   \n",
       "3137  56037  Sweetwater  Wyoming  62.269701  62.269701  62.269701  62.269701   \n",
       "3138  56039       Teton  Wyoming  68.012688  68.012688  68.012688  68.012688   \n",
       "3139  56041       Uinta  Wyoming  63.472719  63.472719  63.472719  63.472719   \n",
       "3140  56043    Washakie  Wyoming  70.543767  70.543767  70.543767  70.543767   \n",
       "3141  56045      Weston  Wyoming  69.542958  69.542958  69.542958  69.542958   \n",
       "\n",
       "           1994       1995       1996  ...       2051       2052       2053  \\\n",
       "0     61.240588  61.240588  61.240588  ...  68.250337  68.395330  68.543862   \n",
       "1     63.024581  63.024581  63.024581  ...  70.821662  70.958614  71.093020   \n",
       "2     57.738339  57.738339  57.738339  ...  62.689110  62.771503  62.851687   \n",
       "3     50.256551  50.256551  50.256551  ...  55.686040  55.780718  55.872964   \n",
       "4     53.945580  53.945580  53.945580  ...  61.306310  61.445607  61.582802   \n",
       "...         ...        ...        ...  ...        ...        ...        ...   \n",
       "3137  62.269701  62.269701  62.269701  ...  69.235919  69.397067  69.557169   \n",
       "3138  68.012688  68.012688  68.012688  ...  75.988955  76.156126  76.320187   \n",
       "3139  63.472719  63.472719  63.472719  ...  68.479414  68.564130  68.646823   \n",
       "3140  70.543767  70.543767  70.543767  ...  76.206374  76.301985  76.385323   \n",
       "3141  69.542958  69.542958  69.542958  ...  77.564068  77.757727  77.939897   \n",
       "\n",
       "           2054       2055       2056       2057       2058       2059  \\\n",
       "0     68.689263  68.835518  68.980912  69.127344  69.272749  69.420024   \n",
       "1     71.224427  71.353405  71.480085  71.604700  71.727260  71.847970   \n",
       "2     62.932580  63.009926  63.083120  63.155909  63.224793  63.290448   \n",
       "3     55.963982  56.055021  56.144336  56.234053  56.320021  56.404528   \n",
       "4     61.721631  61.860970  62.000825  62.140431  62.280171  62.421707   \n",
       "...         ...        ...        ...        ...        ...        ...   \n",
       "3137  69.714155  69.867309  70.019994  70.167925  70.313542  70.455324   \n",
       "3138  76.481986  76.638692  76.794753  76.947017  77.098458  77.249672   \n",
       "3139  68.732175  68.812376  68.896043  68.975815  69.053749  69.127667   \n",
       "3140  76.485187  76.387778  76.472796  76.559605  76.627369  76.710962   \n",
       "3141  78.131633  78.317965  78.520512  78.713289  78.894733  79.087969   \n",
       "\n",
       "           2060  \n",
       "0     69.564495  \n",
       "1     71.966303  \n",
       "2     63.349088  \n",
       "3     56.487972  \n",
       "4     62.562276  \n",
       "...         ...  \n",
       "3137  70.594043  \n",
       "3138  77.398209  \n",
       "3139  69.202436  \n",
       "3140  76.774496  \n",
       "3141  79.291060  \n",
       "\n",
       "[3142 rows x 74 columns]"
      ]
     },
     "execution_count": 4,
     "metadata": {},
     "output_type": "execute_result"
    }
   ],
   "source": [
    "df_PC_FloorArea"
   ]
  },
  {
   "cell_type": "code",
   "execution_count": 4,
   "id": "8916deca-e31d-4fa8-b0e2-e013316a6341",
   "metadata": {},
   "outputs": [],
   "source": [
    "#### it means the total floor area by multipy population and per capita living area\n",
    "df_Total_FloorArea = df_County_POP.copy()\n",
    "for year in range (1990,2061):\n",
    "    df_Total_FloorArea[f\"{year}\"] = df_County_POP[f\"{year}\"] * df_PC_FloorArea[f\"{year}\"]"
   ]
  },
  {
   "cell_type": "code",
   "execution_count": 5,
   "id": "cc9eaa7d-531b-4ede-9815-a14c9c78ff1d",
   "metadata": {},
   "outputs": [],
   "source": [
    "### Calculate the total floor area of each column\n",
    "Total_FA = df_Total_FloorArea.iloc[:,3:74].sum()"
   ]
  },
  {
   "cell_type": "code",
   "execution_count": 6,
   "id": "e0a85803-6760-4856-9fd4-bb1c0ecddf8b",
   "metadata": {},
   "outputs": [],
   "source": [
    "df_County_Ratio = df_Total_FloorArea.copy()\n",
    "for i in range(0,len(df_County_Ratio)):\n",
    "    j = 0\n",
    "    for year in range(1990,2061):\n",
    "        df_County_Ratio.loc[i,f'{year}'] = df_County_Ratio.loc[i,f'{year}']/Total_FA[j]\n",
    "        j = j + 1"
   ]
  },
  {
   "cell_type": "markdown",
   "id": "6a7e2a93-ec4b-42be-8af9-3c98431bba37",
   "metadata": {},
   "source": [
    "#### Allocate In-use Stock PFAS to County_High scenario "
   ]
  },
  {
   "cell_type": "code",
   "execution_count": 7,
   "id": "1ac63b45-e763-41d3-ac2e-91ffab29e35b",
   "metadata": {},
   "outputs": [],
   "source": [
    "df_PFAS_InuseStock_County_High = df_County_POP.copy()"
   ]
  },
  {
   "cell_type": "code",
   "execution_count": 8,
   "id": "5eb32cab-035f-4eb0-bd81-926f67ad5ae9",
   "metadata": {},
   "outputs": [],
   "source": [
    "for i in range(0,len(df_County_POP)):\n",
    "    j = 0\n",
    "    for year in range(1990,2061):\n",
    "        df_PFAS_InuseStock_County_High.loc[i,f'{year}'] = df_County_Ratio.loc[i,f'{year}'] * df_PFAS_DATA.loc[j,'PFAS_InUse_Stock_HIGH(KG)']\n",
    "        j = j + 1"
   ]
  },
  {
   "cell_type": "code",
   "execution_count": 9,
   "id": "fb3e1652-291e-4e59-a85e-930ea80b989b",
   "metadata": {},
   "outputs": [],
   "source": [
    "df_PFAS_InuseStock_County_High.to_csv('InUseStock_High_StatusQuo.csv',index = False)"
   ]
  },
  {
   "cell_type": "code",
   "execution_count": 10,
   "id": "dc507a70-b091-4f22-8c7a-37b2c3c5f450",
   "metadata": {},
   "outputs": [
    {
     "data": {
      "text/plain": [
       "729830.8385999999"
      ]
     },
     "execution_count": 10,
     "metadata": {},
     "output_type": "execute_result"
    }
   ],
   "source": [
    "df_PFAS_InuseStock_County_High['2060'].sum()"
   ]
  },
  {
   "cell_type": "markdown",
   "id": "4d112a94-0c0a-493f-a8ec-17e716ddb907",
   "metadata": {},
   "source": [
    "#### Allocate In-use Stock PFAS to County_Low scenario "
   ]
  },
  {
   "cell_type": "code",
   "execution_count": 11,
   "id": "d5e8cca0-9cc3-4018-aba1-3045e419be25",
   "metadata": {},
   "outputs": [],
   "source": [
    "df_PFAS_InuseStock_County_Low = df_County_POP.copy()"
   ]
  },
  {
   "cell_type": "code",
   "execution_count": 12,
   "id": "4407e8b7-7dfc-46dc-b6a4-487aad74710f",
   "metadata": {},
   "outputs": [],
   "source": [
    "for i in range(0,len(df_County_POP)):\n",
    "    j = 0\n",
    "    for year in range(1990,2061):\n",
    "        df_PFAS_InuseStock_County_Low.loc[i,f'{year}'] = df_County_Ratio.loc[i,f'{year}'] * df_PFAS_DATA.loc[j,'PFAS_InUse_Stock_LOW(KG)']\n",
    "        j = j + 1"
   ]
  },
  {
   "cell_type": "code",
   "execution_count": 13,
   "id": "99c688d1-a9b4-4512-bbf8-5ab227c0ed8b",
   "metadata": {},
   "outputs": [],
   "source": [
    "df_PFAS_InuseStock_County_Low.to_csv('InUseStock_Low_StatusQuo.csv',index = False)"
   ]
  },
  {
   "cell_type": "code",
   "execution_count": 14,
   "id": "f49c731c-bfb2-40a5-a412-bc8a869d6da2",
   "metadata": {},
   "outputs": [
    {
     "data": {
      "text/plain": [
       "78582.75255"
      ]
     },
     "execution_count": 14,
     "metadata": {},
     "output_type": "execute_result"
    }
   ],
   "source": [
    "df_PFAS_InuseStock_County_Low['2060'].sum()"
   ]
  },
  {
   "cell_type": "markdown",
   "id": "7164dbf2-0323-4438-9849-8fc468f46212",
   "metadata": {},
   "source": [
    "#### Allocate In-use Emission PFAS to County_High scenario "
   ]
  },
  {
   "cell_type": "code",
   "execution_count": 15,
   "id": "944c05a9-8ca7-428a-9d3d-a6e395d4bb56",
   "metadata": {},
   "outputs": [],
   "source": [
    "df_PFAS_InuseEmission_County_High = df_County_POP.copy()"
   ]
  },
  {
   "cell_type": "code",
   "execution_count": 16,
   "id": "74cfa6c1-c3a4-4608-8179-6b1d519081fa",
   "metadata": {},
   "outputs": [],
   "source": [
    "for i in range(0,len(df_County_POP)):\n",
    "    j = 0\n",
    "    for year in range(1990,2061):\n",
    "        df_PFAS_InuseEmission_County_High.loc[i,f'{year}'] = df_County_Ratio.loc[i,f'{year}'] * df_PFAS_DATA.loc[j,'PFAS_Emission_HIGH(KG)']\n",
    "        j = j + 1"
   ]
  },
  {
   "cell_type": "code",
   "execution_count": 17,
   "id": "be89b560-577a-4b94-9389-ebb1d4c661b5",
   "metadata": {},
   "outputs": [],
   "source": [
    "df_PFAS_InuseEmission_County_High.to_csv('InUseEmission_High_StatusQuo.csv',index = False)"
   ]
  },
  {
   "cell_type": "code",
   "execution_count": 18,
   "id": "950f4522-1bd8-4ee7-a9c5-e856009a140d",
   "metadata": {},
   "outputs": [
    {
     "data": {
      "text/plain": [
       "6925.851332999999"
      ]
     },
     "execution_count": 18,
     "metadata": {},
     "output_type": "execute_result"
    }
   ],
   "source": [
    "df_PFAS_InuseEmission_County_High['2060'].sum()"
   ]
  },
  {
   "cell_type": "markdown",
   "id": "3326680d-f097-48ca-8fde-3d4ced1bf474",
   "metadata": {},
   "source": [
    "#### Allocate In-use Emission PFAS to County_Low scenario "
   ]
  },
  {
   "cell_type": "code",
   "execution_count": 19,
   "id": "1849f784-19d3-4410-8853-63b6b97dbafa",
   "metadata": {},
   "outputs": [],
   "source": [
    "df_PFAS_InuseEmission_County_Low = df_County_POP.copy()"
   ]
  },
  {
   "cell_type": "code",
   "execution_count": 20,
   "id": "ffbf348b-b77b-43b7-9eab-f4a9ae894dc5",
   "metadata": {},
   "outputs": [],
   "source": [
    "for i in range(0,len(df_County_POP)):\n",
    "    j = 0\n",
    "    for year in range(1990,2061):\n",
    "        df_PFAS_InuseEmission_County_Low.loc[i,f'{year}'] = df_County_Ratio.loc[i,f'{year}'] * df_PFAS_DATA.loc[j,'PFAS_Emission_LOW(KG)']\n",
    "        j = j + 1"
   ]
  },
  {
   "cell_type": "code",
   "execution_count": 21,
   "id": "61b3506b-7847-491f-8888-596e0f072da0",
   "metadata": {},
   "outputs": [],
   "source": [
    "df_PFAS_InuseEmission_County_Low.to_csv('InUseEmission_Low_StatusQuo.csv',index = False)"
   ]
  },
  {
   "cell_type": "code",
   "execution_count": 22,
   "id": "47787e8a-eb64-4c80-8bf4-e5a46561fad0",
   "metadata": {},
   "outputs": [
    {
     "data": {
      "text/plain": [
       "76.65308889"
      ]
     },
     "execution_count": 22,
     "metadata": {},
     "output_type": "execute_result"
    }
   ],
   "source": [
    "df_PFAS_InuseEmission_County_Low['2060'].sum()"
   ]
  },
  {
   "cell_type": "markdown",
   "id": "1cd93195-e54f-4213-867f-da3ed2baa73b",
   "metadata": {},
   "source": [
    "# get the threshold of the 10the percentile of in-use stock under business-as-usual scenario in 2060"
   ]
  },
  {
   "cell_type": "code",
   "execution_count": 3,
   "id": "5e1ff3b0-3ff3-4656-aed3-1b15fccff544",
   "metadata": {},
   "outputs": [],
   "source": [
    "InUseStock_BAU = pd.read_csv('C:/Users/mchen48/Box/01 Research/PFASs/PFASs_in_Carpet/00 PFAS_US_carpet/PFAS_allocation/Allocation_county_Peter/InUseStock_High_StatusQuo.csv')"
   ]
  },
  {
   "cell_type": "code",
   "execution_count": 5,
   "id": "d169608d-ae73-40e6-94d5-4db0b2f3e8e9",
   "metadata": {},
   "outputs": [
    {
     "data": {
      "text/plain": [
       "0        89.366726\n",
       "1       699.087461\n",
       "2        27.060720\n",
       "3        25.313637\n",
       "4        80.160695\n",
       "           ...    \n",
       "3137     99.060726\n",
       "3138     90.022168\n",
       "3139     24.668203\n",
       "3140     10.777783\n",
       "3141     13.338930\n",
       "Name: 2060, Length: 3142, dtype: float64"
      ]
     },
     "execution_count": 5,
     "metadata": {},
     "output_type": "execute_result"
    }
   ],
   "source": [
    "InUseStock_BAU['2060']"
   ]
  },
  {
   "cell_type": "code",
   "execution_count": 16,
   "id": "c7875ca9-e587-49d3-8b1d-0f91a6417cd4",
   "metadata": {},
   "outputs": [],
   "source": [
    "tenth_percentile_BAU_2060 = InUseStock_BAU['2060'].quantile(0.10)"
   ]
  },
  {
   "cell_type": "code",
   "execution_count": 17,
   "id": "e64a7966-a27d-4613-ba57-a4a16b63b116",
   "metadata": {},
   "outputs": [
    {
     "data": {
      "text/plain": [
       "7.7902524187000015"
      ]
     },
     "execution_count": 17,
     "metadata": {},
     "output_type": "execute_result"
    }
   ],
   "source": [
    "tenth_percentile_BAU_2060"
   ]
  },
  {
   "cell_type": "code",
   "execution_count": 8,
   "id": "eb551dd6-219f-4e3d-b936-19c67a5cc624",
   "metadata": {},
   "outputs": [],
   "source": [
    "InUseStock_24 = pd.read_csv('C:/Users/mchen48/Box/01 Research/PFASs/PFASs_in_Carpet/00 PFAS_US_carpet/PFAS_allocation/Allocation_county_Peter/InUseStock_High_Recycling.csv')"
   ]
  },
  {
   "cell_type": "code",
   "execution_count": 18,
   "id": "e68dcc90-8d52-45d0-8209-801d40a9c006",
   "metadata": {},
   "outputs": [],
   "source": [
    "tenth_percentile_24_2060 = InUseStock_24['2060'].quantile(0.10)"
   ]
  },
  {
   "cell_type": "code",
   "execution_count": 20,
   "id": "6a66b0c9-01f5-4aa5-a187-18e940a2c013",
   "metadata": {},
   "outputs": [
    {
     "data": {
      "text/plain": [
       "8.26092106351298"
      ]
     },
     "execution_count": 20,
     "metadata": {},
     "output_type": "execute_result"
    }
   ],
   "source": [
    "tenth_percentile_24_2060"
   ]
  },
  {
   "cell_type": "code",
   "execution_count": 21,
   "id": "4f0d178e-7c89-47f7-b013-ee4475162bce",
   "metadata": {},
   "outputs": [],
   "source": [
    "InUseStock_PhaseOut = pd.read_csv('C:/Users/mchen48/Box/01 Research/PFASs/PFASs_in_Carpet/00 PFAS_US_carpet/PFAS_allocation/Allocation_county_Peter/InUseStock_High_PhaseOut.csv')"
   ]
  },
  {
   "cell_type": "code",
   "execution_count": 22,
   "id": "7a6dc820-75ce-4848-8910-f79c8d2ecf46",
   "metadata": {},
   "outputs": [
    {
     "data": {
      "text/plain": [
       "0        5.924959\n",
       "1       46.349073\n",
       "2        1.794109\n",
       "3        1.678279\n",
       "4        5.314605\n",
       "          ...    \n",
       "3137     6.567666\n",
       "3138     5.968415\n",
       "3139     1.635487\n",
       "3140     0.714560\n",
       "3141     0.884363\n",
       "Name: 2060, Length: 3142, dtype: float64"
      ]
     },
     "execution_count": 22,
     "metadata": {},
     "output_type": "execute_result"
    }
   ],
   "source": [
    "InUseStock_PhaseOut['2060']"
   ]
  },
  {
   "cell_type": "code",
   "execution_count": 24,
   "id": "1d1487ca-a015-4955-943d-5a95a99c926f",
   "metadata": {},
   "outputs": [],
   "source": [
    "# count the number of counties in 2060 under phase-out scenario with in-use stock carpet PFAS less than the 10th percentile of BAU in 2060\n",
    "count = (InUseStock_PhaseOut['2060'] < tenth_percentile_BAU_2060).sum()"
   ]
  },
  {
   "cell_type": "code",
   "execution_count": 25,
   "id": "340c9468-1589-49bd-b090-7419cd715ef2",
   "metadata": {},
   "outputs": [
    {
     "data": {
      "text/plain": [
       "2313"
      ]
     },
     "execution_count": 25,
     "metadata": {},
     "output_type": "execute_result"
    }
   ],
   "source": [
    "count "
   ]
  },
  {
   "cell_type": "code",
   "execution_count": 27,
   "id": "4e8358bf-362f-4989-bb57-46546ed9dc8b",
   "metadata": {},
   "outputs": [
    {
     "data": {
      "text/plain": [
       "0.7361553150859326"
      ]
     },
     "execution_count": 27,
     "metadata": {},
     "output_type": "execute_result"
    }
   ],
   "source": [
    "count/len(InUseStock_PhaseOut)"
   ]
  },
  {
   "cell_type": "code",
   "execution_count": null,
   "id": "30723a16-e56f-43ce-8753-2a57dbd3645e",
   "metadata": {},
   "outputs": [],
   "source": []
  }
 ],
 "metadata": {
  "kernelspec": {
   "display_name": "Python 3 (ipykernel)",
   "language": "python",
   "name": "python3"
  },
  "language_info": {
   "codemirror_mode": {
    "name": "ipython",
    "version": 3
   },
   "file_extension": ".py",
   "mimetype": "text/x-python",
   "name": "python",
   "nbconvert_exporter": "python",
   "pygments_lexer": "ipython3",
   "version": "3.9.19"
  }
 },
 "nbformat": 4,
 "nbformat_minor": 5
}

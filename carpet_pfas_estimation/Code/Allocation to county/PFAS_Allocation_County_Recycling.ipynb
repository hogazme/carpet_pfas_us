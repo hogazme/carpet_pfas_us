{
 "cells": [
  {
   "cell_type": "code",
   "execution_count": 1,
   "id": "529cb94d-e5c9-4010-a2b2-c998f0135bee",
   "metadata": {},
   "outputs": [],
   "source": [
    "import pandas as pd\n",
    "import numpy as np"
   ]
  },
  {
   "cell_type": "code",
   "execution_count": 2,
   "id": "d0679c1c-6238-47f4-ba91-8225caed4de2",
   "metadata": {},
   "outputs": [],
   "source": [
    "df_PFAS_DATA = pd.read_csv('C:/Users/mchen48/Box/01 Research/PFASs/PFASs_in_Carpet/00 PFAS_US_carpet/PFAS_allocation/PFAS_DATA_Recycling.csv')"
   ]
  },
  {
   "cell_type": "code",
   "execution_count": 3,
   "id": "e5a4695b-c264-40df-902a-6eec87b0a2b7",
   "metadata": {},
   "outputs": [],
   "source": [
    "df_County_POP = pd.read_csv('C:/Users/mchen48/Box/01 Research/PFASs/PFASs_in_Carpet/United_States_Pop_data/US population 1990-2060.csv')\n",
    "### PC means per capita\n",
    "df_PC_FloorArea = pd.read_csv('C:/Users/mchen48/Box/01 Research/PFASs/PFASs_in_Carpet/00 PFAS_US_carpet/PFAS_allocation/PC_FloorArea.csv')"
   ]
  },
  {
   "cell_type": "code",
   "execution_count": 4,
   "id": "2d42dc82-829f-4bc6-8f3c-19441af12c68",
   "metadata": {},
   "outputs": [],
   "source": [
    "#### it means the total floor area by multipy population and per capita living area\n",
    "df_Total_FloorArea = df_County_POP.copy()\n",
    "for year in range (1990,2061):\n",
    "    df_Total_FloorArea[f\"{year}\"] = df_County_POP[f\"{year}\"] * df_PC_FloorArea[f\"{year}\"]"
   ]
  },
  {
   "cell_type": "code",
   "execution_count": 5,
   "id": "19cbaada-ddcb-4f5b-a1dc-006733170a5e",
   "metadata": {},
   "outputs": [],
   "source": [
    "### Calculate the total floor area of each column\n",
    "Total_FA = df_Total_FloorArea.iloc[:,3:74].sum()"
   ]
  },
  {
   "cell_type": "code",
   "execution_count": 6,
   "id": "e0a85803-6760-4856-9fd4-bb1c0ecddf8b",
   "metadata": {},
   "outputs": [],
   "source": [
    "df_County_Ratio = df_Total_FloorArea.copy()\n",
    "for i in range(0,len(df_County_Ratio)):\n",
    "    j = 0\n",
    "    for year in range(1990,2061):\n",
    "        df_County_Ratio.loc[i,f'{year}'] = df_County_Ratio.loc[i,f'{year}']/Total_FA[j]\n",
    "        j = j + 1"
   ]
  },
  {
   "cell_type": "markdown",
   "id": "6a7e2a93-ec4b-42be-8af9-3c98431bba37",
   "metadata": {},
   "source": [
    "#### Allocate In-use Stock PFAS to County_High scenario "
   ]
  },
  {
   "cell_type": "code",
   "execution_count": 7,
   "id": "1ac63b45-e763-41d3-ac2e-91ffab29e35b",
   "metadata": {},
   "outputs": [],
   "source": [
    "df_PFAS_InuseStock_County_High = df_County_POP.copy()"
   ]
  },
  {
   "cell_type": "code",
   "execution_count": 8,
   "id": "5eb32cab-035f-4eb0-bd81-926f67ad5ae9",
   "metadata": {},
   "outputs": [],
   "source": [
    "for i in range(0,len(df_County_POP)):\n",
    "    j = 0\n",
    "    for year in range(1990,2061):\n",
    "        df_PFAS_InuseStock_County_High.loc[i,f'{year}'] = df_County_Ratio.loc[i,f'{year}'] * df_PFAS_DATA.loc[j,'PFAS_InUse_Stock_HIGH(KG)']\n",
    "        j = j + 1"
   ]
  },
  {
   "cell_type": "code",
   "execution_count": 9,
   "id": "fb3e1652-291e-4e59-a85e-930ea80b989b",
   "metadata": {},
   "outputs": [],
   "source": [
    "df_PFAS_InuseStock_County_High.to_csv('InUseStock_High_Recycling.csv',index = False)"
   ]
  },
  {
   "cell_type": "code",
   "execution_count": 10,
   "id": "39019a82-e728-4cce-8ede-eb1fac3e5c69",
   "metadata": {},
   "outputs": [
    {
     "data": {
      "text/plain": [
       "773925.4935"
      ]
     },
     "execution_count": 10,
     "metadata": {},
     "output_type": "execute_result"
    }
   ],
   "source": [
    "df_PFAS_InuseStock_County_High['2060'].sum()"
   ]
  },
  {
   "cell_type": "markdown",
   "id": "4d112a94-0c0a-493f-a8ec-17e716ddb907",
   "metadata": {},
   "source": [
    "#### Allocate In-use Stock PFAS to County_Low scenario "
   ]
  },
  {
   "cell_type": "code",
   "execution_count": 11,
   "id": "d5e8cca0-9cc3-4018-aba1-3045e419be25",
   "metadata": {},
   "outputs": [],
   "source": [
    "df_PFAS_InuseStock_County_Low = df_County_POP.copy()"
   ]
  },
  {
   "cell_type": "code",
   "execution_count": 12,
   "id": "4407e8b7-7dfc-46dc-b6a4-487aad74710f",
   "metadata": {},
   "outputs": [],
   "source": [
    "for i in range(0,len(df_County_POP)):\n",
    "    j = 0\n",
    "    for year in range(1990,2061):\n",
    "        df_PFAS_InuseStock_County_Low.loc[i,f'{year}'] = df_County_Ratio.loc[i,f'{year}'] * df_PFAS_DATA.loc[j,'PFAS_InUse_Stock_LOW(KG)']\n",
    "        j = j + 1"
   ]
  },
  {
   "cell_type": "code",
   "execution_count": 13,
   "id": "99c688d1-a9b4-4512-bbf8-5ab227c0ed8b",
   "metadata": {},
   "outputs": [],
   "source": [
    "df_PFAS_InuseStock_County_Low.to_csv('InUseStock_Low_Recycling.csv',index = False)"
   ]
  },
  {
   "cell_type": "code",
   "execution_count": 14,
   "id": "22360fe1-f817-48b1-8f40-d1cd63383fe7",
   "metadata": {},
   "outputs": [
    {
     "data": {
      "text/plain": [
       "83289.76888"
      ]
     },
     "execution_count": 14,
     "metadata": {},
     "output_type": "execute_result"
    }
   ],
   "source": [
    "df_PFAS_InuseStock_County_Low['2060'].sum()"
   ]
  },
  {
   "cell_type": "markdown",
   "id": "7164dbf2-0323-4438-9849-8fc468f46212",
   "metadata": {},
   "source": [
    "#### Allocate In-use Emission PFAS to County_High scenario "
   ]
  },
  {
   "cell_type": "code",
   "execution_count": 15,
   "id": "944c05a9-8ca7-428a-9d3d-a6e395d4bb56",
   "metadata": {},
   "outputs": [],
   "source": [
    "df_PFAS_InuseEmission_County_High = df_County_POP.copy()"
   ]
  },
  {
   "cell_type": "code",
   "execution_count": 16,
   "id": "74cfa6c1-c3a4-4608-8179-6b1d519081fa",
   "metadata": {},
   "outputs": [],
   "source": [
    "for i in range(0,len(df_County_POP)):\n",
    "    j = 0\n",
    "    for year in range(1990,2061):\n",
    "        df_PFAS_InuseEmission_County_High.loc[i,f'{year}'] = df_County_Ratio.loc[i,f'{year}'] * df_PFAS_DATA.loc[j,'PFAS_Emission_HIGH(KG)']\n",
    "        j = j + 1"
   ]
  },
  {
   "cell_type": "code",
   "execution_count": 17,
   "id": "be89b560-577a-4b94-9389-ebb1d4c661b5",
   "metadata": {},
   "outputs": [],
   "source": [
    "df_PFAS_InuseEmission_County_High.to_csv('InUseEmission_High_Recycling.csv',index = False)"
   ]
  },
  {
   "cell_type": "code",
   "execution_count": 18,
   "id": "f6719d6e-6792-48f1-9d9e-7732b320f706",
   "metadata": {},
   "outputs": [
    {
     "data": {
      "text/plain": [
       "6925.851332999999"
      ]
     },
     "execution_count": 18,
     "metadata": {},
     "output_type": "execute_result"
    }
   ],
   "source": [
    "df_PFAS_InuseEmission_County_High['2060'].sum()"
   ]
  },
  {
   "cell_type": "markdown",
   "id": "3326680d-f097-48ca-8fde-3d4ced1bf474",
   "metadata": {},
   "source": [
    "#### Allocate In-use Emission PFAS to County_Low scenario "
   ]
  },
  {
   "cell_type": "code",
   "execution_count": 19,
   "id": "1849f784-19d3-4410-8853-63b6b97dbafa",
   "metadata": {},
   "outputs": [],
   "source": [
    "df_PFAS_InuseEmission_County_Low = df_County_POP.copy()"
   ]
  },
  {
   "cell_type": "code",
   "execution_count": 20,
   "id": "ffbf348b-b77b-43b7-9eab-f4a9ae894dc5",
   "metadata": {},
   "outputs": [],
   "source": [
    "for i in range(0,len(df_County_POP)):\n",
    "    j = 0\n",
    "    for year in range(1990,2061):\n",
    "        df_PFAS_InuseEmission_County_Low.loc[i,f'{year}'] = df_County_Ratio.loc[i,f'{year}'] * df_PFAS_DATA.loc[j,'PFAS_Emission_LOW(KG)']\n",
    "        j = j + 1"
   ]
  },
  {
   "cell_type": "code",
   "execution_count": 21,
   "id": "61b3506b-7847-491f-8888-596e0f072da0",
   "metadata": {},
   "outputs": [],
   "source": [
    "df_PFAS_InuseEmission_County_Low.to_csv('InUseEmission_Low_Recycling.csv',index = False)"
   ]
  },
  {
   "cell_type": "code",
   "execution_count": 22,
   "id": "66386230-c175-40de-b38f-9dc06216f5a6",
   "metadata": {},
   "outputs": [
    {
     "data": {
      "text/plain": [
       "76.65308889"
      ]
     },
     "execution_count": 22,
     "metadata": {},
     "output_type": "execute_result"
    }
   ],
   "source": [
    "df_PFAS_InuseEmission_County_Low['2060'].sum()"
   ]
  },
  {
   "cell_type": "code",
   "execution_count": null,
   "id": "070b53c9-8dd8-4e63-9e07-855aa7272290",
   "metadata": {},
   "outputs": [],
   "source": []
  }
 ],
 "metadata": {
  "kernelspec": {
   "display_name": "Python 3 (ipykernel)",
   "language": "python",
   "name": "python3"
  },
  "language_info": {
   "codemirror_mode": {
    "name": "ipython",
    "version": 3
   },
   "file_extension": ".py",
   "mimetype": "text/x-python",
   "name": "python",
   "nbconvert_exporter": "python",
   "pygments_lexer": "ipython3",
   "version": "3.9.16"
  }
 },
 "nbformat": 4,
 "nbformat_minor": 5
}

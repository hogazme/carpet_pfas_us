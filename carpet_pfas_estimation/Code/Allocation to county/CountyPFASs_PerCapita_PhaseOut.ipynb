{
 "cells": [
  {
   "cell_type": "code",
   "execution_count": 1,
   "id": "71fc9b64-dce3-4f62-bf13-d35dedaca9dd",
   "metadata": {},
   "outputs": [],
   "source": [
    "import pandas as pd\n",
    "import numpy as np"
   ]
  },
  {
   "cell_type": "code",
   "execution_count": 2,
   "id": "163ce756-7f9f-462a-8e7b-aebe1e31ed65",
   "metadata": {},
   "outputs": [],
   "source": [
    "df_County_POP = pd.read_csv('C:/Users/mchen48/Box/01 Research/PFASs/PFASs_in_Carpet/United_States_Pop_data/US population 1990-2060.csv')"
   ]
  },
  {
   "cell_type": "markdown",
   "id": "b9a924a2-6f8d-4980-ab2d-f43cfdada5d4",
   "metadata": {},
   "source": [
    "### Calculation of county level per capita PFASs_InUse Stock_High"
   ]
  },
  {
   "cell_type": "code",
   "execution_count": 3,
   "id": "9ee9bc5c-e30f-4f87-8cd9-2112645e3f8a",
   "metadata": {},
   "outputs": [],
   "source": [
    "df_County_InUseStock_High = pd.read_csv('C:/Users/mchen48/Box/01 Research/PFASs/PFASs_in_Carpet/00 PFAS_US_carpet/PFAS_allocation/Allocation_county_Peter/InUseStock_High_PhaseOut.csv')"
   ]
  },
  {
   "cell_type": "code",
   "execution_count": 4,
   "id": "82370d31-b59e-49fc-a5b4-6064f33c83c7",
   "metadata": {},
   "outputs": [],
   "source": [
    "df_County_PerCapita_InUseStock_High = df_County_InUseStock_High.copy()"
   ]
  },
  {
   "cell_type": "code",
   "execution_count": 5,
   "id": "3ed71dfc-6c8a-4741-ac7f-d28ac81814a4",
   "metadata": {},
   "outputs": [],
   "source": [
    "## g/cap\n",
    "df_County_PerCapita_InUseStock_High.loc[:,\"1990\":\"2060\"] = df_County_InUseStock_High.loc[:,\"1990\":\"2060\"]*1000/df_County_POP.loc[:,\"1990\":\"2060\"]"
   ]
  },
  {
   "cell_type": "code",
   "execution_count": 6,
   "id": "bbcd13a0-0ee9-4bea-a3ae-e7f5fda1040b",
   "metadata": {},
   "outputs": [],
   "source": [
    "df_County_PerCapita_InUseStock_High.to_csv('PC_InUseStock_High_PhaseOut.csv',index = False)"
   ]
  },
  {
   "cell_type": "markdown",
   "id": "aeaa5a0e-d29d-4244-b254-77574e6aa55c",
   "metadata": {},
   "source": [
    "### Calculation of county level per capita PFASs_InUse Stock_Low"
   ]
  },
  {
   "cell_type": "code",
   "execution_count": 7,
   "id": "3bbc934b-ee4b-4f02-97ae-8f09eb44d458",
   "metadata": {},
   "outputs": [],
   "source": [
    "df_County_InUseStock_Low = pd.read_csv('C:/Users/mchen48/Box/01 Research/PFASs/PFASs_in_Carpet/00 PFAS_US_carpet/PFAS_allocation/Allocation_county_Peter/InUseStock_Low_PhaseOut.csv')"
   ]
  },
  {
   "cell_type": "code",
   "execution_count": 8,
   "id": "0e1e5cbd-606c-487c-92fd-c633e7df639e",
   "metadata": {},
   "outputs": [],
   "source": [
    "df_County_PerCapita_InUseStock_Low = df_County_InUseStock_Low.copy()"
   ]
  },
  {
   "cell_type": "code",
   "execution_count": 9,
   "id": "ad9780c1-950d-4793-ac64-229348823ace",
   "metadata": {},
   "outputs": [],
   "source": [
    "df_County_PerCapita_InUseStock_Low.loc[:,\"1990\":\"2060\"] = df_County_InUseStock_Low.loc[:,\"1990\":\"2060\"]*1000/df_County_POP.loc[:,\"1990\":\"2060\"]"
   ]
  },
  {
   "cell_type": "code",
   "execution_count": 10,
   "id": "f028d9ed-d6f2-40bc-a139-f70315620323",
   "metadata": {},
   "outputs": [],
   "source": [
    "df_County_PerCapita_InUseStock_Low.to_csv('PC_InUseStock_Low_PhaseOut.csv',index = False)"
   ]
  },
  {
   "cell_type": "markdown",
   "id": "7c3eddc1-d4e7-4b59-821d-3c123e11fade",
   "metadata": {},
   "source": [
    "### Calculation of county level per capita PFASs_InUse Emission_High"
   ]
  },
  {
   "cell_type": "code",
   "execution_count": 11,
   "id": "8b65d789-26d3-4250-9bf3-5afcc7a13826",
   "metadata": {},
   "outputs": [],
   "source": [
    "df_County_InUseEmiss_High = pd.read_csv('C:/Users/mchen48/Box/01 Research/PFASs/PFASs_in_Carpet/00 PFAS_US_carpet/PFAS_allocation/Allocation_county_Peter/InUseEmission_High_PhaseOut.csv')"
   ]
  },
  {
   "cell_type": "code",
   "execution_count": 12,
   "id": "acb78e25-4b93-4a08-b661-7e957cbb4ec0",
   "metadata": {},
   "outputs": [],
   "source": [
    "df_County_PerCapita_InUseEmiss_High = df_County_InUseEmiss_High.copy()"
   ]
  },
  {
   "cell_type": "code",
   "execution_count": 13,
   "id": "384eb22d-0507-47ad-a82c-05d7601bdea9",
   "metadata": {},
   "outputs": [],
   "source": [
    "## mg/cap/year\n",
    "df_County_PerCapita_InUseEmiss_High.loc[:,\"1990\":\"2060\"] = df_County_InUseEmiss_High.loc[:,\"1990\":\"2060\"]*1000000/df_County_POP.loc[:,\"1990\":\"2060\"]"
   ]
  },
  {
   "cell_type": "code",
   "execution_count": 14,
   "id": "4942ff4d-ca3f-4bd2-951b-44b8ba85cb8a",
   "metadata": {},
   "outputs": [],
   "source": [
    "df_County_PerCapita_InUseEmiss_High.to_csv('PC_InUseEmiss_High_PhaseOut.csv',index = False)"
   ]
  },
  {
   "cell_type": "code",
   "execution_count": 15,
   "id": "0e33db61-5972-4ddf-a893-5185eb398de7",
   "metadata": {},
   "outputs": [
    {
     "data": {
      "text/plain": [
       "2.4969581090430403e-07"
      ]
     },
     "execution_count": 15,
     "metadata": {},
     "output_type": "execute_result"
    }
   ],
   "source": [
    "df_County_PerCapita_InUseEmiss_High[\"2060\"].min()"
   ]
  },
  {
   "cell_type": "markdown",
   "id": "9d23754e-e61c-4375-b3ac-c6ba98e98e70",
   "metadata": {},
   "source": [
    "### Calculation of county level per capita PFASs_InUse Emission_Low"
   ]
  },
  {
   "cell_type": "code",
   "execution_count": 16,
   "id": "ee422337-7ad8-4926-828c-4a0fc0438f6e",
   "metadata": {},
   "outputs": [],
   "source": [
    "df_County_InUseEmiss_Low = pd.read_csv('C:/Users/mchen48/Box/01 Research/PFASs/PFASs_in_Carpet/00 PFAS_US_carpet/PFAS_allocation/Allocation_county_Peter/InUseEmission_Low_PhaseOut.csv')"
   ]
  },
  {
   "cell_type": "code",
   "execution_count": 17,
   "id": "f899d591-9bdc-400a-a39a-b675d1fb3427",
   "metadata": {},
   "outputs": [],
   "source": [
    "df_County_PerCapita_InUseEmiss_Low = df_County_InUseEmiss_Low.copy()"
   ]
  },
  {
   "cell_type": "code",
   "execution_count": 18,
   "id": "7b0bf125-ebf5-4573-b1b7-1d4f3198920d",
   "metadata": {},
   "outputs": [],
   "source": [
    "df_County_PerCapita_InUseEmiss_Low.loc[:,\"1990\":\"2060\"] = df_County_InUseEmiss_Low.loc[:,\"1990\":\"2060\"]*1000000/df_County_POP.loc[:,\"1990\":\"2060\"]"
   ]
  },
  {
   "cell_type": "code",
   "execution_count": 19,
   "id": "9f6b2a80-4699-4b57-a566-3a39c2150ef8",
   "metadata": {},
   "outputs": [],
   "source": [
    "df_County_PerCapita_InUseEmiss_Low.to_csv('PC_InUseEmiss_Low_PhaseOut.csv',index = False)"
   ]
  }
 ],
 "metadata": {
  "kernelspec": {
   "display_name": "Python 3 (ipykernel)",
   "language": "python",
   "name": "python3"
  },
  "language_info": {
   "codemirror_mode": {
    "name": "ipython",
    "version": 3
   },
   "file_extension": ".py",
   "mimetype": "text/x-python",
   "name": "python",
   "nbconvert_exporter": "python",
   "pygments_lexer": "ipython3",
   "version": "3.9.16"
  }
 },
 "nbformat": 4,
 "nbformat_minor": 5
}

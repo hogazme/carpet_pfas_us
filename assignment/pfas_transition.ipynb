{
 "cells": [
  {
   "cell_type": "code",
   "execution_count": 2,
   "metadata": {},
   "outputs": [],
   "source": [
    "import pandas as pd\n",
    "import geopandas as gpd\n",
    "import numpy as np\n",
    "import matplotlib.pyplot as plt\n",
    "import seaborn as sns\n",
    "import requests\n",
    "# from bs4 import BeautifulSoup\n",
    "import os\n",
    "# import zipfilea\n",
    "from scipy.spatial import cKDTree\n",
    "# import osmnx as ox\n",
    "# import multiprocessing"
   ]
  },
  {
   "cell_type": "markdown",
   "metadata": {},
   "source": [
    "not all the pfas necessarily goes to the waste transfer stations.  \n",
    "only if the main landfill is more distant than the waste transfer"
   ]
  },
  {
   "cell_type": "code",
   "execution_count": 5,
   "metadata": {},
   "outputs": [],
   "source": [
    "year = 2020\n",
    "\n",
    "tiger_tracts = gpd.read_file('tiger/tiger_tracts_{}.geojson'.format(year))\n",
    "tiger_tracts = tiger_tracts[['GEOID', 'geometry']]\n",
    "\n",
    "landfill = pd.read_csv('landfill_{}.csv'.format(year))\n",
    "before = landfill[landfill['Year Landfill Opened'] > year]\n",
    "after = landfill[landfill['Closure_Year'] < year]\n",
    "# remove the before_2015 and after_2015 from the landfill_2015\n",
    "landfill = landfill.drop(before.index)\n",
    "landfill = landfill.drop(after.index)\n",
    "landfill = landfill[~landfill['State'].isin(['GU', 'VI'])]\n",
    "landfill = landfill.dropna(subset=['Latitude', 'Longitude'])\n",
    "landfill.drop_duplicates(subset=['Latitude', 'Longitude'], inplace=True)\n",
    "landfill.reset_index(inplace=True, drop=True)\n",
    "# create a geodataframe from the landfill\n",
    "landfill_gdf = gpd.GeoDataFrame(landfill, geometry=gpd.points_from_xy(landfill.Longitude, landfill.Latitude), crs='EPSG:4269')\n",
    "landfill_gdf['x'] = landfill_gdf.geometry.x\n",
    "landfill_gdf['y'] = landfill_gdf.geometry.y"
   ]
  },
  {
   "cell_type": "code",
   "execution_count": 6,
   "metadata": {},
   "outputs": [
    {
     "name": "stderr",
     "output_type": "stream",
     "text": [
      "C:\\Users\\hgazmeh\\AppData\\Local\\Temp\\2\\ipykernel_9352\\1357485647.py:6: UserWarning: Geometry is in a geographic CRS. Results from 'centroid' are likely incorrect. Use 'GeoSeries.to_crs()' to re-project geometries to a projected CRS before this operation.\n",
      "\n",
      "  pfas_gdf['centroid'] = pfas_gdf.geometry.centroid\n",
      "C:\\Users\\hgazmeh\\AppData\\Local\\Temp\\2\\ipykernel_9352\\1357485647.py:7: UserWarning: Geometry is in a geographic CRS. Results from 'centroid' are likely incorrect. Use 'GeoSeries.to_crs()' to re-project geometries to a projected CRS before this operation.\n",
      "\n",
      "  pfas_gdf['x'] = pfas_gdf.centroid.x\n",
      "C:\\Users\\hgazmeh\\AppData\\Local\\Temp\\2\\ipykernel_9352\\1357485647.py:8: UserWarning: Geometry is in a geographic CRS. Results from 'centroid' are likely incorrect. Use 'GeoSeries.to_crs()' to re-project geometries to a projected CRS before this operation.\n",
      "\n",
      "  pfas_gdf['y'] = pfas_gdf.centroid.y\n"
     ]
    }
   ],
   "source": [
    "pfas = pd.read_csv('PFAS_Census tracts_{}_Peter.csv'.format(year))\n",
    "pfas['GEOID'] = pfas['GEO_ID'].str[9:]\n",
    "pfas = pfas[['GEOID', 'PFAS_CT_{}'.format(year)]]\n",
    "pfas_gdf = pfas.merge(tiger_tracts, on='GEOID', how='left')\n",
    "pfas_gdf = gpd.GeoDataFrame(pfas_gdf, geometry=pfas_gdf.geometry, crs='EPSG:4269')\n",
    "pfas_gdf['centroid'] = pfas_gdf.geometry.centroid\n",
    "pfas_gdf['x'] = pfas_gdf.centroid.x\n",
    "pfas_gdf['y'] = pfas_gdf.centroid.y\n",
    "pfas_gdf = pfas_gdf.dropna(subset=['x', 'y'])"
   ]
  },
  {
   "cell_type": "markdown",
   "metadata": {},
   "source": [
    "### get the waste transfer stations"
   ]
  },
  {
   "cell_type": "code",
   "execution_count": 3,
   "metadata": {},
   "outputs": [],
   "source": [
    "landfill_trans = pd.read_csv('Transfer Station.csv')\n",
    "# landfill_trans = landfill_trans[['Latitude','Longitude','Landfill','Transfer Station','DDRT_ID','x','y']]\n",
    "landfill_trans = landfill_trans.dropna(subset=['Latitude', 'Longitude'])\n",
    "landfill_trans.drop_duplicates(subset=['Latitude', 'Longitude'], inplace=True)\n",
    "landfill_trans.reset_index(inplace=True, drop=True)\n",
    "# add a id column\n",
    "landfill_trans['landfill_trans_id'] = landfill_trans.index + 1 \n",
    "# create a geodataframe from the landfill\n",
    "landfill_trans_gdf = gpd.GeoDataFrame(landfill_trans, geometry=gpd.points_from_xy(landfill_trans.Longitude, landfill_trans.Latitude), crs='EPSG:4269')\n",
    "landfill_trans_gdf['x'] = landfill_trans_gdf.geometry.x\n",
    "landfill_trans_gdf['y'] = landfill_trans_gdf.geometry.y\n",
    "\n",
    "waste_transfer_stations = landfill_trans_gdf[landfill_trans_gdf['Landfill'] == 'No']\n",
    "waste_transfer_stations.reset_index(inplace=True, drop=True)\n",
    "# waste_transfer_stations.to_file('waste_transfer_stations.geojson', driver='GeoJSON')\n",
    "# waste_transfer_stations.to_csv('waste_transfer_stations.csv', index=False)"
   ]
  },
  {
   "cell_type": "markdown",
   "metadata": {},
   "source": [
    "### get the main landfill facilities"
   ]
  },
  {
   "cell_type": "code",
   "execution_count": 18,
   "metadata": {},
   "outputs": [],
   "source": [
    "landfill_gdf_sub = landfill_gdf[['City', 'State', 'Zip Code', 'Latitude', 'Longitude', 'Landfill ID']]\n",
    "\n",
    "additional_landfills = landfill_trans_gdf[landfill_trans_gdf['Landfill'] == 'Yes']\n",
    "additional_landfills  = additional_landfills[['City', 'State', 'Zip', 'Latitude', 'Longitude', 'DDRT_ID']]\n",
    "additional_landfills.rename(columns={'Zip':'Zip Code'}, inplace=True)\n",
    "\n",
    "# concat two dataframes into one\n",
    "main_landfills = pd.concat([landfill_gdf_sub, additional_landfills], axis=0)\n",
    "main_landfills['main_landfill_ID'] = main_landfills['Landfill ID'].fillna(main_landfills['DDRT_ID'])\n",
    "main_landfills_gdf = gpd.GeoDataFrame(main_landfills, geometry=gpd.points_from_xy(main_landfills.Longitude, main_landfills.Latitude), crs='EPSG:4269')\n",
    "main_landfills_gdf.drop_duplicates(subset=['Latitude', 'Longitude'], inplace=True)\n",
    "main_landfills_gdf.reset_index(inplace=True, drop=True)\n",
    "# main_landfills_gdf.to_file(\"main_landfills_gdf.geojson\", driver='GeoJSON')\n",
    "# main_landfills_gdf.to_csv(\"main_landfills_gdf.csv\", index=False)"
   ]
  },
  {
   "cell_type": "markdown",
   "metadata": {},
   "source": [
    "## assignment  \n",
    "- we create a dataframe of all the main landfills and the waste transfer stations  \n",
    "- and assign the census tracts to them  \n",
    "- if a census tract is assigned to the waste transfer station, we perform a second assignment"
   ]
  },
  {
   "cell_type": "markdown",
   "metadata": {},
   "source": [
    "1- dataframe of all the main landfills"
   ]
  },
  {
   "cell_type": "code",
   "execution_count": 43,
   "metadata": {},
   "outputs": [
    {
     "name": "stderr",
     "output_type": "stream",
     "text": [
      "c:\\Users\\hgazmeh\\Anaconda3\\envs\\myenv\\lib\\site-packages\\geopandas\\geodataframe.py:1538: SettingWithCopyWarning: \n",
      "A value is trying to be set on a copy of a slice from a DataFrame.\n",
      "Try using .loc[row_indexer,col_indexer] = value instead\n",
      "\n",
      "See the caveats in the documentation: https://pandas.pydata.org/pandas-docs/stable/user_guide/indexing.html#returning-a-view-versus-a-copy\n",
      "  super().__setitem__(key, value)\n",
      "c:\\Users\\hgazmeh\\Anaconda3\\envs\\myenv\\lib\\site-packages\\geopandas\\geodataframe.py:1538: SettingWithCopyWarning: \n",
      "A value is trying to be set on a copy of a slice from a DataFrame.\n",
      "Try using .loc[row_indexer,col_indexer] = value instead\n",
      "\n",
      "See the caveats in the documentation: https://pandas.pydata.org/pandas-docs/stable/user_guide/indexing.html#returning-a-view-versus-a-copy\n",
      "  super().__setitem__(key, value)\n"
     ]
    }
   ],
   "source": [
    "waste_transfer_stations['facility_id'] = waste_transfer_stations['DDRT_ID']\n",
    "waste_transfer_stations['facility_label'] = 'WTS'\n",
    "main_landfills_gdf['facility_id'] = main_landfills_gdf['main_landfill_ID']\n",
    "main_landfills_gdf['facility_label'] = 'MLF'\n",
    "\n",
    "all_facilities = pd.concat([waste_transfer_stations[['Latitude', 'Longitude', 'facility_id', 'facility_label']], main_landfills_gdf[['Latitude', 'Longitude', 'facility_id', 'facility_label']]], axis=0)\n",
    "all_facilities = gpd.GeoDataFrame(all_facilities, geometry=gpd.points_from_xy(all_facilities.Longitude, all_facilities.Latitude), crs='EPSG:4269')\n",
    "all_facilities.reset_index(inplace=True, drop=True)\n",
    "# all_facilities.to_file('all_facilities.geojson', driver='GeoJSON')\n",
    "# all_facilities.to_csv('all_facilities.csv', index=False)"
   ]
  },
  {
   "cell_type": "markdown",
   "metadata": {},
   "source": [
    "2- assignment of all the facilities to the cts  \n",
    "done using the road_shapefiles and kdtree available here"
   ]
  },
  {
   "cell_type": "code",
   "execution_count": 57,
   "metadata": {},
   "outputs": [
    {
     "name": "stderr",
     "output_type": "stream",
     "text": [
      "C:\\Users\\hgazmeh\\AppData\\Local\\Temp\\2\\ipykernel_18052\\1159401190.py:6: SettingWithCopyWarning: \n",
      "A value is trying to be set on a copy of a slice from a DataFrame.\n",
      "Try using .loc[row_indexer,col_indexer] = value instead\n",
      "\n",
      "See the caveats in the documentation: https://pandas.pydata.org/pandas-docs/stable/user_guide/indexing.html#returning-a-view-versus-a-copy\n",
      "  pfas_gdf_sub['facility_assigned'] = pfas_gdf_sub.apply(lambda x: assign_tree_facility(x['x'], x['y'], all_facilities_sub), axis=1)\n"
     ]
    }
   ],
   "source": [
    "all_assignment = pd.read_csv('all_assignment.csv')\n",
    "\n",
    "pfas_mlf = all_assignment[all_assignment['facility_label'] == 'MLF']\n",
    "pfas_wts = all_assignment[all_assignment['facility_label'] == 'WTS']"
   ]
  },
  {
   "cell_type": "markdown",
   "metadata": {},
   "source": [
    "waste transfer stations assignment to the nearest station "
   ]
  },
  {
   "cell_type": "code",
   "execution_count": 83,
   "metadata": {},
   "outputs": [
    {
     "name": "stderr",
     "output_type": "stream",
     "text": [
      "c:\\Users\\hgazmeh\\Anaconda3\\envs\\myenv\\lib\\site-packages\\geopandas\\geodataframe.py:1538: SettingWithCopyWarning: \n",
      "A value is trying to be set on a copy of a slice from a DataFrame.\n",
      "Try using .loc[row_indexer,col_indexer] = value instead\n",
      "\n",
      "See the caveats in the documentation: https://pandas.pydata.org/pandas-docs/stable/user_guide/indexing.html#returning-a-view-versus-a-copy\n",
      "  super().__setitem__(key, value)\n"
     ]
    }
   ],
   "source": [
    "def assign_tree_facility(x, y, landfills):\n",
    "    landfill_tree = cKDTree(landfills[['x', 'y']])\n",
    "    _, nearest_indices = landfill_tree.query([x, y], k=1)\n",
    "    # # select the top 5 nearest landfills\n",
    "    sub_landfills = landfills.iloc[nearest_indices]['facility_id']\n",
    "    return sub_landfills\n",
    "\n",
    "main_landfills_gdf['x'] = main_landfills_gdf.geometry.x\n",
    "main_landfills_gdf['y'] = main_landfills_gdf.geometry.y\n",
    "\n",
    "main_landfills_gdf_sub1 = main_landfills_gdf[['facility_id', 'x', 'y', 'facility_label']]\n",
    "waste_transfer_stations['mlf_assigned'] = waste_transfer_stations.apply(lambda x: assign_tree_facility(x['x'], x['y'], main_landfills_gdf_sub1), axis=1)\n",
    "\n",
    "pfas_wts = pfas_wts.merge(waste_transfer_stations[['facility_id', 'mlf_assigned']], on='facility_id', how='left') "
   ]
  },
  {
   "cell_type": "markdown",
   "metadata": {},
   "source": [
    "all pfas from cts are assigned"
   ]
  },
  {
   "cell_type": "code",
   "execution_count": 98,
   "metadata": {},
   "outputs": [],
   "source": [
    "pfas_all_assigned = pd.concat([pfas_mlf, pfas_wts], axis=0)\n",
    "pfas_all_assigned.reset_index(inplace=True, drop=True)\n",
    "pfas_all_assigned['main_landfill_ID'] = pfas_all_assigned['mlf_assigned'].fillna(pfas_all_assigned['facility_id'])\n",
    "# pfas_all_assigned.to_csv('pfas_all_assigned.csv', index=False)"
   ]
  },
  {
   "cell_type": "markdown",
   "metadata": {},
   "source": [
    "get the facility files"
   ]
  },
  {
   "cell_type": "code",
   "execution_count": 112,
   "metadata": {},
   "outputs": [],
   "source": [
    "pfas_gdf_sub_s1 = pfas_all_assigned[['main_landfill_ID', 'PFAS_CT_2020']].groupby('main_landfill_ID').sum().reset_index()\n",
    "pfas_gdf_sub_s2 = pfas_wts[['facility_id', 'PFAS_CT_2020']].groupby('facility_id').sum().reset_index()\n",
    "\n",
    "pfas_gdf_sub_s1 = main_landfills_gdf.merge(pfas_gdf_sub_s1, on='main_landfill_ID', how='left')\n",
    "pfas_gdf_sub_s2 = waste_transfer_stations.merge(pfas_gdf_sub_s2, on='facility_label', how='left')\n",
    "\n",
    "# pfas_gdf_sub_s1.to_csv('MLF_pfas_assigned.csv', index=False)\n",
    "# pfas_gdf_sub_s2.to_csv('WTS_pfas_assigned.csv', index=False)"
   ]
  }
 ],
 "metadata": {
  "kernelspec": {
   "display_name": "ox",
   "language": "python",
   "name": "python3"
  },
  "language_info": {
   "codemirror_mode": {
    "name": "ipython",
    "version": 3
   },
   "file_extension": ".py",
   "mimetype": "text/x-python",
   "name": "python",
   "nbconvert_exporter": "python",
   "pygments_lexer": "ipython3",
   "version": "3.10.4"
  },
  "orig_nbformat": 4
 },
 "nbformat": 4,
 "nbformat_minor": 2
}
